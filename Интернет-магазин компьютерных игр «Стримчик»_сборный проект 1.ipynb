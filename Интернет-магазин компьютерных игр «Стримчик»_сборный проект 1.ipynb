{
 "cells": [
  {
   "cell_type": "markdown",
   "id": "b07f4c5c",
   "metadata": {},
   "source": [
    "# Сборный проект"
   ]
  },
  {
   "cell_type": "markdown",
   "id": "70b02b8b",
   "metadata": {},
   "source": [
    "**Описание проекта**\n",
    "\n",
    "Вы работаете в интернет-магазине «Стримчик», который продаёт по всему миру компьютерные игры. Из открытых источников доступны исторические данные о продажах игр, оценки пользователей и экспертов, жанры и платформы (например, Xbox или PlayStation). Вам нужно выявить определяющие успешность игры закономерности. Это позволит сделать ставку на потенциально популярный продукт и спланировать рекламные кампании.\n",
    "Перед вами данные до 2016 года. Представим, что сейчас декабрь 2016 г., и вы планируете кампанию на 2017-й. Нужно отработать принцип работы с данными. Неважно, прогнозируете ли вы продажи на 2017 год по данным 2016-го или же 2027-й — по данным 2026 года.\n",
    "В наборе данных попадается аббревиатура ESRB (Entertainment Software Rating Board) — это ассоциация, определяющая возрастной рейтинг компьютерных игр. ESRB оценивает игровой контент и присваивает ему подходящую возрастную категорию, например, «Для взрослых», «Для детей младшего возраста» или «Для подростков»."
   ]
  },
  {
   "cell_type": "markdown",
   "id": "dfb7f9db",
   "metadata": {},
   "source": [
    "**Описание данных**\n",
    "- Name — название игры\n",
    "- Platform — платформа\n",
    "- Year_of_Release — год выпуска\n",
    "- Genre — жанр игры\n",
    "- NA_sales — продажи в Северной Америке (миллионы проданных копий)\n",
    "- EU_sales — продажи в Европе (миллионы проданных копий)\n",
    "- JP_sales — продажи в Японии (миллионы проданных копий)\n",
    "- Other_sales — продажи в других странах (миллионы проданных копий)\n",
    "- Critic_Score — оценка критиков (максимум 100)\n",
    "- User_Score — оценка пользователей (максимум 10)\n",
    "- Rating — рейтинг от организации ESRB (англ. Entertainment Software Rating Board). Эта ассоциация определяет рейтинг компьютерных игр и присваивает им подходящую возрастную категорию.\n",
    "\n",
    "Данные за 2016 год могут быть неполными."
   ]
  },
  {
   "cell_type": "markdown",
   "id": "1b45056c",
   "metadata": {},
   "source": [
    "## Изучение данных из файлов"
   ]
  },
  {
   "cell_type": "code",
   "execution_count": 1,
   "id": "01156cb9",
   "metadata": {},
   "outputs": [
    {
     "data": {
      "text/html": [
       "<div>\n",
       "<style scoped>\n",
       "    .dataframe tbody tr th:only-of-type {\n",
       "        vertical-align: middle;\n",
       "    }\n",
       "\n",
       "    .dataframe tbody tr th {\n",
       "        vertical-align: top;\n",
       "    }\n",
       "\n",
       "    .dataframe thead th {\n",
       "        text-align: right;\n",
       "    }\n",
       "</style>\n",
       "<table border=\"1\" class=\"dataframe\">\n",
       "  <thead>\n",
       "    <tr style=\"text-align: right;\">\n",
       "      <th></th>\n",
       "      <th>Name</th>\n",
       "      <th>Platform</th>\n",
       "      <th>Year_of_Release</th>\n",
       "      <th>Genre</th>\n",
       "      <th>NA_sales</th>\n",
       "      <th>EU_sales</th>\n",
       "      <th>JP_sales</th>\n",
       "      <th>Other_sales</th>\n",
       "      <th>Critic_Score</th>\n",
       "      <th>User_Score</th>\n",
       "      <th>Rating</th>\n",
       "    </tr>\n",
       "  </thead>\n",
       "  <tbody>\n",
       "    <tr>\n",
       "      <td>0</td>\n",
       "      <td>Wii Sports</td>\n",
       "      <td>Wii</td>\n",
       "      <td>2006.0</td>\n",
       "      <td>Sports</td>\n",
       "      <td>41.36</td>\n",
       "      <td>28.96</td>\n",
       "      <td>3.77</td>\n",
       "      <td>8.45</td>\n",
       "      <td>76.0</td>\n",
       "      <td>8</td>\n",
       "      <td>E</td>\n",
       "    </tr>\n",
       "    <tr>\n",
       "      <td>1</td>\n",
       "      <td>Super Mario Bros.</td>\n",
       "      <td>NES</td>\n",
       "      <td>1985.0</td>\n",
       "      <td>Platform</td>\n",
       "      <td>29.08</td>\n",
       "      <td>3.58</td>\n",
       "      <td>6.81</td>\n",
       "      <td>0.77</td>\n",
       "      <td>NaN</td>\n",
       "      <td>NaN</td>\n",
       "      <td>NaN</td>\n",
       "    </tr>\n",
       "    <tr>\n",
       "      <td>2</td>\n",
       "      <td>Mario Kart Wii</td>\n",
       "      <td>Wii</td>\n",
       "      <td>2008.0</td>\n",
       "      <td>Racing</td>\n",
       "      <td>15.68</td>\n",
       "      <td>12.76</td>\n",
       "      <td>3.79</td>\n",
       "      <td>3.29</td>\n",
       "      <td>82.0</td>\n",
       "      <td>8.3</td>\n",
       "      <td>E</td>\n",
       "    </tr>\n",
       "    <tr>\n",
       "      <td>3</td>\n",
       "      <td>Wii Sports Resort</td>\n",
       "      <td>Wii</td>\n",
       "      <td>2009.0</td>\n",
       "      <td>Sports</td>\n",
       "      <td>15.61</td>\n",
       "      <td>10.93</td>\n",
       "      <td>3.28</td>\n",
       "      <td>2.95</td>\n",
       "      <td>80.0</td>\n",
       "      <td>8</td>\n",
       "      <td>E</td>\n",
       "    </tr>\n",
       "    <tr>\n",
       "      <td>4</td>\n",
       "      <td>Pokemon Red/Pokemon Blue</td>\n",
       "      <td>GB</td>\n",
       "      <td>1996.0</td>\n",
       "      <td>Role-Playing</td>\n",
       "      <td>11.27</td>\n",
       "      <td>8.89</td>\n",
       "      <td>10.22</td>\n",
       "      <td>1.00</td>\n",
       "      <td>NaN</td>\n",
       "      <td>NaN</td>\n",
       "      <td>NaN</td>\n",
       "    </tr>\n",
       "    <tr>\n",
       "      <td>...</td>\n",
       "      <td>...</td>\n",
       "      <td>...</td>\n",
       "      <td>...</td>\n",
       "      <td>...</td>\n",
       "      <td>...</td>\n",
       "      <td>...</td>\n",
       "      <td>...</td>\n",
       "      <td>...</td>\n",
       "      <td>...</td>\n",
       "      <td>...</td>\n",
       "      <td>...</td>\n",
       "    </tr>\n",
       "    <tr>\n",
       "      <td>16710</td>\n",
       "      <td>Samurai Warriors: Sanada Maru</td>\n",
       "      <td>PS3</td>\n",
       "      <td>2016.0</td>\n",
       "      <td>Action</td>\n",
       "      <td>0.00</td>\n",
       "      <td>0.00</td>\n",
       "      <td>0.01</td>\n",
       "      <td>0.00</td>\n",
       "      <td>NaN</td>\n",
       "      <td>NaN</td>\n",
       "      <td>NaN</td>\n",
       "    </tr>\n",
       "    <tr>\n",
       "      <td>16711</td>\n",
       "      <td>LMA Manager 2007</td>\n",
       "      <td>X360</td>\n",
       "      <td>2006.0</td>\n",
       "      <td>Sports</td>\n",
       "      <td>0.00</td>\n",
       "      <td>0.01</td>\n",
       "      <td>0.00</td>\n",
       "      <td>0.00</td>\n",
       "      <td>NaN</td>\n",
       "      <td>NaN</td>\n",
       "      <td>NaN</td>\n",
       "    </tr>\n",
       "    <tr>\n",
       "      <td>16712</td>\n",
       "      <td>Haitaka no Psychedelica</td>\n",
       "      <td>PSV</td>\n",
       "      <td>2016.0</td>\n",
       "      <td>Adventure</td>\n",
       "      <td>0.00</td>\n",
       "      <td>0.00</td>\n",
       "      <td>0.01</td>\n",
       "      <td>0.00</td>\n",
       "      <td>NaN</td>\n",
       "      <td>NaN</td>\n",
       "      <td>NaN</td>\n",
       "    </tr>\n",
       "    <tr>\n",
       "      <td>16713</td>\n",
       "      <td>Spirits &amp; Spells</td>\n",
       "      <td>GBA</td>\n",
       "      <td>2003.0</td>\n",
       "      <td>Platform</td>\n",
       "      <td>0.01</td>\n",
       "      <td>0.00</td>\n",
       "      <td>0.00</td>\n",
       "      <td>0.00</td>\n",
       "      <td>NaN</td>\n",
       "      <td>NaN</td>\n",
       "      <td>NaN</td>\n",
       "    </tr>\n",
       "    <tr>\n",
       "      <td>16714</td>\n",
       "      <td>Winning Post 8 2016</td>\n",
       "      <td>PSV</td>\n",
       "      <td>2016.0</td>\n",
       "      <td>Simulation</td>\n",
       "      <td>0.00</td>\n",
       "      <td>0.00</td>\n",
       "      <td>0.01</td>\n",
       "      <td>0.00</td>\n",
       "      <td>NaN</td>\n",
       "      <td>NaN</td>\n",
       "      <td>NaN</td>\n",
       "    </tr>\n",
       "  </tbody>\n",
       "</table>\n",
       "<p>16715 rows × 11 columns</p>\n",
       "</div>"
      ],
      "text/plain": [
       "                                Name Platform  Year_of_Release         Genre  \\\n",
       "0                         Wii Sports      Wii           2006.0        Sports   \n",
       "1                  Super Mario Bros.      NES           1985.0      Platform   \n",
       "2                     Mario Kart Wii      Wii           2008.0        Racing   \n",
       "3                  Wii Sports Resort      Wii           2009.0        Sports   \n",
       "4           Pokemon Red/Pokemon Blue       GB           1996.0  Role-Playing   \n",
       "...                              ...      ...              ...           ...   \n",
       "16710  Samurai Warriors: Sanada Maru      PS3           2016.0        Action   \n",
       "16711               LMA Manager 2007     X360           2006.0        Sports   \n",
       "16712        Haitaka no Psychedelica      PSV           2016.0     Adventure   \n",
       "16713               Spirits & Spells      GBA           2003.0      Platform   \n",
       "16714            Winning Post 8 2016      PSV           2016.0    Simulation   \n",
       "\n",
       "       NA_sales  EU_sales  JP_sales  Other_sales  Critic_Score User_Score  \\\n",
       "0         41.36     28.96      3.77         8.45          76.0          8   \n",
       "1         29.08      3.58      6.81         0.77           NaN        NaN   \n",
       "2         15.68     12.76      3.79         3.29          82.0        8.3   \n",
       "3         15.61     10.93      3.28         2.95          80.0          8   \n",
       "4         11.27      8.89     10.22         1.00           NaN        NaN   \n",
       "...         ...       ...       ...          ...           ...        ...   \n",
       "16710      0.00      0.00      0.01         0.00           NaN        NaN   \n",
       "16711      0.00      0.01      0.00         0.00           NaN        NaN   \n",
       "16712      0.00      0.00      0.01         0.00           NaN        NaN   \n",
       "16713      0.01      0.00      0.00         0.00           NaN        NaN   \n",
       "16714      0.00      0.00      0.01         0.00           NaN        NaN   \n",
       "\n",
       "      Rating  \n",
       "0          E  \n",
       "1        NaN  \n",
       "2          E  \n",
       "3          E  \n",
       "4        NaN  \n",
       "...      ...  \n",
       "16710    NaN  \n",
       "16711    NaN  \n",
       "16712    NaN  \n",
       "16713    NaN  \n",
       "16714    NaN  \n",
       "\n",
       "[16715 rows x 11 columns]"
      ]
     },
     "execution_count": 1,
     "metadata": {},
     "output_type": "execute_result"
    }
   ],
   "source": [
    "import pandas as pd\n",
    "import numpy as np\n",
    "import matplotlib.pyplot as plt\n",
    "from scipy import stats as st\n",
    "import seaborn as sbn\n",
    "import warnings \n",
    "warnings.simplefilter('ignore')\n",
    "\n",
    "games = pd.read_csv('/datasets/games.csv')\n",
    "#games = pd.read_csv('games.csv')\n",
    "games"
   ]
  },
  {
   "cell_type": "markdown",
   "id": "4780fc2a",
   "metadata": {},
   "source": [
    "Названия столбцов содержат прописные буквы, необходимо привести их к строчным. Столбец Year_of_Release необходимо привести к целочисленным значениям.\n",
    "\n"
   ]
  },
  {
   "cell_type": "code",
   "execution_count": 2,
   "id": "0c39efa7",
   "metadata": {},
   "outputs": [
    {
     "name": "stdout",
     "output_type": "stream",
     "text": [
      "<class 'pandas.core.frame.DataFrame'>\n",
      "RangeIndex: 16715 entries, 0 to 16714\n",
      "Data columns (total 11 columns):\n",
      "Name               16713 non-null object\n",
      "Platform           16715 non-null object\n",
      "Year_of_Release    16446 non-null float64\n",
      "Genre              16713 non-null object\n",
      "NA_sales           16715 non-null float64\n",
      "EU_sales           16715 non-null float64\n",
      "JP_sales           16715 non-null float64\n",
      "Other_sales        16715 non-null float64\n",
      "Critic_Score       8137 non-null float64\n",
      "User_Score         10014 non-null object\n",
      "Rating             9949 non-null object\n",
      "dtypes: float64(6), object(5)\n",
      "memory usage: 1.4+ MB\n"
     ]
    }
   ],
   "source": [
    "games.info()"
   ]
  },
  {
   "cell_type": "markdown",
   "id": "07761846",
   "metadata": {},
   "source": [
    "Столбец User_Score имеет тип данных object, но содержит данные в виде цифр, необходимо изменить тип данных на float."
   ]
  },
  {
   "cell_type": "code",
   "execution_count": 3,
   "id": "6333b14d",
   "metadata": {},
   "outputs": [
    {
     "data": {
      "text/plain": [
       "Name                  2\n",
       "Platform              0\n",
       "Year_of_Release     269\n",
       "Genre                 2\n",
       "NA_sales              0\n",
       "EU_sales              0\n",
       "JP_sales              0\n",
       "Other_sales           0\n",
       "Critic_Score       8578\n",
       "User_Score         6701\n",
       "Rating             6766\n",
       "dtype: int64"
      ]
     },
     "execution_count": 3,
     "metadata": {},
     "output_type": "execute_result"
    }
   ],
   "source": [
    "# Посмотрим пропуски\n",
    "games.isna().sum()"
   ]
  },
  {
   "cell_type": "markdown",
   "id": "5b047380",
   "metadata": {},
   "source": [
    "Пропуски обнаружены в следующих столбцах: Name, Year_of_Release, Genre, Critic_Score, User_Score, Rating.\n",
    "\n",
    "Пропуски в столбцах Name, Genre и Year_of_Releas мы не можем заполнить какими-либо значениями, поэтому, учитывая не значительный процент пропусков(~1.5%), эти строки необходимо удалить.\n",
    "\n",
    "Пропуски в столбцах Critic_Score, User_Score, Rating мы также не имеем возможности заполнить, тк заполнение средним или медианным значением моджет сильно исказить данные. Поэтому, учитывая значительный процент пропусков (~ от 40% до 51%), эти данные оставим без изменения."
   ]
  },
  {
   "cell_type": "code",
   "execution_count": 4,
   "id": "2193a97d",
   "metadata": {},
   "outputs": [
    {
     "data": {
      "text/plain": [
       "tbd    2424\n",
       "7.8     324\n",
       "8       290\n",
       "8.2     282\n",
       "8.3     254\n",
       "       ... \n",
       "1.3       2\n",
       "0.2       2\n",
       "2.3       2\n",
       "0         1\n",
       "9.7       1\n",
       "Name: User_Score, Length: 96, dtype: int64"
      ]
     },
     "execution_count": 4,
     "metadata": {},
     "output_type": "execute_result"
    }
   ],
   "source": [
    "games['User_Score'].value_counts()"
   ]
  },
  {
   "cell_type": "markdown",
   "id": "0af2c7d8",
   "metadata": {},
   "source": [
    "В столбце User_Score достаточно большой процент данных занимает аббревиатура 'tbd'. Она означает to be defined (предстоит определить). Нужно будет заменить его пропусками.\n"
   ]
  },
  {
   "cell_type": "markdown",
   "id": "7980018c",
   "metadata": {},
   "source": [
    "### Вывод"
   ]
  },
  {
   "cell_type": "markdown",
   "id": "a5c801f2",
   "metadata": {},
   "source": [
    "Основные проблемы в данных выявлены, далее займемся их обработкой, приведем названия столбцов к нижнему регистру, изменим типы данных, удалим пропущенные значения, заменим не определенные значения на пропуски."
   ]
  },
  {
   "cell_type": "markdown",
   "id": "86c91934",
   "metadata": {},
   "source": [
    "## Предобработка данных"
   ]
  },
  {
   "cell_type": "code",
   "execution_count": 5,
   "id": "f9a9bfc1",
   "metadata": {
    "scrolled": true
   },
   "outputs": [
    {
     "name": "stdout",
     "output_type": "stream",
     "text": [
      "<class 'pandas.core.frame.DataFrame'>\n",
      "RangeIndex: 16715 entries, 0 to 16714\n",
      "Data columns (total 11 columns):\n",
      "name               16713 non-null object\n",
      "platform           16715 non-null object\n",
      "year_of_release    16446 non-null float64\n",
      "genre              16713 non-null object\n",
      "na_sales           16715 non-null float64\n",
      "eu_sales           16715 non-null float64\n",
      "jp_sales           16715 non-null float64\n",
      "other_sales        16715 non-null float64\n",
      "critic_score       8137 non-null float64\n",
      "user_score         10014 non-null object\n",
      "rating             9949 non-null object\n",
      "dtypes: float64(6), object(5)\n",
      "memory usage: 1.4+ MB\n"
     ]
    }
   ],
   "source": [
    "# Приведем названия всех столбцов к нижнему регистру:\n",
    "games = games.rename(columns={'Name':'name',\n",
    "                              'Platform':'platform', \n",
    "                              'Year_of_Release':'year_of_release', \n",
    "                              'Genre':'genre',\n",
    "                              'NA_sales':'na_sales',\n",
    "                              'EU_sales':'eu_sales',\n",
    "                              'JP_sales':'jp_sales',\n",
    "                              'Other_sales':'other_sales',\n",
    "                              'Critic_Score':'critic_score', \n",
    "                              'User_Score':'user_score',\n",
    "                              'Rating':'rating'})\n",
    "games.info()"
   ]
  },
  {
   "cell_type": "code",
   "execution_count": 6,
   "id": "49183804",
   "metadata": {
    "scrolled": true
   },
   "outputs": [
    {
     "data": {
      "text/plain": [
       "name                  0\n",
       "platform              0\n",
       "year_of_release       0\n",
       "genre                 0\n",
       "na_sales              0\n",
       "eu_sales              0\n",
       "jp_sales              0\n",
       "other_sales           0\n",
       "critic_score       8461\n",
       "user_score         6605\n",
       "rating             6676\n",
       "dtype: int64"
      ]
     },
     "execution_count": 6,
     "metadata": {},
     "output_type": "execute_result"
    }
   ],
   "source": [
    "# Удалим строки с пропущенными значениями в столбце name, genre и year_of_release методом .dropna():\n",
    "games = games.dropna(subset=['name', 'genre', 'year_of_release']) \n",
    "games.isna().sum()"
   ]
  },
  {
   "cell_type": "code",
   "execution_count": 7,
   "id": "64f47cf5",
   "metadata": {},
   "outputs": [
    {
     "name": "stdout",
     "output_type": "stream",
     "text": [
      "<class 'pandas.core.frame.DataFrame'>\n",
      "Int64Index: 16444 entries, 0 to 16714\n",
      "Data columns (total 11 columns):\n",
      "name               16444 non-null object\n",
      "platform           16444 non-null object\n",
      "year_of_release    16444 non-null int64\n",
      "genre              16444 non-null object\n",
      "na_sales           16444 non-null float64\n",
      "eu_sales           16444 non-null float64\n",
      "jp_sales           16444 non-null float64\n",
      "other_sales        16444 non-null float64\n",
      "critic_score       7983 non-null float64\n",
      "user_score         9839 non-null object\n",
      "rating             9768 non-null object\n",
      "dtypes: float64(5), int64(1), object(5)\n",
      "memory usage: 1.5+ MB\n"
     ]
    }
   ],
   "source": [
    "# Заменим тип данных в столбце year_of_release на int:\n",
    "games['year_of_release'] = games['year_of_release'].astype('int')\n",
    "games.info()"
   ]
  },
  {
   "cell_type": "code",
   "execution_count": 8,
   "id": "d3a20545",
   "metadata": {},
   "outputs": [
    {
     "data": {
      "text/plain": [
       "7.8    322\n",
       "8.0    285\n",
       "8.2    276\n",
       "8.3    252\n",
       "7.5    249\n",
       "      ... \n",
       "9.6      2\n",
       "0.6      2\n",
       "1.9      2\n",
       "9.7      1\n",
       "0.0      1\n",
       "Name: user_score, Length: 95, dtype: int64"
      ]
     },
     "execution_count": 8,
     "metadata": {},
     "output_type": "execute_result"
    }
   ],
   "source": [
    "# Заменим tbd на пропуски:\n",
    "games.loc[games['user_score'] == 'tbd', 'user_score'] = float('NaN')\n",
    "# Изменим тип данных в столбце user_score:\n",
    "games['user_score'] = games['user_score'].astype(float)\n",
    "games['user_score'].value_counts()"
   ]
  },
  {
   "cell_type": "code",
   "execution_count": 9,
   "id": "fbf56407",
   "metadata": {},
   "outputs": [
    {
     "data": {
      "text/html": [
       "<div>\n",
       "<style scoped>\n",
       "    .dataframe tbody tr th:only-of-type {\n",
       "        vertical-align: middle;\n",
       "    }\n",
       "\n",
       "    .dataframe tbody tr th {\n",
       "        vertical-align: top;\n",
       "    }\n",
       "\n",
       "    .dataframe thead th {\n",
       "        text-align: right;\n",
       "    }\n",
       "</style>\n",
       "<table border=\"1\" class=\"dataframe\">\n",
       "  <thead>\n",
       "    <tr style=\"text-align: right;\">\n",
       "      <th></th>\n",
       "      <th>name</th>\n",
       "      <th>platform</th>\n",
       "      <th>year_of_release</th>\n",
       "      <th>genre</th>\n",
       "      <th>na_sales</th>\n",
       "      <th>eu_sales</th>\n",
       "      <th>jp_sales</th>\n",
       "      <th>other_sales</th>\n",
       "      <th>critic_score</th>\n",
       "      <th>user_score</th>\n",
       "      <th>rating</th>\n",
       "      <th>sum_sales</th>\n",
       "    </tr>\n",
       "  </thead>\n",
       "  <tbody>\n",
       "    <tr>\n",
       "      <td>0</td>\n",
       "      <td>Wii Sports</td>\n",
       "      <td>Wii</td>\n",
       "      <td>2006</td>\n",
       "      <td>Sports</td>\n",
       "      <td>41.36</td>\n",
       "      <td>28.96</td>\n",
       "      <td>3.77</td>\n",
       "      <td>8.45</td>\n",
       "      <td>76.0</td>\n",
       "      <td>8.0</td>\n",
       "      <td>E</td>\n",
       "      <td>82.54</td>\n",
       "    </tr>\n",
       "    <tr>\n",
       "      <td>1</td>\n",
       "      <td>Super Mario Bros.</td>\n",
       "      <td>NES</td>\n",
       "      <td>1985</td>\n",
       "      <td>Platform</td>\n",
       "      <td>29.08</td>\n",
       "      <td>3.58</td>\n",
       "      <td>6.81</td>\n",
       "      <td>0.77</td>\n",
       "      <td>NaN</td>\n",
       "      <td>NaN</td>\n",
       "      <td>NaN</td>\n",
       "      <td>40.24</td>\n",
       "    </tr>\n",
       "    <tr>\n",
       "      <td>2</td>\n",
       "      <td>Mario Kart Wii</td>\n",
       "      <td>Wii</td>\n",
       "      <td>2008</td>\n",
       "      <td>Racing</td>\n",
       "      <td>15.68</td>\n",
       "      <td>12.76</td>\n",
       "      <td>3.79</td>\n",
       "      <td>3.29</td>\n",
       "      <td>82.0</td>\n",
       "      <td>8.3</td>\n",
       "      <td>E</td>\n",
       "      <td>35.52</td>\n",
       "    </tr>\n",
       "    <tr>\n",
       "      <td>3</td>\n",
       "      <td>Wii Sports Resort</td>\n",
       "      <td>Wii</td>\n",
       "      <td>2009</td>\n",
       "      <td>Sports</td>\n",
       "      <td>15.61</td>\n",
       "      <td>10.93</td>\n",
       "      <td>3.28</td>\n",
       "      <td>2.95</td>\n",
       "      <td>80.0</td>\n",
       "      <td>8.0</td>\n",
       "      <td>E</td>\n",
       "      <td>32.77</td>\n",
       "    </tr>\n",
       "    <tr>\n",
       "      <td>4</td>\n",
       "      <td>Pokemon Red/Pokemon Blue</td>\n",
       "      <td>GB</td>\n",
       "      <td>1996</td>\n",
       "      <td>Role-Playing</td>\n",
       "      <td>11.27</td>\n",
       "      <td>8.89</td>\n",
       "      <td>10.22</td>\n",
       "      <td>1.00</td>\n",
       "      <td>NaN</td>\n",
       "      <td>NaN</td>\n",
       "      <td>NaN</td>\n",
       "      <td>31.38</td>\n",
       "    </tr>\n",
       "    <tr>\n",
       "      <td>...</td>\n",
       "      <td>...</td>\n",
       "      <td>...</td>\n",
       "      <td>...</td>\n",
       "      <td>...</td>\n",
       "      <td>...</td>\n",
       "      <td>...</td>\n",
       "      <td>...</td>\n",
       "      <td>...</td>\n",
       "      <td>...</td>\n",
       "      <td>...</td>\n",
       "      <td>...</td>\n",
       "      <td>...</td>\n",
       "    </tr>\n",
       "    <tr>\n",
       "      <td>16710</td>\n",
       "      <td>Samurai Warriors: Sanada Maru</td>\n",
       "      <td>PS3</td>\n",
       "      <td>2016</td>\n",
       "      <td>Action</td>\n",
       "      <td>0.00</td>\n",
       "      <td>0.00</td>\n",
       "      <td>0.01</td>\n",
       "      <td>0.00</td>\n",
       "      <td>NaN</td>\n",
       "      <td>NaN</td>\n",
       "      <td>NaN</td>\n",
       "      <td>0.01</td>\n",
       "    </tr>\n",
       "    <tr>\n",
       "      <td>16711</td>\n",
       "      <td>LMA Manager 2007</td>\n",
       "      <td>X360</td>\n",
       "      <td>2006</td>\n",
       "      <td>Sports</td>\n",
       "      <td>0.00</td>\n",
       "      <td>0.01</td>\n",
       "      <td>0.00</td>\n",
       "      <td>0.00</td>\n",
       "      <td>NaN</td>\n",
       "      <td>NaN</td>\n",
       "      <td>NaN</td>\n",
       "      <td>0.01</td>\n",
       "    </tr>\n",
       "    <tr>\n",
       "      <td>16712</td>\n",
       "      <td>Haitaka no Psychedelica</td>\n",
       "      <td>PSV</td>\n",
       "      <td>2016</td>\n",
       "      <td>Adventure</td>\n",
       "      <td>0.00</td>\n",
       "      <td>0.00</td>\n",
       "      <td>0.01</td>\n",
       "      <td>0.00</td>\n",
       "      <td>NaN</td>\n",
       "      <td>NaN</td>\n",
       "      <td>NaN</td>\n",
       "      <td>0.01</td>\n",
       "    </tr>\n",
       "    <tr>\n",
       "      <td>16713</td>\n",
       "      <td>Spirits &amp; Spells</td>\n",
       "      <td>GBA</td>\n",
       "      <td>2003</td>\n",
       "      <td>Platform</td>\n",
       "      <td>0.01</td>\n",
       "      <td>0.00</td>\n",
       "      <td>0.00</td>\n",
       "      <td>0.00</td>\n",
       "      <td>NaN</td>\n",
       "      <td>NaN</td>\n",
       "      <td>NaN</td>\n",
       "      <td>0.01</td>\n",
       "    </tr>\n",
       "    <tr>\n",
       "      <td>16714</td>\n",
       "      <td>Winning Post 8 2016</td>\n",
       "      <td>PSV</td>\n",
       "      <td>2016</td>\n",
       "      <td>Simulation</td>\n",
       "      <td>0.00</td>\n",
       "      <td>0.00</td>\n",
       "      <td>0.01</td>\n",
       "      <td>0.00</td>\n",
       "      <td>NaN</td>\n",
       "      <td>NaN</td>\n",
       "      <td>NaN</td>\n",
       "      <td>0.01</td>\n",
       "    </tr>\n",
       "  </tbody>\n",
       "</table>\n",
       "<p>16444 rows × 12 columns</p>\n",
       "</div>"
      ],
      "text/plain": [
       "                                name platform  year_of_release         genre  \\\n",
       "0                         Wii Sports      Wii             2006        Sports   \n",
       "1                  Super Mario Bros.      NES             1985      Platform   \n",
       "2                     Mario Kart Wii      Wii             2008        Racing   \n",
       "3                  Wii Sports Resort      Wii             2009        Sports   \n",
       "4           Pokemon Red/Pokemon Blue       GB             1996  Role-Playing   \n",
       "...                              ...      ...              ...           ...   \n",
       "16710  Samurai Warriors: Sanada Maru      PS3             2016        Action   \n",
       "16711               LMA Manager 2007     X360             2006        Sports   \n",
       "16712        Haitaka no Psychedelica      PSV             2016     Adventure   \n",
       "16713               Spirits & Spells      GBA             2003      Platform   \n",
       "16714            Winning Post 8 2016      PSV             2016    Simulation   \n",
       "\n",
       "       na_sales  eu_sales  jp_sales  other_sales  critic_score  user_score  \\\n",
       "0         41.36     28.96      3.77         8.45          76.0         8.0   \n",
       "1         29.08      3.58      6.81         0.77           NaN         NaN   \n",
       "2         15.68     12.76      3.79         3.29          82.0         8.3   \n",
       "3         15.61     10.93      3.28         2.95          80.0         8.0   \n",
       "4         11.27      8.89     10.22         1.00           NaN         NaN   \n",
       "...         ...       ...       ...          ...           ...         ...   \n",
       "16710      0.00      0.00      0.01         0.00           NaN         NaN   \n",
       "16711      0.00      0.01      0.00         0.00           NaN         NaN   \n",
       "16712      0.00      0.00      0.01         0.00           NaN         NaN   \n",
       "16713      0.01      0.00      0.00         0.00           NaN         NaN   \n",
       "16714      0.00      0.00      0.01         0.00           NaN         NaN   \n",
       "\n",
       "      rating  sum_sales  \n",
       "0          E      82.54  \n",
       "1        NaN      40.24  \n",
       "2          E      35.52  \n",
       "3          E      32.77  \n",
       "4        NaN      31.38  \n",
       "...      ...        ...  \n",
       "16710    NaN       0.01  \n",
       "16711    NaN       0.01  \n",
       "16712    NaN       0.01  \n",
       "16713    NaN       0.01  \n",
       "16714    NaN       0.01  \n",
       "\n",
       "[16444 rows x 12 columns]"
      ]
     },
     "execution_count": 9,
     "metadata": {},
     "output_type": "execute_result"
    }
   ],
   "source": [
    "# Посчитаем суммарные продажи во всех регионах и запишем их в отдельный столбец:\n",
    "games['sum_sales'] = games[['na_sales','eu_sales','jp_sales','other_sales']].sum(axis=1)\n",
    "games\n"
   ]
  },
  {
   "cell_type": "markdown",
   "id": "a5168c11",
   "metadata": {},
   "source": [
    "### Вывод"
   ]
  },
  {
   "cell_type": "markdown",
   "id": "14fc3c12",
   "metadata": {},
   "source": [
    "Проведена предобработка данных: названия столбцов приведены к нижнему регистру, изменены типы данных, удалены пропущенные значения, не определенные значения заменены на пропуски, добавлен столбец с суммарными продажами. Данные обработаны и подготовлены к дальнейшему анализу."
   ]
  },
  {
   "cell_type": "markdown",
   "id": "19eb2fbf",
   "metadata": {},
   "source": [
    "## Исследовательский анализ данных"
   ]
  },
  {
   "cell_type": "markdown",
   "id": "39abf5c1",
   "metadata": {},
   "source": [
    "*Посмотрите, сколько игр выпускалось в разные годы. Важны ли данные за все периоды?*"
   ]
  },
  {
   "cell_type": "code",
   "execution_count": 10,
   "id": "ab2f202c",
   "metadata": {},
   "outputs": [
    {
     "data": {
      "image/png": "[encoded data removed]",
      "text/plain": [
       "<Figure size 432x216 with 1 Axes>"
      ]
     },
     "metadata": {
      "needs_background": "light"
     },
     "output_type": "display_data"
    }
   ],
   "source": [
    "# Объединим данные по годам, чтобы посмотреть количество выпусков:\n",
    "games_pivot = games.pivot_table(index='year_of_release', values='name', aggfunc='count').plot(grid=True, figsize=(6, 3))\n",
    "plt.title('Распределение выпусков по годам')\n",
    "plt.xlabel('Год релиза')\n",
    "plt.legend()\n",
    "plt.show();\n"
   ]
  },
  {
   "cell_type": "markdown",
   "id": "4b74d29c",
   "metadata": {},
   "source": [
    "Самые пиковые годы по выпускам 2008-2009. В целом до 2008 идет прирост выпусков, после 2009 спад. Также наибольшее количество выпусков пришлось на 2006-2011 гг.(более 1000).   \n",
    "\n",
    "До 1994 года количество выпусков было крайне мало и не поднималось выше 100. Начиная же с 1994 выпуски начали расти и не имели снижения фактически до 2008 года."
   ]
  },
  {
   "cell_type": "markdown",
   "id": "6b056081",
   "metadata": {},
   "source": [
    "*Посмотрите, как менялись продажи по платформам.\n",
    "Выберите платформы с наибольшими суммарными продажами и постройте распределение по годам. \n",
    "За какой характерный срок появляются новые и исчезают старые платформы?*"
   ]
  },
  {
   "cell_type": "code",
   "execution_count": 11,
   "id": "d0b916a4",
   "metadata": {},
   "outputs": [
    {
     "data": {
      "image/png": "[encoded data removed]",
      "text/plain": [
       "<Figure size 576x288 with 1 Axes>"
      ]
     },
     "metadata": {
      "needs_background": "light"
     },
     "output_type": "display_data"
    }
   ],
   "source": [
    "# Выберем платформы с наибольшими суммарными продажами:\n",
    "platform_top = games.groupby('platform').agg({'sum_sales' : 'sum'}).sort_values(by='sum_sales').tail(6).index\n",
    "\n",
    "# Постройм распределение по годам:\n",
    "games.query('platform in @ platform_top').pivot_table(index='year_of_release', columns='platform', \n",
    "                                                      values='sum_sales', aggfunc='sum').plot(grid=True, figsize=(8, 4));\n",
    "plt.title('Распределение продаж по платформам за весь период')\n",
    "plt.xlabel('Год релиза')\n",
    "plt.legend()\n",
    "plt.show();"
   ]
  },
  {
   "cell_type": "markdown",
   "id": "f77b764a",
   "metadata": {},
   "source": [
    "Мы видим корреляцию с предыдущим графиком по количеству выпусков, резкий рост продаж начинается с 1994 года на платформе PS. Далее ее сменяет PS2, затем, примерно с 2004 года начинают появляться DS, X360, Wii и PS3, которые имеют практически одинаковый срок жизни на одинаковом отрезке времени (2005-2015). \n",
    "\n",
    "Самые высокие продажи у платформ PS2 и Wii.\n",
    "\n",
    "В среднем срок жизни каждой из топ-платформ длится примерно 10 лет. "
   ]
  },
  {
   "cell_type": "markdown",
   "id": "a21bf975",
   "metadata": {},
   "source": [
    "*Возьмите данные за соответствующий актуальный период. Актуальный период определите самостоятельно в результате исследования предыдущих вопросов. Основной фактор — эти данные помогут построить прогноз на 2017 год. Не учитывайте в работе данные за предыдущие годы. Какие платформы лидируют по продажам, растут или падают? Выберите несколько потенциально прибыльных платформ.*\n"
   ]
  },
  {
   "cell_type": "code",
   "execution_count": 12,
   "id": "6d3d8999",
   "metadata": {},
   "outputs": [
    {
     "data": {
      "text/plain": [
       "year_of_release    7.92\n",
       "dtype: float64"
      ]
     },
     "execution_count": 12,
     "metadata": {},
     "output_type": "execute_result"
    }
   ],
   "source": [
    "# Определим актуальный период для построения прогноза на 2017 год. Возьмем суммарные продажи от 1 млн.:\n",
    "current_period = games.groupby(['platform', 'year_of_release']).agg({'sum_sales' : 'sum'}).query('sum_sales > 1')\n",
    "current_period = current_period.reset_index().groupby('platform').agg({'year_of_release' : 'count'}).mean()\n",
    "current_period\n",
    "\n"
   ]
  },
  {
   "cell_type": "markdown",
   "id": "5601b9f6",
   "metadata": {},
   "source": [
    "Cредний срок жизни платформы составил 7.9 лет, его мы и будем считать актуальным периодом. Но, это достаточно длинный период, за который могет многое поменяться на игровом рынке, и наше исседование будет не актуальным. Если смотреть на график продаж по годам (ниже), начиная с 2009 идет ежегодное стабильное падение продаж до 2016 года. Но если визуально \"срезать макушку\", то в районе 300 млн. как-будто есть некая стабилизация. Она приходится на период 2012 года. В этом случае актуальный период составит 5 лет. Возьмем его для дальнейшего анализа."
   ]
  },
  {
   "cell_type": "code",
   "execution_count": 13,
   "id": "525fc6e6",
   "metadata": {},
   "outputs": [
    {
     "data": {
      "image/png": "[encoded data removed]",
      "text/plain": [
       "<Figure size 576x288 with 1 Axes>"
      ]
     },
     "metadata": {
      "needs_background": "light"
     },
     "output_type": "display_data"
    }
   ],
   "source": [
    "games.pivot_table(index='year_of_release', values='sum_sales', aggfunc='sum').query('year_of_release > 1994').plot(grid=True, figsize=(8, 4));\n",
    "plt.title('Распределение продаж по годам')\n",
    "plt.xlabel('Год релиза')\n",
    "plt.legend()\n",
    "plt.show();"
   ]
  },
  {
   "cell_type": "code",
   "execution_count": 14,
   "id": "e2114607",
   "metadata": {},
   "outputs": [
    {
     "data": {
      "image/png": "[encoded data removed]",
      "text/plain": [
       "<Figure size 648x432 with 1 Axes>"
      ]
     },
     "metadata": {
      "needs_background": "light"
     },
     "output_type": "display_data"
    }
   ],
   "source": [
    "# Определим какие платформы лидируют по продажам начиная с 2012 года:\n",
    "games_actual_period = games.loc[games ['year_of_release'] >= 2012]\n",
    "global_sales = games_actual_period.pivot_table(index='year_of_release', columns='platform', values='sum_sales', aggfunc='sum')\n",
    "global_sales.plot(grid=True, figsize=(9, 6)); \n",
    "plt.title('Распределение продаж по платформам после 2012 года')\n",
    "plt.xlabel('Год релиза')\n",
    "plt.legend()\n",
    "plt.show();"
   ]
  },
  {
   "cell_type": "markdown",
   "id": "10ade820",
   "metadata": {},
   "source": [
    "По продажам лидируют следущие платформы: PS4, PS3, X360, 3DS, XOne.\n",
    "\n",
    "Лидеры немного поменялись по сравнению с рейтингом за все годы. \n",
    "\n",
    "Остались неизменными PS3, X360. \n",
    "\n",
    "Добавились 3DS, PS4, XOne. \n",
    "\n",
    "PS и PS2, Wii, DS 'отжили' свое и покинули рынок."
   ]
  },
  {
   "cell_type": "code",
   "execution_count": 15,
   "id": "531786d3",
   "metadata": {},
   "outputs": [
    {
     "name": "stdout",
     "output_type": "stream",
     "text": [
      "          sum_sales\n",
      "platform           \n",
      "XOne         159.32\n",
      "3DS          194.61\n",
      "X360         236.54\n",
      "PS3          288.79\n",
      "PS4          314.14\n"
     ]
    }
   ],
   "source": [
    "# Выберем топ платформ за актуальный период(с 2012 года):\n",
    "platform_top_actual_period = games_actual_period.groupby('platform').agg({'sum_sales' : \n",
    "                                                                          'sum'}).sort_values(by='sum_sales').tail(5)\n",
    "print (platform_top_actual_period)\n",
    "platform_top_actual_period = platform_top_actual_period.index"
   ]
  },
  {
   "cell_type": "markdown",
   "id": "623a2b97",
   "metadata": {},
   "source": [
    "*Постройте график «ящик с усами» по глобальным продажам игр в разбивке по платформам. Опишите результат.*"
   ]
  },
  {
   "cell_type": "code",
   "execution_count": 17,
   "id": "6de331f3",
   "metadata": {},
   "outputs": [
    {
     "data": {
      "image/png": "[encoded data removed]",
      "text/plain": [
       "<Figure size 432x360 with 1 Axes>"
      ]
     },
     "metadata": {
      "needs_background": "light"
     },
     "output_type": "display_data"
    }
   ],
   "source": [
    "#Построим \"ящик с усами\" по продажам по топ-платформам после 2012 года:\n",
    "games_actual_period.query('platform in @platform_top_actual_period').boxplot(column='sum_sales', \n",
    "                                                                             by='platform', \n",
    "                                                                             figsize=(6,5));\n",
    "plt.ylim(0,10)\n",
    "plt.xlabel('Платформа')\n",
    "plt.show()"
   ]
  },
  {
   "cell_type": "markdown",
   "id": "d89f406d",
   "metadata": {},
   "source": [
    "Выбросы у всех платформ достаточно велики, немногим меньше у X360. Это значит, что игры продаются не равномерно, это может быть зависимость от региона, возможно в каком-то регионе пользуется высоким спросом какая-то одна из этих игр (например как 3DS в Японии).\n",
    "Еще это могут быть какие-то популярные игры. Посмотрим на 3DS. Маленький ящик и много выбросов. Это говорит о том, что большАя часть объема продаж делается за счет этих выбросов. В то же время у XOne ситуация иная: большой бокс, длинный ус и мало выбросов. Это свидетельствует о том, что на XOne покупают самые разные игры, причем, в немалом количестве."
   ]
  },
  {
   "cell_type": "markdown",
   "id": "13ec340e",
   "metadata": {},
   "source": [
    "*Посмотрите, как влияют на продажи внутри одной популярной платформы отзывы пользователей и критиков. Постройте диаграмму рассеяния и посчитайте корреляцию между отзывами и продажами. Сформулируйте выводы.*\n"
   ]
  },
  {
   "cell_type": "code",
   "execution_count": 18,
   "id": "229181b1",
   "metadata": {},
   "outputs": [
    {
     "data": {
      "image/png": "[encoded data removed]",
      "text/plain": [
       "<Figure size 432x288 with 1 Axes>"
      ]
     },
     "metadata": {
      "needs_background": "light"
     },
     "output_type": "display_data"
    }
   ],
   "source": [
    "# Построим диаграмму зависимости продаж от отзывов критиков на примере платформы PS4, отбросим выбросы:\n",
    "games_actual_period[\n",
    "    (games_actual_period['platform'] == 'PS4') & \n",
    "    (games_actual_period['critic_score'] >0) & \n",
    "    (games_actual_period['sum_sales'] < games_actual_period['sum_sales'].quantile(0.99))].plot(kind='scatter', \n",
    "                                                                                               x='critic_score', \n",
    "                                                                                               y='sum_sales', \n",
    "                                                                                               figsize=(6,4));\n",
    "plt.title('Распределение по отзывам критиков на примере платформы PS4')\n",
    "plt.show();"
   ]
  },
  {
   "cell_type": "markdown",
   "id": "79c1d636",
   "metadata": {},
   "source": [
    "На диаграмме видна небольшая зависимость продаж от отзывов критиков."
   ]
  },
  {
   "cell_type": "code",
   "execution_count": 19,
   "id": "a7bf8002",
   "metadata": {},
   "outputs": [
    {
     "data": {
      "image/png": "[encoded data removed]",
      "text/plain": [
       "<Figure size 432x288 with 1 Axes>"
      ]
     },
     "metadata": {
      "needs_background": "light"
     },
     "output_type": "display_data"
    }
   ],
   "source": [
    "# Построим диаграмму зависимости продаж от отзывов пользователей на примере платформы PS4, отбросим выбросы:\n",
    "games_actual_period[\n",
    "    (games_actual_period['platform'] == 'PS4') & \n",
    "    (games_actual_period['user_score'] >0) & \n",
    "    (games_actual_period['sum_sales'] < games_actual_period['sum_sales'].quantile(0.99))].plot(kind='scatter', \n",
    "                                                                                               x='user_score', \n",
    "                                                                                               y='sum_sales', \n",
    "                                                                                               figsize=(6,4));\n",
    "plt.title('Распределение по отзывам пользователей на примере платформы PS4')\n",
    "plt.show();"
   ]
  },
  {
   "cell_type": "markdown",
   "id": "69a19e9a",
   "metadata": {},
   "source": [
    "Практически не видна зависимость от отзывов пользователей.\n"
   ]
  },
  {
   "cell_type": "code",
   "execution_count": 20,
   "id": "a01b25f3",
   "metadata": {},
   "outputs": [
    {
     "data": {
      "text/html": [
       "<div>\n",
       "<style scoped>\n",
       "    .dataframe tbody tr th:only-of-type {\n",
       "        vertical-align: middle;\n",
       "    }\n",
       "\n",
       "    .dataframe tbody tr th {\n",
       "        vertical-align: top;\n",
       "    }\n",
       "\n",
       "    .dataframe thead th {\n",
       "        text-align: right;\n",
       "    }\n",
       "</style>\n",
       "<table border=\"1\" class=\"dataframe\">\n",
       "  <thead>\n",
       "    <tr style=\"text-align: right;\">\n",
       "      <th></th>\n",
       "      <th>sum_sales</th>\n",
       "      <th>user_score</th>\n",
       "      <th>critic_score</th>\n",
       "    </tr>\n",
       "  </thead>\n",
       "  <tbody>\n",
       "    <tr>\n",
       "      <td>sum_sales</td>\n",
       "      <td>1.000000</td>\n",
       "      <td>-0.031957</td>\n",
       "      <td>0.406568</td>\n",
       "    </tr>\n",
       "    <tr>\n",
       "      <td>user_score</td>\n",
       "      <td>-0.031957</td>\n",
       "      <td>1.000000</td>\n",
       "      <td>0.557654</td>\n",
       "    </tr>\n",
       "    <tr>\n",
       "      <td>critic_score</td>\n",
       "      <td>0.406568</td>\n",
       "      <td>0.557654</td>\n",
       "      <td>1.000000</td>\n",
       "    </tr>\n",
       "  </tbody>\n",
       "</table>\n",
       "</div>"
      ],
      "text/plain": [
       "              sum_sales  user_score  critic_score\n",
       "sum_sales      1.000000   -0.031957      0.406568\n",
       "user_score    -0.031957    1.000000      0.557654\n",
       "critic_score   0.406568    0.557654      1.000000"
      ]
     },
     "execution_count": 20,
     "metadata": {},
     "output_type": "execute_result"
    }
   ],
   "source": [
    "#Посмотрим зависимость продаж от отзывов критиков и пользователей при помощи корреляции Пирсона на примере платформы PS4:\n",
    "games_actual_period[games_actual_period['platform'] == 'PS4'][['sum_sales', 'user_score', 'critic_score']].corr()"
   ]
  },
  {
   "cell_type": "markdown",
   "id": "f325ca9d",
   "metadata": {},
   "source": [
    "Корреляция продаж с отзывами пользователей отсутствует. Это значит, что отзывы пользователей не имеют влияния на продажи игр.\n",
    "\n",
    "Корреляция продаж с отзывами критиков умеренная. Это значит, что критики имеют некоторое влияние на продажи игр."
   ]
  },
  {
   "cell_type": "markdown",
   "id": "c80b825e",
   "metadata": {},
   "source": [
    "*Соотнесите выводы с продажами игр на других платформах.*"
   ]
  },
  {
   "cell_type": "code",
   "execution_count": 21,
   "id": "a8e292c0",
   "metadata": {},
   "outputs": [
    {
     "data": {
      "text/html": [
       "<div>\n",
       "<style scoped>\n",
       "    .dataframe tbody tr th:only-of-type {\n",
       "        vertical-align: middle;\n",
       "    }\n",
       "\n",
       "    .dataframe tbody tr th {\n",
       "        vertical-align: top;\n",
       "    }\n",
       "\n",
       "    .dataframe thead th {\n",
       "        text-align: right;\n",
       "    }\n",
       "</style>\n",
       "<table border=\"1\" class=\"dataframe\">\n",
       "  <thead>\n",
       "    <tr style=\"text-align: right;\">\n",
       "      <th></th>\n",
       "      <th>sum_sales</th>\n",
       "      <th>user_score</th>\n",
       "      <th>critic_score</th>\n",
       "    </tr>\n",
       "  </thead>\n",
       "  <tbody>\n",
       "    <tr>\n",
       "      <td>sum_sales</td>\n",
       "      <td>1.000000</td>\n",
       "      <td>0.008680</td>\n",
       "      <td>0.339684</td>\n",
       "    </tr>\n",
       "    <tr>\n",
       "      <td>user_score</td>\n",
       "      <td>0.008680</td>\n",
       "      <td>1.000000</td>\n",
       "      <td>0.535459</td>\n",
       "    </tr>\n",
       "    <tr>\n",
       "      <td>critic_score</td>\n",
       "      <td>0.339684</td>\n",
       "      <td>0.535459</td>\n",
       "      <td>1.000000</td>\n",
       "    </tr>\n",
       "  </tbody>\n",
       "</table>\n",
       "</div>"
      ],
      "text/plain": [
       "              sum_sales  user_score  critic_score\n",
       "sum_sales      1.000000    0.008680      0.339684\n",
       "user_score     0.008680    1.000000      0.535459\n",
       "critic_score   0.339684    0.535459      1.000000"
      ]
     },
     "execution_count": 21,
     "metadata": {},
     "output_type": "execute_result"
    }
   ],
   "source": [
    "# Посмотрим также корреляцию по остальным 4-м топ-платформам в общем:\n",
    "games_actual_period[games_actual_period['platform'] != 'PS4'].query('platform in @platform_top_actual_period')[['sum_sales', 'user_score', 'critic_score']].corr()"
   ]
  },
  {
   "cell_type": "markdown",
   "id": "035d45b2",
   "metadata": {},
   "source": [
    "Существенной разницы между платформой PS4 и остальными топ-платформами  не обнаружено. Во всех платформах зависимость продаж от пользователей практически отсутствует, а от отзывов критиков умеренная."
   ]
  },
  {
   "cell_type": "markdown",
   "id": "7709086b",
   "metadata": {},
   "source": [
    "*Посмотрите на общее распределение игр по жанрам. Что можно сказать о самых прибыльных жанрах? Выделяются ли жанры с высокими и низкими продажами?*"
   ]
  },
  {
   "cell_type": "code",
   "execution_count": 22,
   "id": "a26e838c",
   "metadata": {},
   "outputs": [
    {
     "data": {
      "image/png": "[encoded data removed]",
      "text/plain": [
       "<Figure size 648x432 with 1 Axes>"
      ]
     },
     "metadata": {
      "needs_background": "light"
     },
     "output_type": "display_data"
    }
   ],
   "source": [
    "# Определим какие жанры лидируют по суммарным продажам начиная с 2012 года:\n",
    "games_actual_period.groupby('genre').agg({'sum_sales' : 'sum'}). sort_values(by='sum_sales').plot(kind='barh', figsize=(9, 6));\n",
    "plt.title('Распределение продаж по жанрам после 2012 года')\n",
    "plt.xlabel('млн. копий')\n",
    "plt.show();"
   ]
  },
  {
   "cell_type": "markdown",
   "id": "ca1c1202",
   "metadata": {},
   "source": [
    "Жанры-лидеры: Action, Shooter, Role-Playing и Sports.\n",
    "\n",
    "Жанры-аутсайдеры - Adventure,  Strategy и Puzzle."
   ]
  },
  {
   "cell_type": "code",
   "execution_count": 23,
   "id": "9bb941a6",
   "metadata": {},
   "outputs": [
    {
     "data": {
      "image/png": "[encoded data removed]",
      "text/plain": [
       "<Figure size 648x432 with 1 Axes>"
      ]
     },
     "metadata": {
      "needs_background": "light"
     },
     "output_type": "display_data"
    }
   ],
   "source": [
    "# Определим какие жанры лидируют по медианным продажам начиная с 2012 года:\n",
    "games_actual_period.groupby('genre').agg({'sum_sales' : 'median'}). sort_values(by='sum_sales').plot(kind='barh', figsize=(9, 6));\n",
    "plt.title('Распределение продаж по жанрам после 2012 года')\n",
    "plt.xlabel('млн. копий')\n",
    "plt.show();"
   ]
  },
  {
   "cell_type": "markdown",
   "id": "951dfff0",
   "metadata": {},
   "source": [
    "Жанры-лидеры - Shooter, Sports, Platform.\n",
    "\n",
    "Жанры-аутсайдеры - Strategy, Puzzle и Adventure."
   ]
  },
  {
   "cell_type": "markdown",
   "id": "b8c2241a",
   "metadata": {},
   "source": [
    "### Вывод"
   ]
  },
  {
   "cell_type": "markdown",
   "id": "c9899e3a",
   "metadata": {},
   "source": [
    "Мы выявили, что самый пик по количеству выпусков игр был в 2008-2009гг., с 1994 по 2008 год был резкий рост, а с 2009 по 2016 резкий спад. Также определены платформы-лидеры по объемам продаж, это - PS, PS2, DS, X360, Wii и PS3, которые имеют средний срок \"жизни\" 10 лет. \n",
    "\n",
    "Для построения прогноза на 2017 год мы взяли срок 5 лет, начиная с 2012. В течение этого срока лидерами были PS4, PS3, X360, 3DS и XOne. Но надо отметить, что PS3, X360 и 3DS к 2016 году сильно потеряли в продажах и по сути покинули рынок.      \n",
    "\n",
    "Выявили высокий уровень выбросов у всех платформ, немногим меньше у X360. Это значит, что игры продаются не равномерно, это может быть зависимость от региона, возможно в каком-то регионе пользуется высоким спросом какая-то одна из этих игр (например как 3DS в Японии).\n",
    "\n",
    "Также мы определили отсутствие корреляции продаж с отзывами пользователей, но есть умеренная корреляция с отзывами критиков. \n",
    "\n",
    "Также были определены самые популярные жанры: по суммарным продажам - Action, Shooter, Sports и Role-Playing. И по медианным продажам - Shooter, Sports, Platform. как мы видим Action сильно снизился в ретинге, это связано с темБ что Action далает продажи за счет большого количества выпускаемых игр.\n",
    "\n"
   ]
  },
  {
   "cell_type": "markdown",
   "id": "9219483a",
   "metadata": {},
   "source": [
    "## Портрет пользователя каждого региона\n"
   ]
  },
  {
   "cell_type": "markdown",
   "id": "816c30db",
   "metadata": {},
   "source": [
    "*Определите для пользователя каждого региона (NA, EU, JP):\n",
    "Самые популярные платформы (топ-5). Опишите различия в долях продаж.\n",
    "Самые популярные жанры (топ-5). Поясните разницу.\n",
    "Влияет ли рейтинг ESRB на продажи в отдельном регионе?*"
   ]
  },
  {
   "cell_type": "code",
   "execution_count": 24,
   "id": "0c83d677",
   "metadata": {},
   "outputs": [
    {
     "data": {
      "image/png": "[encoded data removed]",
      "text/plain": [
       "<Figure size 432x288 with 1 Axes>"
      ]
     },
     "metadata": {},
     "output_type": "display_data"
    },
    {
     "data": {
      "image/png": "[encoded data removed]",
      "text/plain": [
       "<Figure size 432x288 with 1 Axes>"
      ]
     },
     "metadata": {},
     "output_type": "display_data"
    },
    {
     "data": {
      "image/png": "[encoded data removed]",
      "text/plain": [
       "<Figure size 432x288 with 1 Axes>"
      ]
     },
     "metadata": {},
     "output_type": "display_data"
    },
    {
     "data": {
      "image/png": "[encoded data removed]",
      "text/plain": [
       "<Figure size 432x288 with 1 Axes>"
      ]
     },
     "metadata": {},
     "output_type": "display_data"
    }
   ],
   "source": [
    "# Определим самые популярные платформы в каждом регионе:\n",
    "regions = ['na_sales', 'eu_sales', 'jp_sales', 'other_sales']\n",
    "for region in regions:\n",
    "    genre = games_actual_period.groupby('platform').agg({region : 'sum'}).sort_values(by=region).tail(5).plot(y=region, kind='pie',  autopct='%1.1F%%');\n",
    "    if region == 'na_sales':\n",
    "        plt.title('ТОП-5 платформ в Северной Америке')\n",
    "    if region == 'eu_sales':\n",
    "        plt.title('ТОП-5 платформ в Европе')\n",
    "    if region == 'jp_sales':\n",
    "        plt.title('ТОП-5 платформ в Японии')\n",
    "    if region == 'other_sales':\n",
    "        plt.title('ТОП-5 платформ в других регионах')   \n",
    "    plt.show();"
   ]
  },
  {
   "cell_type": "markdown",
   "id": "7d8987b7",
   "metadata": {},
   "source": [
    "PS4 популярна в каждом регионе, имеет долю ~22%-36% и занимает 1-2 место, кроме Японии, там она 4-ом месте с 9.2%. \n",
    "\n",
    "PS3 - присутсвует в топ-рейтинге во всех регионах. Везде занимает 2-е место и имеет долю продаж около 25%.\n",
    "\n",
    "Х360 также популярна во всех регионах, кроме Японии (не вошла в рейтинг). Является лидером по продажам в Америке (доля ~28%). \n",
    "\n",
    "3DS - является лидером по продажам в Японии (доля ~50%), в остальных регионах находится на 5-ом месте с долей около 9%.\n",
    "\n",
    "XOne - находится на 4-м месте по всем регионам с долей ~14, кроме Японии (не вошла в рейтинг).\n",
    "\n",
    "Во всех регионах, кроме японии все вышеперечисленные игры вошли в рейтинг, только с разницей в долях. Что полностью совпадает с рейтингом по топ-платформам, сформированном ранее. Японский же рейтинг отличается крайне большой долей 3DS (доля в 5 раз больше), а также наличием 2-х не самых популярных в целом игр PSV (доля 12.2%) и WiiU (доля 7.5%). Похоже, что японцы больше любят портативные консоли и родной рынок. "
   ]
  },
  {
   "cell_type": "code",
   "execution_count": 25,
   "id": "7ba7ec29",
   "metadata": {},
   "outputs": [
    {
     "data": {
      "image/png": "[encoded data removed]",
      "text/plain": [
       "<Figure size 432x288 with 1 Axes>"
      ]
     },
     "metadata": {},
     "output_type": "display_data"
    },
    {
     "data": {
      "image/png": "[encoded data removed]",
      "text/plain": [
       "<Figure size 432x288 with 1 Axes>"
      ]
     },
     "metadata": {},
     "output_type": "display_data"
    },
    {
     "data": {
      "image/png": "[encoded data removed]",
      "text/plain": [
       "<Figure size 432x288 with 1 Axes>"
      ]
     },
     "metadata": {},
     "output_type": "display_data"
    },
    {
     "data": {
      "image/png": "[encoded data removed]",
      "text/plain": [
       "<Figure size 432x288 with 1 Axes>"
      ]
     },
     "metadata": {},
     "output_type": "display_data"
    }
   ],
   "source": [
    "# Определим самые популярные жанры в каждом регионе:\n",
    "regions = ['na_sales', 'eu_sales', 'jp_sales', 'other_sales']\n",
    "for region in regions:\n",
    "    genre = games_actual_period.groupby('genre').agg({region : 'sum'}).sort_values(by=region).tail(5).plot(y=region, kind='pie',  autopct='%1.1F%%');\n",
    "    if region == 'na_sales':\n",
    "        plt.title('ТОП-5 жанров в Северной Америке')\n",
    "    if region == 'eu_sales':\n",
    "        plt.title('ТОП-5 жанров в Европе')\n",
    "    if region == 'jp_sales':\n",
    "        plt.title('ТОП-5 жанров в Японии')\n",
    "    if region == 'other_sales':\n",
    "        plt.title('ТОП-5 жанров в других регионах')   \n",
    "    plt.show();"
   ]
  },
  {
   "cell_type": "markdown",
   "id": "b825b212",
   "metadata": {},
   "source": [
    "Жанр Action является лидером во всех регионах, кроме Японии (2-е место), и  везде имеет высокую долю продаж (~35%-38%).\n",
    "\n",
    "Shooter занимает второе место по доле продаж во всех регионах (доля ~28%), кроме Японии. В рейтинг Японии не вошел.\n",
    "\n",
    "Sports занимает третье место по доле продаж по всем регионам (доля ~16%), опять же кроме Японии - в рейтинг не вошел. \n",
    "\n",
    "Role-Playing - присутствует в топ-рейтинге всех регионов, лидирует в Японии (доля ~43%), в остальных регионах (доля ~11%). \n",
    "\n",
    "Misc - присутсвует в топ-рейтинге всех регионов (доля ~7%), кроме Европы, там вместо него Racing с долей 6.5%.\n",
    "\n",
    "В части жанров Японский рейтинг также отличается от остальных регионов, наличием жанров Simulation (~7%) и Fighting (~6%) и жанром-лидером Role-Playing с долей в 4 раза больше, чем у остальных регионов."
   ]
  },
  {
   "cell_type": "code",
   "execution_count": 26,
   "id": "e28443f9",
   "metadata": {},
   "outputs": [
    {
     "data": {
      "image/png": "[encoded data removed]",
      "text/plain": [
       "<Figure size 432x216 with 1 Axes>"
      ]
     },
     "metadata": {
      "needs_background": "light"
     },
     "output_type": "display_data"
    }
   ],
   "source": [
    "# Заменим пропуски в столбце 'rating' на значение 'no_rating':\n",
    "games_actual_period.loc[games_actual_period['rating'].isna(), 'rating'] = 'no_rating'\n",
    "\n",
    "#Влияет ли рейтинг ESRB на продажи в отдельном регионе:\n",
    "games_actual_period.pivot_table(index='rating', values=['na_sales', 'eu_sales', 'jp_sales', 'other_sales'], aggfunc='sum').plot(grid=True, figsize=(6, 3))\n",
    "plt.title('Влияние рейтинга ESRB на продажи в отдельном регионе')\n",
    "plt.legend()\n",
    "plt.show();"
   ]
  },
  {
   "cell_type": "markdown",
   "id": "a92d1f3c",
   "metadata": {},
   "source": [
    "Из графика видно, что графики Европы и Америки коррелируется между собой. \n",
    "\n",
    "Игры с рейтингом \"M\" продаются лучше всего Европе и Америке - это игры, предназначенные для взрослых. В других странах они также пользуются популярностью больше всего.\n",
    "\n",
    "Также в Европе, Америке и других странах пользуется спросом продукция с рейтингом \"E\" - это игры для всех.\n",
    "\n",
    "Игры для подростков - \"T\" и для детей старше 10 длет - \"E10+\", имеют наименьший спрос.\n",
    "\n",
    "Также в Европе, Америке и Японии продается много игр с отсутствующим рейтингом , в японии это вообще лидер по продажам.\n",
    "Скорее всего, дело тут в том, что ESRB работает только на территории США, в Японии есть аналогичная организация: CERO. Я думаю, что, с одной стороны, иностранным играм они (ESRB) не присваивают рейтинги, поскольку на них уже есть маркировка. Чтобы не было конфликта, так сказать. Так что вполне возможно, что часть игр это продукция Японии или же это корейские игры (там тоже своя организация). С другой стороны, раз они продают игры на своем рынке, то присвоение рейтинга может быть обязательным. Значит, дело еще может быть в том, что наша таблица это склейка двух таблиц: продажи на Западе и на Востоке. И именно разница в рынках (восточный и западный) наталкивает на мысль о неслучайности пропусков."
   ]
  },
  {
   "cell_type": "markdown",
   "id": "f90cbb1c",
   "metadata": {},
   "source": [
    "### Вывод"
   ]
  },
  {
   "cell_type": "markdown",
   "id": "e84f2e09",
   "metadata": {},
   "source": [
    "Проанализировав рейтинги по популярным платформам и жанрам в разных регионах, выявилось, что рейтинг Японии сильно отличается от рейтинга остальных регионов, где, в основном, предпочтения игроков схожи. "
   ]
  },
  {
   "cell_type": "markdown",
   "id": "60949081",
   "metadata": {},
   "source": [
    "## Проверка гипотез"
   ]
  },
  {
   "cell_type": "markdown",
   "id": "68ad40d7",
   "metadata": {},
   "source": [
    "*Проверьте гипотезы*\n",
    "\n",
    "*- Средние пользовательские рейтинги платформ Xbox One и PC одинаковые;*\n",
    "\n",
    "*- Средние пользовательские рейтинги жанров Action (англ. «действие», экшен-игры) и Sports (англ. «спортивные соревнования») разные.*\n",
    "\n",
    "*Задайте самостоятельно пороговое значение alpha.\n",
    "Поясните:\n",
    "Как вы сформулировали нулевую и альтернативную гипотезы;\n",
    "Какой критерий применили для проверки гипотез и почему.*"
   ]
  },
  {
   "cell_type": "markdown",
   "id": "c6c3920d",
   "metadata": {},
   "source": [
    "Для проверки гипотез выберем метод о равенстве среднего двух генеральных совокупностей по взятым из них выборкам: scipy.stats.ttest_ind (array1, array2,equal_var).\n",
    "\n",
    "Проверим первую гипотезу: Средние пользовательские рейтинги платформ Xbox One и PC одинаковые;\n",
    "    \n",
    "Нулевую гипотизу сформулируем так: средние пользовательские рейтинги платформ Xbox One и PC одинаковые, \n",
    "альтернативную - средние пользовательские рейтинги платформ Xbox One и PC разные. "
   ]
  },
  {
   "cell_type": "code",
   "execution_count": 27,
   "id": "4a104838",
   "metadata": {},
   "outputs": [
    {
     "data": {
      "text/plain": [
       "name                 0\n",
       "platform             0\n",
       "year_of_release      0\n",
       "genre                0\n",
       "na_sales             0\n",
       "eu_sales             0\n",
       "jp_sales             0\n",
       "other_sales          0\n",
       "critic_score       234\n",
       "user_score           0\n",
       "rating               0\n",
       "sum_sales            0\n",
       "dtype: int64"
      ]
     },
     "execution_count": 27,
     "metadata": {},
     "output_type": "execute_result"
    }
   ],
   "source": [
    "# Перед проверкой удалим пропуски в столбце user_score, для корректности проведения ttest:\n",
    "games_actual_period = games_actual_period.dropna(subset=['user_score']) \n",
    "games_actual_period.isna().sum()"
   ]
  },
  {
   "cell_type": "code",
   "execution_count": 28,
   "id": "761558ed",
   "metadata": {},
   "outputs": [
    {
     "name": "stdout",
     "output_type": "stream",
     "text": [
      "p-значение:  0.5489537965134912\n",
      "Не получилось отвергнуть нулевую гипотезу\n"
     ]
    }
   ],
   "source": [
    "# Проверим первую гипотезу:\n",
    "pc= games_actual_period[games_actual_period['platform'] == 'PC']['user_score']\n",
    "xone = games_actual_period[games_actual_period['platform'] == 'XOne']['user_score']\n",
    "\n",
    "alpha = 0.05 \n",
    "\n",
    "results = st.ttest_ind(xone, pc, equal_var=False) \n",
    "\n",
    "print('p-значение: ', results.pvalue)\n",
    "\n",
    "if results.pvalue < alpha:\n",
    "    print(\"Отвергаем нулевую гипотезу\")\n",
    "else:\n",
    "    print(\"Не получилось отвергнуть нулевую гипотезу\")"
   ]
  },
  {
   "cell_type": "markdown",
   "id": "5fa07bd1",
   "metadata": {},
   "source": [
    "Не получилось отвергнуть нулевую гипотезу, значит средние пользовательские рейтинги платформ XOne и PC одинаковые."
   ]
  },
  {
   "cell_type": "markdown",
   "id": "de0528ea",
   "metadata": {},
   "source": [
    "Проверим вторую гипотезу: средние пользовательские рейтинги жанров Action (англ. «действие», экшен-игры) и Sports (англ. «спортивные соревнования») разные.\n",
    "    \n",
    "Нулевую гипотизу сформулируем так: средние пользовательские рейтинги жанров Action (англ. «действие», экшен-игры) и Sports (англ. «спортивные соревнования») разные, \n",
    "\n",
    "альтернативную - средние пользовательские рейтинги жанров Action (англ. «действие», экшен-игры) и Sports (англ. «спортивные соревнования») одинаковые. "
   ]
  },
  {
   "cell_type": "code",
   "execution_count": 29,
   "id": "fc619a98",
   "metadata": {},
   "outputs": [
    {
     "name": "stdout",
     "output_type": "stream",
     "text": [
      "p-значение:  4.24307776572644e-20\n",
      "Отвергаем нулевую гипотезу\n"
     ]
    }
   ],
   "source": [
    "# Проверим вторую гипотезу:\n",
    "action = games_actual_period[games_actual_period['genre'] == 'Action']['user_score']\n",
    "sports = games_actual_period[games_actual_period['genre'] == 'Sports']['user_score']\n",
    "\n",
    "alpha = 0.05\n",
    "\n",
    "results = st.ttest_ind(action, sports, equal_var=False) \n",
    "\n",
    "print('p-значение: ', results.pvalue)\n",
    "\n",
    "if results.pvalue < alpha:\n",
    "    print(\"Отвергаем нулевую гипотезу\")\n",
    "else:\n",
    "    print(\"Не получилось отвергнуть нулевую гипотезу\")"
   ]
  },
  {
   "cell_type": "markdown",
   "id": "b07ee831",
   "metadata": {},
   "source": [
    "Отвергаем нулевую гипотезу, значит средние пользовательские рейтинги жанров Action (англ. «действие», экшен-игры) и Sports (англ. «спортивные соревнования») одинаковые."
   ]
  },
  {
   "cell_type": "markdown",
   "id": "579feda6",
   "metadata": {},
   "source": [
    "### Вывод"
   ]
  },
  {
   "cell_type": "markdown",
   "id": "b32b5215",
   "metadata": {},
   "source": [
    "Статистический тест показал, что средние пользовательские рейтинги платформ Xbox One и PC, а также средние пользовательские рейтинги жанров Action и Sports одинаковые."
   ]
  },
  {
   "cell_type": "markdown",
   "id": "967fcb2e",
   "metadata": {},
   "source": [
    "## Общий вывод"
   ]
  },
  {
   "cell_type": "markdown",
   "id": "a0c2b41a",
   "metadata": {},
   "source": [
    "По итогам проведенного исследования, выявлены следущие закономерности:\n",
    "\n",
    "Начиная с 2009 года количество выпускаемых игр и их продажи идут на спад. Мы определили актуальный период в 5 лет, и в течение этого периода популярными были следущие платформы: PS4, PS3, X360, 3DS и XOne. \n",
    "\n",
    "В разрезе по регионам картина немного иная, Япония сильно выбивается из общей картины, поэтому, определяя потенциально успешный продукт, я бы не ориентировалась на их рынок, тк, возможно, в Японии есть свои родные игровые платформы, или портативные консоли, которые не вошли в нашу выборку. Итак, самыми популярные платформы в Америке, Европе и других регионах совпадают с общим рейтингом.\n",
    "\n",
    "Самыми популярными жанрами являются Action, Shooter, Sports, Role-Playing и Misc. ТОП-жанры совпали с выборкой в разрезе регионов. В Японии рейтинг отличается от остальных регионов, наличием жанров Simulation (~7%) и Fighting (~6%) и жанром-лидером Role-Playing с долей в 4 раза больше, чем у остальных регионов.\n",
    "\n",
    "Выявили высокий уровень выбросов у всех платформ, немногим меньше у X360. Это значит, что игры продаются не равномерно, это может быть зависимость от региона, возможно в каком-то регионе пользуется высоким спросом какая-то одна из этих игр (например как 3DS в Японии).\n",
    "\n",
    "Корреляция продаж с отзывами пользователей практически отсутствует. Это значит, что отзывы пользователей не имеют влияния на продажи игр.\n",
    "Корреляция продаж с отзывами критиков умеренная. Это значит, что критики имеют некоторое влияние на продажи игр.\n",
    "\n",
    "Лучше всего во всех странах продаются игры предназначенные для взрослых. Также пользуются спросом игры для всех. Самый низкий спрос на игры для подростков и детей от 10 лет. Большую долю имеют игры с отсутсвующим возрастным рейтингом, из чего можно сделать вывод, что он не имеет сильного влияния на продажи.\n"
   ]
  }
 ],
 "metadata": {
  "ExecuteTimeLog": [
   {
    "duration": 4845,
    "start_time": "2022-01-13T18:13:55.521Z"
   },
   {
    "duration": -1151,
    "start_time": "2022-01-13T18:14:01.522Z"
   },
   {
    "duration": -1150,
    "start_time": "2022-01-13T18:14:01.523Z"
   },
   {
    "duration": -1149,
    "start_time": "2022-01-13T18:14:01.524Z"
   },
   {
    "duration": -1148,
    "start_time": "2022-01-13T18:14:01.525Z"
   },
   {
    "duration": -1147,
    "start_time": "2022-01-13T18:14:01.526Z"
   },
   {
    "duration": -1147,
    "start_time": "2022-01-13T18:14:01.527Z"
   },
   {
    "duration": -1146,
    "start_time": "2022-01-13T18:14:01.528Z"
   },
   {
    "duration": -1145,
    "start_time": "2022-01-13T18:14:01.529Z"
   },
   {
    "duration": -1145,
    "start_time": "2022-01-13T18:14:01.530Z"
   },
   {
    "duration": -1146,
    "start_time": "2022-01-13T18:14:01.533Z"
   },
   {
    "duration": -1144,
    "start_time": "2022-01-13T18:14:01.534Z"
   },
   {
    "duration": -1146,
    "start_time": "2022-01-13T18:14:01.537Z"
   },
   {
    "duration": -1145,
    "start_time": "2022-01-13T18:14:01.538Z"
   },
   {
    "duration": -1144,
    "start_time": "2022-01-13T18:14:01.539Z"
   },
   {
    "duration": -1198,
    "start_time": "2022-01-13T18:14:01.594Z"
   },
   {
    "duration": -1199,
    "start_time": "2022-01-13T18:14:01.597Z"
   },
   {
    "duration": -1200,
    "start_time": "2022-01-13T18:14:01.600Z"
   },
   {
    "duration": -1201,
    "start_time": "2022-01-13T18:14:01.603Z"
   },
   {
    "duration": -1203,
    "start_time": "2022-01-13T18:14:01.606Z"
   },
   {
    "duration": -1203,
    "start_time": "2022-01-13T18:14:01.608Z"
   },
   {
    "duration": -1203,
    "start_time": "2022-01-13T18:14:01.610Z"
   },
   {
    "duration": -1170,
    "start_time": "2022-01-13T18:14:01.634Z"
   },
   {
    "duration": -1175,
    "start_time": "2022-01-13T18:14:01.641Z"
   },
   {
    "duration": -1175,
    "start_time": "2022-01-13T18:14:01.643Z"
   },
   {
    "duration": -1175,
    "start_time": "2022-01-13T18:14:01.645Z"
   },
   {
    "duration": 1584,
    "start_time": "2022-01-13T18:34:22.082Z"
   },
   {
    "duration": 1547,
    "start_time": "2022-01-13T18:35:00.627Z"
   },
   {
    "duration": 14,
    "start_time": "2022-01-13T18:35:02.177Z"
   },
   {
    "duration": 25,
    "start_time": "2022-01-13T18:35:02.194Z"
   },
   {
    "duration": 22,
    "start_time": "2022-01-13T18:35:02.222Z"
   },
   {
    "duration": 19,
    "start_time": "2022-01-13T18:35:02.246Z"
   },
   {
    "duration": 21,
    "start_time": "2022-01-13T18:35:02.267Z"
   },
   {
    "duration": 39,
    "start_time": "2022-01-13T18:35:02.290Z"
   },
   {
    "duration": 18,
    "start_time": "2022-01-13T18:35:02.331Z"
   },
   {
    "duration": 67,
    "start_time": "2022-01-13T18:35:02.353Z"
   },
   {
    "duration": 326,
    "start_time": "2022-01-13T18:35:02.423Z"
   },
   {
    "duration": 400,
    "start_time": "2022-01-13T18:35:02.752Z"
   },
   {
    "duration": 20,
    "start_time": "2022-01-13T18:35:03.155Z"
   },
   {
    "duration": 524,
    "start_time": "2022-01-13T18:35:03.178Z"
   },
   {
    "duration": 20,
    "start_time": "2022-01-13T18:35:03.705Z"
   },
   {
    "duration": 427,
    "start_time": "2022-01-13T18:35:03.727Z"
   },
   {
    "duration": 420,
    "start_time": "2022-01-13T18:35:04.157Z"
   },
   {
    "duration": 433,
    "start_time": "2022-01-13T18:35:04.579Z"
   },
   {
    "duration": 15,
    "start_time": "2022-01-13T18:35:05.015Z"
   },
   {
    "duration": 19,
    "start_time": "2022-01-13T18:35:05.032Z"
   },
   {
    "duration": 606,
    "start_time": "2022-01-13T18:35:05.053Z"
   },
   {
    "duration": 719,
    "start_time": "2022-01-13T18:35:05.661Z"
   },
   {
    "duration": 868,
    "start_time": "2022-01-13T18:35:06.382Z"
   },
   {
    "duration": 303,
    "start_time": "2022-01-13T18:35:07.254Z"
   },
   {
    "duration": 16,
    "start_time": "2022-01-13T18:35:07.559Z"
   },
   {
    "duration": 11,
    "start_time": "2022-01-13T18:35:07.577Z"
   },
   {
    "duration": 42,
    "start_time": "2022-01-13T18:35:07.591Z"
   },
   {
    "duration": 388,
    "start_time": "2022-01-13T18:40:20.539Z"
   },
   {
    "duration": 387,
    "start_time": "2022-01-13T18:41:04.007Z"
   },
   {
    "duration": 388,
    "start_time": "2022-01-13T18:42:54.882Z"
   },
   {
    "duration": 290,
    "start_time": "2022-01-13T18:45:27.779Z"
   },
   {
    "duration": 317,
    "start_time": "2022-01-13T18:45:38.081Z"
   },
   {
    "duration": 314,
    "start_time": "2022-01-13T18:45:50.878Z"
   },
   {
    "duration": 412,
    "start_time": "2022-01-13T18:45:58.066Z"
   },
   {
    "duration": 452,
    "start_time": "2022-01-13T18:46:07.302Z"
   },
   {
    "duration": 356,
    "start_time": "2022-01-13T18:47:01.552Z"
   },
   {
    "duration": 4,
    "start_time": "2022-01-13T18:47:37.002Z"
   },
   {
    "duration": 363,
    "start_time": "2022-01-13T18:47:43.025Z"
   },
   {
    "duration": 370,
    "start_time": "2022-01-13T18:48:08.935Z"
   },
   {
    "duration": 375,
    "start_time": "2022-01-13T18:48:33.136Z"
   },
   {
    "duration": 527,
    "start_time": "2022-01-13T18:48:53.085Z"
   },
   {
    "duration": 351,
    "start_time": "2022-01-13T18:50:29.938Z"
   },
   {
    "duration": 422,
    "start_time": "2022-01-13T18:50:59.994Z"
   },
   {
    "duration": 296,
    "start_time": "2022-01-13T18:51:09.552Z"
   },
   {
    "duration": 345,
    "start_time": "2022-01-13T18:51:32.629Z"
   },
   {
    "duration": 530,
    "start_time": "2022-01-13T18:52:03.615Z"
   },
   {
    "duration": 383,
    "start_time": "2022-01-13T18:52:35.462Z"
   },
   {
    "duration": 362,
    "start_time": "2022-01-13T18:53:06.470Z"
   },
   {
    "duration": 386,
    "start_time": "2022-01-13T18:53:37.246Z"
   },
   {
    "duration": 296,
    "start_time": "2022-01-13T19:17:37.256Z"
   },
   {
    "duration": 315,
    "start_time": "2022-01-13T19:19:21.449Z"
   },
   {
    "duration": 316,
    "start_time": "2022-01-13T19:19:33.115Z"
   },
   {
    "duration": 370,
    "start_time": "2022-01-13T19:19:39.253Z"
   },
   {
    "duration": 409,
    "start_time": "2022-01-13T19:19:51.381Z"
   },
   {
    "duration": 275,
    "start_time": "2022-01-13T19:24:48.483Z"
   },
   {
    "duration": 363,
    "start_time": "2022-01-13T19:24:59.732Z"
   },
   {
    "duration": 1113,
    "start_time": "2022-01-13T19:26:35.475Z"
   },
   {
    "duration": 587,
    "start_time": "2022-01-13T19:29:48.562Z"
   },
   {
    "duration": 323,
    "start_time": "2022-01-13T19:32:43.897Z"
   },
   {
    "duration": 21,
    "start_time": "2022-01-13T19:33:32.261Z"
   },
   {
    "duration": 80,
    "start_time": "2022-01-13T19:39:26.303Z"
   },
   {
    "duration": 485,
    "start_time": "2022-01-13T19:39:40.109Z"
   },
   {
    "duration": 345,
    "start_time": "2022-01-13T19:39:52.318Z"
   },
   {
    "duration": 366,
    "start_time": "2022-01-13T19:41:02.909Z"
   },
   {
    "duration": 473,
    "start_time": "2022-01-13T19:43:27.485Z"
   },
   {
    "duration": 260,
    "start_time": "2022-01-13T19:44:41.566Z"
   },
   {
    "duration": 19,
    "start_time": "2022-01-13T19:45:07.685Z"
   },
   {
    "duration": 412,
    "start_time": "2022-01-13T19:48:17.057Z"
   },
   {
    "duration": 331,
    "start_time": "2022-01-13T19:48:26.470Z"
   },
   {
    "duration": 390,
    "start_time": "2022-01-13T19:48:52.545Z"
   },
   {
    "duration": 327,
    "start_time": "2022-01-13T19:49:33.059Z"
   },
   {
    "duration": 348,
    "start_time": "2022-01-13T19:50:08.719Z"
   },
   {
    "duration": 560,
    "start_time": "2022-01-13T19:50:50.122Z"
   },
   {
    "duration": 366,
    "start_time": "2022-01-13T19:51:21.188Z"
   },
   {
    "duration": 286,
    "start_time": "2022-01-13T19:51:49.172Z"
   },
   {
    "duration": 16,
    "start_time": "2022-01-13T19:52:02.937Z"
   },
   {
    "duration": 518,
    "start_time": "2022-01-13T19:59:44.949Z"
   },
   {
    "duration": 617,
    "start_time": "2022-01-13T19:59:53.803Z"
   },
   {
    "duration": 289,
    "start_time": "2022-01-13T20:00:23.230Z"
   },
   {
    "duration": 261,
    "start_time": "2022-01-13T20:01:47.358Z"
   },
   {
    "duration": 316,
    "start_time": "2022-01-13T20:01:59.333Z"
   },
   {
    "duration": 441,
    "start_time": "2022-01-13T20:02:41.593Z"
   },
   {
    "duration": 327,
    "start_time": "2022-01-13T20:04:26.959Z"
   },
   {
    "duration": 377,
    "start_time": "2022-01-13T20:07:22.945Z"
   },
   {
    "duration": 345,
    "start_time": "2022-01-13T20:07:53.642Z"
   },
   {
    "duration": 402,
    "start_time": "2022-01-13T20:15:36.790Z"
   },
   {
    "duration": 271,
    "start_time": "2022-01-13T20:15:46.025Z"
   },
   {
    "duration": 23,
    "start_time": "2022-01-13T20:15:59.468Z"
   },
   {
    "duration": 1524,
    "start_time": "2022-01-13T20:18:49.352Z"
   },
   {
    "duration": 17,
    "start_time": "2022-01-13T20:18:50.879Z"
   },
   {
    "duration": 25,
    "start_time": "2022-01-13T20:18:50.899Z"
   },
   {
    "duration": 11,
    "start_time": "2022-01-13T20:18:50.927Z"
   },
   {
    "duration": 21,
    "start_time": "2022-01-13T20:18:50.940Z"
   },
   {
    "duration": 54,
    "start_time": "2022-01-13T20:18:50.964Z"
   },
   {
    "duration": 15,
    "start_time": "2022-01-13T20:18:51.021Z"
   },
   {
    "duration": 17,
    "start_time": "2022-01-13T20:18:51.040Z"
   },
   {
    "duration": 68,
    "start_time": "2022-01-13T20:18:51.060Z"
   },
   {
    "duration": 349,
    "start_time": "2022-01-13T20:18:51.130Z"
   },
   {
    "duration": 400,
    "start_time": "2022-01-13T20:18:51.482Z"
   },
   {
    "duration": 33,
    "start_time": "2022-01-13T20:18:51.885Z"
   },
   {
    "duration": 23,
    "start_time": "2022-01-13T20:18:51.921Z"
   },
   {
    "duration": 523,
    "start_time": "2022-01-13T20:18:51.947Z"
   },
   {
    "duration": 11,
    "start_time": "2022-01-13T20:18:52.473Z"
   },
   {
    "duration": 456,
    "start_time": "2022-01-13T20:18:52.486Z"
   },
   {
    "duration": 421,
    "start_time": "2022-01-13T20:18:52.945Z"
   },
   {
    "duration": 449,
    "start_time": "2022-01-13T20:18:53.368Z"
   },
   {
    "duration": 15,
    "start_time": "2022-01-13T20:18:53.819Z"
   },
   {
    "duration": 28,
    "start_time": "2022-01-13T20:18:53.836Z"
   },
   {
    "duration": 499,
    "start_time": "2022-01-13T20:18:53.867Z"
   },
   {
    "duration": 742,
    "start_time": "2022-01-13T20:18:54.368Z"
   },
   {
    "duration": 866,
    "start_time": "2022-01-13T20:18:55.115Z"
   },
   {
    "duration": 323,
    "start_time": "2022-01-13T20:18:55.983Z"
   },
   {
    "duration": 18,
    "start_time": "2022-01-13T20:18:56.309Z"
   },
   {
    "duration": 11,
    "start_time": "2022-01-13T20:18:56.329Z"
   },
   {
    "duration": 13,
    "start_time": "2022-01-13T20:18:56.342Z"
   },
   {
    "duration": 33,
    "start_time": "2022-01-13T20:20:57.926Z"
   },
   {
    "duration": 511,
    "start_time": "2022-01-13T20:22:41.755Z"
   },
   {
    "duration": 580,
    "start_time": "2022-01-13T20:24:43.167Z"
   },
   {
    "duration": 338,
    "start_time": "2022-01-13T20:29:01.774Z"
   },
   {
    "duration": 505,
    "start_time": "2022-01-13T20:30:04.561Z"
   },
   {
    "duration": 359,
    "start_time": "2022-01-13T20:36:21.384Z"
   },
   {
    "duration": 531,
    "start_time": "2022-01-13T20:36:47.826Z"
   },
   {
    "duration": 1578,
    "start_time": "2022-01-13T20:36:53.753Z"
   },
   {
    "duration": 15,
    "start_time": "2022-01-13T20:36:55.334Z"
   },
   {
    "duration": 11,
    "start_time": "2022-01-13T20:36:55.352Z"
   },
   {
    "duration": 11,
    "start_time": "2022-01-13T20:36:55.365Z"
   },
   {
    "duration": 60,
    "start_time": "2022-01-13T20:36:55.378Z"
   },
   {
    "duration": 19,
    "start_time": "2022-01-13T20:36:55.440Z"
   },
   {
    "duration": 14,
    "start_time": "2022-01-13T20:36:55.461Z"
   },
   {
    "duration": 49,
    "start_time": "2022-01-13T20:36:55.478Z"
   },
   {
    "duration": 35,
    "start_time": "2022-01-13T20:36:55.532Z"
   },
   {
    "duration": 366,
    "start_time": "2022-01-13T20:36:55.570Z"
   },
   {
    "duration": 408,
    "start_time": "2022-01-13T20:36:55.938Z"
   },
   {
    "duration": 21,
    "start_time": "2022-01-13T20:36:56.348Z"
   },
   {
    "duration": 389,
    "start_time": "2022-01-13T20:36:56.371Z"
   },
   {
    "duration": 564,
    "start_time": "2022-01-13T20:36:56.764Z"
   },
   {
    "duration": 13,
    "start_time": "2022-01-13T20:36:57.331Z"
   },
   {
    "duration": 455,
    "start_time": "2022-01-13T20:36:57.346Z"
   },
   {
    "duration": 423,
    "start_time": "2022-01-13T20:36:57.803Z"
   },
   {
    "duration": 510,
    "start_time": "2022-01-13T20:36:58.229Z"
   },
   {
    "duration": 16,
    "start_time": "2022-01-13T20:36:58.742Z"
   },
   {
    "duration": 20,
    "start_time": "2022-01-13T20:36:58.762Z"
   },
   {
    "duration": 415,
    "start_time": "2022-01-13T20:36:58.785Z"
   },
   {
    "duration": 774,
    "start_time": "2022-01-13T20:36:59.203Z"
   },
   {
    "duration": 831,
    "start_time": "2022-01-13T20:36:59.979Z"
   },
   {
    "duration": 439,
    "start_time": "2022-01-13T20:37:00.813Z"
   },
   {
    "duration": 20,
    "start_time": "2022-01-13T20:37:01.255Z"
   },
   {
    "duration": 45,
    "start_time": "2022-01-13T20:37:01.278Z"
   },
   {
    "duration": 15,
    "start_time": "2022-01-13T20:37:01.328Z"
   },
   {
    "duration": 11,
    "start_time": "2022-01-13T20:43:29.335Z"
   },
   {
    "duration": 11,
    "start_time": "2022-01-13T20:44:06.372Z"
   },
   {
    "duration": 431,
    "start_time": "2022-01-13T20:46:47.427Z"
   },
   {
    "duration": 1529,
    "start_time": "2022-01-13T20:46:54.151Z"
   },
   {
    "duration": 16,
    "start_time": "2022-01-13T20:46:55.682Z"
   },
   {
    "duration": 20,
    "start_time": "2022-01-13T20:46:55.702Z"
   },
   {
    "duration": 10,
    "start_time": "2022-01-13T20:46:55.725Z"
   },
   {
    "duration": 19,
    "start_time": "2022-01-13T20:46:55.737Z"
   },
   {
    "duration": 21,
    "start_time": "2022-01-13T20:46:55.759Z"
   },
   {
    "duration": 15,
    "start_time": "2022-01-13T20:46:55.818Z"
   },
   {
    "duration": 17,
    "start_time": "2022-01-13T20:46:55.835Z"
   },
   {
    "duration": 64,
    "start_time": "2022-01-13T20:46:55.856Z"
   },
   {
    "duration": 328,
    "start_time": "2022-01-13T20:46:55.923Z"
   },
   {
    "duration": 398,
    "start_time": "2022-01-13T20:46:56.254Z"
   },
   {
    "duration": 22,
    "start_time": "2022-01-13T20:46:56.654Z"
   },
   {
    "duration": 362,
    "start_time": "2022-01-13T20:46:56.678Z"
   },
   {
    "duration": 521,
    "start_time": "2022-01-13T20:46:57.042Z"
   },
   {
    "duration": 12,
    "start_time": "2022-01-13T20:46:57.566Z"
   },
   {
    "duration": 371,
    "start_time": "2022-01-13T20:46:57.580Z"
   },
   {
    "duration": 390,
    "start_time": "2022-01-13T20:46:57.953Z"
   },
   {
    "duration": 481,
    "start_time": "2022-01-13T20:46:58.345Z"
   },
   {
    "duration": 14,
    "start_time": "2022-01-13T20:46:58.828Z"
   },
   {
    "duration": 19,
    "start_time": "2022-01-13T20:46:58.845Z"
   },
   {
    "duration": 417,
    "start_time": "2022-01-13T20:46:58.866Z"
   },
   {
    "duration": 734,
    "start_time": "2022-01-13T20:46:59.285Z"
   },
   {
    "duration": 805,
    "start_time": "2022-01-13T20:47:00.022Z"
   },
   {
    "duration": 306,
    "start_time": "2022-01-13T20:47:00.829Z"
   },
   {
    "duration": 16,
    "start_time": "2022-01-13T20:47:01.138Z"
   },
   {
    "duration": 14,
    "start_time": "2022-01-13T20:47:01.157Z"
   },
   {
    "duration": 49,
    "start_time": "2022-01-13T20:47:01.175Z"
   },
   {
    "duration": 411,
    "start_time": "2022-01-13T20:50:14.134Z"
   },
   {
    "duration": 429,
    "start_time": "2022-01-13T20:50:47.974Z"
   },
   {
    "duration": 1552,
    "start_time": "2022-01-13T20:51:19.356Z"
   },
   {
    "duration": 15,
    "start_time": "2022-01-13T20:51:20.911Z"
   },
   {
    "duration": 12,
    "start_time": "2022-01-13T20:51:20.929Z"
   },
   {
    "duration": 11,
    "start_time": "2022-01-13T20:51:20.944Z"
   },
   {
    "duration": 21,
    "start_time": "2022-01-13T20:51:20.957Z"
   },
   {
    "duration": 53,
    "start_time": "2022-01-13T20:51:20.981Z"
   },
   {
    "duration": 14,
    "start_time": "2022-01-13T20:51:21.037Z"
   },
   {
    "duration": 16,
    "start_time": "2022-01-13T20:51:21.054Z"
   },
   {
    "duration": 71,
    "start_time": "2022-01-13T20:51:21.074Z"
   },
   {
    "duration": 332,
    "start_time": "2022-01-13T20:51:21.148Z"
   },
   {
    "duration": 386,
    "start_time": "2022-01-13T20:51:21.483Z"
   },
   {
    "duration": 24,
    "start_time": "2022-01-13T20:51:21.872Z"
   },
   {
    "duration": 389,
    "start_time": "2022-01-13T20:51:21.899Z"
   },
   {
    "duration": 541,
    "start_time": "2022-01-13T20:51:22.291Z"
   },
   {
    "duration": 14,
    "start_time": "2022-01-13T20:51:22.835Z"
   },
   {
    "duration": 380,
    "start_time": "2022-01-13T20:51:22.851Z"
   },
   {
    "duration": 402,
    "start_time": "2022-01-13T20:51:23.234Z"
   },
   {
    "duration": 486,
    "start_time": "2022-01-13T20:51:23.639Z"
   },
   {
    "duration": 16,
    "start_time": "2022-01-13T20:51:24.129Z"
   },
   {
    "duration": 21,
    "start_time": "2022-01-13T20:51:24.148Z"
   },
   {
    "duration": 393,
    "start_time": "2022-01-13T20:51:24.172Z"
   },
   {
    "duration": 721,
    "start_time": "2022-01-13T20:51:24.568Z"
   },
   {
    "duration": 747,
    "start_time": "2022-01-13T20:51:25.291Z"
   },
   {
    "duration": 297,
    "start_time": "2022-01-13T20:51:26.041Z"
   },
   {
    "duration": 17,
    "start_time": "2022-01-13T20:51:26.341Z"
   },
   {
    "duration": 12,
    "start_time": "2022-01-13T20:51:26.360Z"
   },
   {
    "duration": 45,
    "start_time": "2022-01-13T20:51:26.376Z"
   },
   {
    "duration": 405,
    "start_time": "2022-01-13T20:51:52.079Z"
   },
   {
    "duration": 21,
    "start_time": "2022-01-13T20:55:04.702Z"
   },
   {
    "duration": 16,
    "start_time": "2022-01-13T20:55:14.439Z"
   },
   {
    "duration": 15,
    "start_time": "2022-01-13T20:55:36.133Z"
   },
   {
    "duration": 21,
    "start_time": "2022-01-13T20:56:00.844Z"
   },
   {
    "duration": 535,
    "start_time": "2022-01-13T20:56:22.371Z"
   },
   {
    "duration": 505,
    "start_time": "2022-01-13T21:50:58.545Z"
   },
   {
    "duration": 1585,
    "start_time": "2022-01-13T21:51:03.900Z"
   },
   {
    "duration": 16,
    "start_time": "2022-01-13T21:51:05.487Z"
   },
   {
    "duration": 13,
    "start_time": "2022-01-13T21:51:05.517Z"
   },
   {
    "duration": 19,
    "start_time": "2022-01-13T21:51:05.534Z"
   },
   {
    "duration": 27,
    "start_time": "2022-01-13T21:51:05.556Z"
   },
   {
    "duration": 49,
    "start_time": "2022-01-13T21:51:05.586Z"
   },
   {
    "duration": 21,
    "start_time": "2022-01-13T21:51:05.638Z"
   },
   {
    "duration": 19,
    "start_time": "2022-01-13T21:51:05.662Z"
   },
   {
    "duration": 66,
    "start_time": "2022-01-13T21:51:05.687Z"
   },
   {
    "duration": 501,
    "start_time": "2022-01-13T21:51:05.757Z"
   },
   {
    "duration": 418,
    "start_time": "2022-01-13T21:51:06.260Z"
   },
   {
    "duration": 35,
    "start_time": "2022-01-13T21:51:06.682Z"
   },
   {
    "duration": 362,
    "start_time": "2022-01-13T21:51:06.720Z"
   },
   {
    "duration": 516,
    "start_time": "2022-01-13T21:51:07.084Z"
   },
   {
    "duration": 25,
    "start_time": "2022-01-13T21:51:07.603Z"
   },
   {
    "duration": 395,
    "start_time": "2022-01-13T21:51:07.632Z"
   },
   {
    "duration": 439,
    "start_time": "2022-01-13T21:51:08.029Z"
   },
   {
    "duration": 472,
    "start_time": "2022-01-13T21:51:08.470Z"
   },
   {
    "duration": 17,
    "start_time": "2022-01-13T21:51:08.944Z"
   },
   {
    "duration": 19,
    "start_time": "2022-01-13T21:51:08.964Z"
   },
   {
    "duration": 505,
    "start_time": "2022-01-13T21:51:08.986Z"
   },
   {
    "duration": 808,
    "start_time": "2022-01-13T21:51:09.494Z"
   },
   {
    "duration": 846,
    "start_time": "2022-01-13T21:51:10.305Z"
   },
   {
    "duration": 477,
    "start_time": "2022-01-13T21:51:11.154Z"
   },
   {
    "duration": 16,
    "start_time": "2022-01-13T21:51:11.634Z"
   },
   {
    "duration": 14,
    "start_time": "2022-01-13T21:51:11.653Z"
   },
   {
    "duration": 51,
    "start_time": "2022-01-13T21:51:11.673Z"
   },
   {
    "duration": 1632,
    "start_time": "2022-01-14T05:39:31.201Z"
   },
   {
    "duration": 15,
    "start_time": "2022-01-14T05:39:32.836Z"
   },
   {
    "duration": 12,
    "start_time": "2022-01-14T05:39:32.854Z"
   },
   {
    "duration": 33,
    "start_time": "2022-01-14T05:39:32.868Z"
   },
   {
    "duration": 17,
    "start_time": "2022-01-14T05:39:32.904Z"
   },
   {
    "duration": 20,
    "start_time": "2022-01-14T05:39:32.923Z"
   },
   {
    "duration": 15,
    "start_time": "2022-01-14T05:39:32.945Z"
   },
   {
    "duration": 54,
    "start_time": "2022-01-14T05:39:32.962Z"
   },
   {
    "duration": 34,
    "start_time": "2022-01-14T05:39:33.020Z"
   },
   {
    "duration": 353,
    "start_time": "2022-01-14T05:39:33.056Z"
   },
   {
    "duration": 416,
    "start_time": "2022-01-14T05:39:33.412Z"
   },
   {
    "duration": 21,
    "start_time": "2022-01-14T05:39:33.830Z"
   },
   {
    "duration": 376,
    "start_time": "2022-01-14T05:39:33.854Z"
   },
   {
    "duration": 524,
    "start_time": "2022-01-14T05:39:34.232Z"
   },
   {
    "duration": 11,
    "start_time": "2022-01-14T05:39:34.759Z"
   },
   {
    "duration": 56,
    "start_time": "2022-01-14T05:39:34.773Z"
   },
   {
    "duration": 474,
    "start_time": "2022-01-14T06:19:38.667Z"
   },
   {
    "duration": 400,
    "start_time": "2022-01-14T06:19:49.734Z"
   },
   {
    "duration": 2058,
    "start_time": "2022-01-14T06:20:10.537Z"
   },
   {
    "duration": 17,
    "start_time": "2022-01-14T06:20:12.598Z"
   },
   {
    "duration": 13,
    "start_time": "2022-01-14T06:20:12.619Z"
   },
   {
    "duration": 22,
    "start_time": "2022-01-14T06:20:12.634Z"
   },
   {
    "duration": 46,
    "start_time": "2022-01-14T06:20:12.658Z"
   },
   {
    "duration": 22,
    "start_time": "2022-01-14T06:20:12.706Z"
   },
   {
    "duration": 26,
    "start_time": "2022-01-14T06:20:12.731Z"
   },
   {
    "duration": 43,
    "start_time": "2022-01-14T06:20:12.761Z"
   },
   {
    "duration": 37,
    "start_time": "2022-01-14T06:20:12.807Z"
   },
   {
    "duration": 358,
    "start_time": "2022-01-14T06:20:12.846Z"
   },
   {
    "duration": 422,
    "start_time": "2022-01-14T06:20:13.207Z"
   },
   {
    "duration": 23,
    "start_time": "2022-01-14T06:20:13.632Z"
   },
   {
    "duration": 379,
    "start_time": "2022-01-14T06:20:13.658Z"
   },
   {
    "duration": 682,
    "start_time": "2022-01-14T06:20:14.041Z"
   },
   {
    "duration": 12,
    "start_time": "2022-01-14T06:20:14.726Z"
   },
   {
    "duration": 62,
    "start_time": "2022-01-14T06:20:14.741Z"
   },
   {
    "duration": 372,
    "start_time": "2022-01-14T06:20:14.805Z"
   },
   {
    "duration": 436,
    "start_time": "2022-01-14T06:20:15.180Z"
   },
   {
    "duration": 425,
    "start_time": "2022-01-14T06:20:15.619Z"
   },
   {
    "duration": 14,
    "start_time": "2022-01-14T06:20:16.048Z"
   },
   {
    "duration": 47,
    "start_time": "2022-01-14T06:20:16.065Z"
   },
   {
    "duration": 745,
    "start_time": "2022-01-14T06:20:16.115Z"
   },
   {
    "duration": 806,
    "start_time": "2022-01-14T06:20:16.865Z"
   },
   {
    "duration": 1059,
    "start_time": "2022-01-14T06:20:17.674Z"
   },
   {
    "duration": 324,
    "start_time": "2022-01-14T06:20:18.736Z"
   },
   {
    "duration": 14,
    "start_time": "2022-01-14T06:20:19.063Z"
   },
   {
    "duration": 30,
    "start_time": "2022-01-14T06:20:19.080Z"
   },
   {
    "duration": 13,
    "start_time": "2022-01-14T06:20:19.113Z"
   },
   {
    "duration": 545,
    "start_time": "2022-01-14T06:24:33.336Z"
   },
   {
    "duration": 1650,
    "start_time": "2022-01-14T06:24:43.847Z"
   },
   {
    "duration": 15,
    "start_time": "2022-01-14T06:24:45.499Z"
   },
   {
    "duration": 12,
    "start_time": "2022-01-14T06:24:45.518Z"
   },
   {
    "duration": 11,
    "start_time": "2022-01-14T06:24:45.533Z"
   },
   {
    "duration": 53,
    "start_time": "2022-01-14T06:24:45.547Z"
   },
   {
    "duration": 22,
    "start_time": "2022-01-14T06:24:45.603Z"
   },
   {
    "duration": 15,
    "start_time": "2022-01-14T06:24:45.628Z"
   },
   {
    "duration": 18,
    "start_time": "2022-01-14T06:24:45.645Z"
   },
   {
    "duration": 40,
    "start_time": "2022-01-14T06:24:45.699Z"
   },
   {
    "duration": 353,
    "start_time": "2022-01-14T06:24:45.742Z"
   },
   {
    "duration": 411,
    "start_time": "2022-01-14T06:24:46.097Z"
   },
   {
    "duration": 22,
    "start_time": "2022-01-14T06:24:46.510Z"
   },
   {
    "duration": 372,
    "start_time": "2022-01-14T06:24:46.534Z"
   },
   {
    "duration": 619,
    "start_time": "2022-01-14T06:24:46.908Z"
   },
   {
    "duration": 12,
    "start_time": "2022-01-14T06:24:47.530Z"
   },
   {
    "duration": 57,
    "start_time": "2022-01-14T06:24:47.545Z"
   },
   {
    "duration": 355,
    "start_time": "2022-01-14T06:24:47.605Z"
   },
   {
    "duration": 445,
    "start_time": "2022-01-14T06:24:47.963Z"
   },
   {
    "duration": 536,
    "start_time": "2022-01-14T06:24:48.410Z"
   },
   {
    "duration": 16,
    "start_time": "2022-01-14T06:24:48.949Z"
   },
   {
    "duration": 46,
    "start_time": "2022-01-14T06:24:48.968Z"
   },
   {
    "duration": 397,
    "start_time": "2022-01-14T06:24:49.017Z"
   },
   {
    "duration": 768,
    "start_time": "2022-01-14T06:24:49.417Z"
   },
   {
    "duration": 787,
    "start_time": "2022-01-14T06:24:50.187Z"
   },
   {
    "duration": 314,
    "start_time": "2022-01-14T06:24:50.976Z"
   },
   {
    "duration": 15,
    "start_time": "2022-01-14T06:24:51.300Z"
   },
   {
    "duration": 12,
    "start_time": "2022-01-14T06:24:51.319Z"
   },
   {
    "duration": 13,
    "start_time": "2022-01-14T06:24:51.334Z"
   },
   {
    "duration": 40,
    "start_time": "2022-01-14T06:30:50.845Z"
   },
   {
    "duration": 34,
    "start_time": "2022-01-14T06:32:44.098Z"
   },
   {
    "duration": 596,
    "start_time": "2022-01-14T06:37:31.888Z"
   },
   {
    "duration": 15,
    "start_time": "2022-01-14T06:37:52.151Z"
   },
   {
    "duration": 135,
    "start_time": "2022-01-14T06:41:42.918Z"
   },
   {
    "duration": 127,
    "start_time": "2022-01-14T06:41:58.364Z"
   },
   {
    "duration": 34,
    "start_time": "2022-01-14T06:42:19.557Z"
   },
   {
    "duration": 33,
    "start_time": "2022-01-14T06:42:29.192Z"
   },
   {
    "duration": 551,
    "start_time": "2022-01-14T06:42:38.791Z"
   },
   {
    "duration": 14,
    "start_time": "2022-01-14T06:42:45.013Z"
   },
   {
    "duration": 12,
    "start_time": "2022-01-14T06:42:58.057Z"
   },
   {
    "duration": 1718,
    "start_time": "2022-01-14T06:43:09.644Z"
   },
   {
    "duration": 18,
    "start_time": "2022-01-14T06:43:11.365Z"
   },
   {
    "duration": 28,
    "start_time": "2022-01-14T06:43:11.386Z"
   },
   {
    "duration": 13,
    "start_time": "2022-01-14T06:43:11.417Z"
   },
   {
    "duration": 25,
    "start_time": "2022-01-14T06:43:11.432Z"
   },
   {
    "duration": 55,
    "start_time": "2022-01-14T06:43:11.460Z"
   },
   {
    "duration": 15,
    "start_time": "2022-01-14T06:43:11.518Z"
   },
   {
    "duration": 18,
    "start_time": "2022-01-14T06:43:11.537Z"
   },
   {
    "duration": 73,
    "start_time": "2022-01-14T06:43:11.558Z"
   },
   {
    "duration": 333,
    "start_time": "2022-01-14T06:43:11.634Z"
   },
   {
    "duration": 396,
    "start_time": "2022-01-14T06:43:11.970Z"
   },
   {
    "duration": 38,
    "start_time": "2022-01-14T06:43:12.368Z"
   },
   {
    "duration": 351,
    "start_time": "2022-01-14T06:43:12.409Z"
   },
   {
    "duration": 533,
    "start_time": "2022-01-14T06:43:12.763Z"
   },
   {
    "duration": 15,
    "start_time": "2022-01-14T06:43:13.301Z"
   },
   {
    "duration": 35,
    "start_time": "2022-01-14T06:43:13.319Z"
   },
   {
    "duration": 374,
    "start_time": "2022-01-14T06:43:13.356Z"
   },
   {
    "duration": 406,
    "start_time": "2022-01-14T06:43:13.732Z"
   },
   {
    "duration": 520,
    "start_time": "2022-01-14T06:43:14.141Z"
   },
   {
    "duration": 15,
    "start_time": "2022-01-14T06:43:14.664Z"
   },
   {
    "duration": 35,
    "start_time": "2022-01-14T06:43:14.682Z"
   },
   {
    "duration": 394,
    "start_time": "2022-01-14T06:43:14.720Z"
   },
   {
    "duration": 754,
    "start_time": "2022-01-14T06:43:15.118Z"
   },
   {
    "duration": 954,
    "start_time": "2022-01-14T06:43:15.875Z"
   },
   {
    "duration": 419,
    "start_time": "2022-01-14T06:43:16.832Z"
   },
   {
    "duration": 15,
    "start_time": "2022-01-14T06:43:17.253Z"
   },
   {
    "duration": 37,
    "start_time": "2022-01-14T06:43:17.271Z"
   },
   {
    "duration": 13,
    "start_time": "2022-01-14T06:43:17.311Z"
   },
   {
    "duration": 125,
    "start_time": "2022-01-14T07:04:42.733Z"
   },
   {
    "duration": 134,
    "start_time": "2022-01-14T07:04:55.536Z"
   },
   {
    "duration": 356,
    "start_time": "2022-01-14T07:10:35.473Z"
   },
   {
    "duration": 341,
    "start_time": "2022-01-14T07:10:42.188Z"
   },
   {
    "duration": 328,
    "start_time": "2022-01-14T07:18:37.990Z"
   },
   {
    "duration": 337,
    "start_time": "2022-01-14T07:19:03.642Z"
   },
   {
    "duration": 340,
    "start_time": "2022-01-14T07:19:14.260Z"
   },
   {
    "duration": 355,
    "start_time": "2022-01-14T07:20:29.836Z"
   },
   {
    "duration": 360,
    "start_time": "2022-01-14T07:20:36.592Z"
   },
   {
    "duration": 357,
    "start_time": "2022-01-14T07:20:42.942Z"
   },
   {
    "duration": 363,
    "start_time": "2022-01-14T07:22:06.914Z"
   },
   {
    "duration": 351,
    "start_time": "2022-01-14T07:22:21.849Z"
   },
   {
    "duration": 358,
    "start_time": "2022-01-14T07:28:15.699Z"
   },
   {
    "duration": 539,
    "start_time": "2022-01-14T07:41:23.211Z"
   },
   {
    "duration": 843,
    "start_time": "2022-01-14T07:41:53.204Z"
   },
   {
    "duration": 404,
    "start_time": "2022-01-14T07:47:27.610Z"
   },
   {
    "duration": 381,
    "start_time": "2022-01-14T07:47:39.775Z"
   },
   {
    "duration": 1697,
    "start_time": "2022-01-14T07:47:49.146Z"
   },
   {
    "duration": 19,
    "start_time": "2022-01-14T07:47:50.846Z"
   },
   {
    "duration": 34,
    "start_time": "2022-01-14T07:47:50.869Z"
   },
   {
    "duration": 12,
    "start_time": "2022-01-14T07:47:50.906Z"
   },
   {
    "duration": 18,
    "start_time": "2022-01-14T07:47:50.921Z"
   },
   {
    "duration": 61,
    "start_time": "2022-01-14T07:47:50.942Z"
   },
   {
    "duration": 17,
    "start_time": "2022-01-14T07:47:51.005Z"
   },
   {
    "duration": 18,
    "start_time": "2022-01-14T07:47:51.026Z"
   },
   {
    "duration": 81,
    "start_time": "2022-01-14T07:47:51.048Z"
   },
   {
    "duration": 353,
    "start_time": "2022-01-14T07:47:51.132Z"
   },
   {
    "duration": 482,
    "start_time": "2022-01-14T07:47:51.488Z"
   },
   {
    "duration": 39,
    "start_time": "2022-01-14T07:47:51.973Z"
   },
   {
    "duration": 395,
    "start_time": "2022-01-14T07:47:52.015Z"
   },
   {
    "duration": 550,
    "start_time": "2022-01-14T07:47:52.413Z"
   },
   {
    "duration": 14,
    "start_time": "2022-01-14T07:47:52.967Z"
   },
   {
    "duration": 47,
    "start_time": "2022-01-14T07:47:53.002Z"
   },
   {
    "duration": 392,
    "start_time": "2022-01-14T07:47:53.052Z"
   },
   {
    "duration": 526,
    "start_time": "2022-01-14T07:47:53.447Z"
   },
   {
    "duration": 541,
    "start_time": "2022-01-14T07:47:53.976Z"
   },
   {
    "duration": 15,
    "start_time": "2022-01-14T07:47:54.520Z"
   },
   {
    "duration": 25,
    "start_time": "2022-01-14T07:47:54.538Z"
   },
   {
    "duration": 443,
    "start_time": "2022-01-14T07:47:54.567Z"
   },
   {
    "duration": 576,
    "start_time": "2022-01-14T07:47:55.015Z"
   },
   {
    "duration": 672,
    "start_time": "2022-01-14T07:47:54.921Z"
   },
   {
    "duration": 671,
    "start_time": "2022-01-14T07:47:54.924Z"
   },
   {
    "duration": 671,
    "start_time": "2022-01-14T07:47:54.926Z"
   },
   {
    "duration": 669,
    "start_time": "2022-01-14T07:47:54.929Z"
   },
   {
    "duration": 659,
    "start_time": "2022-01-14T07:47:54.941Z"
   },
   {
    "duration": 656,
    "start_time": "2022-01-14T07:47:54.945Z"
   },
   {
    "duration": 426,
    "start_time": "2022-01-14T07:50:11.432Z"
   },
   {
    "duration": 403,
    "start_time": "2022-01-14T07:50:29.518Z"
   },
   {
    "duration": 404,
    "start_time": "2022-01-14T07:50:58.665Z"
   },
   {
    "duration": 615,
    "start_time": "2022-01-14T07:52:31.065Z"
   },
   {
    "duration": 602,
    "start_time": "2022-01-14T07:52:44.390Z"
   },
   {
    "duration": 386,
    "start_time": "2022-01-14T07:53:06.931Z"
   },
   {
    "duration": 382,
    "start_time": "2022-01-14T07:53:53.042Z"
   },
   {
    "duration": 1646,
    "start_time": "2022-01-14T08:03:40.872Z"
   },
   {
    "duration": 16,
    "start_time": "2022-01-14T08:03:42.521Z"
   },
   {
    "duration": 16,
    "start_time": "2022-01-14T08:03:42.541Z"
   },
   {
    "duration": 12,
    "start_time": "2022-01-14T08:03:42.560Z"
   },
   {
    "duration": 20,
    "start_time": "2022-01-14T08:03:42.602Z"
   },
   {
    "duration": 28,
    "start_time": "2022-01-14T08:03:42.625Z"
   },
   {
    "duration": 54,
    "start_time": "2022-01-14T08:03:42.656Z"
   },
   {
    "duration": 19,
    "start_time": "2022-01-14T08:03:42.716Z"
   },
   {
    "duration": 69,
    "start_time": "2022-01-14T08:03:42.739Z"
   },
   {
    "duration": 331,
    "start_time": "2022-01-14T08:03:42.811Z"
   },
   {
    "duration": 405,
    "start_time": "2022-01-14T08:03:43.145Z"
   },
   {
    "duration": 23,
    "start_time": "2022-01-14T08:03:43.553Z"
   },
   {
    "duration": 385,
    "start_time": "2022-01-14T08:03:43.579Z"
   },
   {
    "duration": 534,
    "start_time": "2022-01-14T08:03:43.967Z"
   },
   {
    "duration": 15,
    "start_time": "2022-01-14T08:03:44.504Z"
   },
   {
    "duration": 39,
    "start_time": "2022-01-14T08:03:44.522Z"
   },
   {
    "duration": 391,
    "start_time": "2022-01-14T08:03:44.565Z"
   },
   {
    "duration": 450,
    "start_time": "2022-01-14T08:03:44.958Z"
   },
   {
    "duration": 499,
    "start_time": "2022-01-14T08:03:45.411Z"
   },
   {
    "duration": 16,
    "start_time": "2022-01-14T08:03:45.912Z"
   },
   {
    "duration": 23,
    "start_time": "2022-01-14T08:03:45.931Z"
   },
   {
    "duration": 533,
    "start_time": "2022-01-14T08:03:45.957Z"
   },
   {
    "duration": 1140,
    "start_time": "2022-01-14T08:03:46.494Z"
   },
   {
    "duration": 890,
    "start_time": "2022-01-14T08:03:47.637Z"
   },
   {
    "duration": 415,
    "start_time": "2022-01-14T08:03:48.530Z"
   },
   {
    "duration": 18,
    "start_time": "2022-01-14T08:03:48.948Z"
   },
   {
    "duration": 34,
    "start_time": "2022-01-14T08:03:48.969Z"
   },
   {
    "duration": 14,
    "start_time": "2022-01-14T08:03:49.006Z"
   },
   {
    "duration": 810,
    "start_time": "2022-01-14T08:04:27.918Z"
   },
   {
    "duration": 802,
    "start_time": "2022-01-14T08:05:06.207Z"
   },
   {
    "duration": 927,
    "start_time": "2022-01-14T08:06:00.965Z"
   },
   {
    "duration": 126,
    "start_time": "2022-01-14T08:07:10.725Z"
   },
   {
    "duration": 755,
    "start_time": "2022-01-14T08:07:41.617Z"
   },
   {
    "duration": 812,
    "start_time": "2022-01-14T08:07:59.108Z"
   },
   {
    "duration": 13,
    "start_time": "2022-01-14T08:12:25.557Z"
   },
   {
    "duration": 419,
    "start_time": "2022-01-14T08:13:20.544Z"
   },
   {
    "duration": 334,
    "start_time": "2022-01-14T08:16:02.054Z"
   },
   {
    "duration": 12,
    "start_time": "2022-01-14T08:38:26.711Z"
   },
   {
    "duration": 1661,
    "start_time": "2022-01-14T08:38:34.628Z"
   },
   {
    "duration": 23,
    "start_time": "2022-01-14T08:38:36.292Z"
   },
   {
    "duration": 12,
    "start_time": "2022-01-14T08:38:36.319Z"
   },
   {
    "duration": 10,
    "start_time": "2022-01-14T08:38:36.334Z"
   },
   {
    "duration": 20,
    "start_time": "2022-01-14T08:38:36.347Z"
   },
   {
    "duration": 61,
    "start_time": "2022-01-14T08:38:36.369Z"
   },
   {
    "duration": 15,
    "start_time": "2022-01-14T08:38:36.432Z"
   },
   {
    "duration": 17,
    "start_time": "2022-01-14T08:38:36.451Z"
   },
   {
    "duration": 68,
    "start_time": "2022-01-14T08:38:36.471Z"
   },
   {
    "duration": 381,
    "start_time": "2022-01-14T08:38:36.541Z"
   },
   {
    "duration": 427,
    "start_time": "2022-01-14T08:38:36.924Z"
   },
   {
    "duration": 22,
    "start_time": "2022-01-14T08:38:37.354Z"
   },
   {
    "duration": 378,
    "start_time": "2022-01-14T08:38:37.378Z"
   },
   {
    "duration": 564,
    "start_time": "2022-01-14T08:38:37.759Z"
   },
   {
    "duration": 11,
    "start_time": "2022-01-14T08:38:38.325Z"
   },
   {
    "duration": 46,
    "start_time": "2022-01-14T08:38:38.339Z"
   },
   {
    "duration": 387,
    "start_time": "2022-01-14T08:38:38.404Z"
   },
   {
    "duration": 440,
    "start_time": "2022-01-14T08:38:38.794Z"
   },
   {
    "duration": 509,
    "start_time": "2022-01-14T08:38:39.237Z"
   },
   {
    "duration": 15,
    "start_time": "2022-01-14T08:38:39.749Z"
   },
   {
    "duration": 44,
    "start_time": "2022-01-14T08:38:39.766Z"
   },
   {
    "duration": 425,
    "start_time": "2022-01-14T08:38:39.813Z"
   },
   {
    "duration": 787,
    "start_time": "2022-01-14T08:38:40.242Z"
   },
   {
    "duration": 800,
    "start_time": "2022-01-14T08:38:41.032Z"
   },
   {
    "duration": 330,
    "start_time": "2022-01-14T08:38:41.835Z"
   },
   {
    "duration": 15,
    "start_time": "2022-01-14T08:38:42.167Z"
   },
   {
    "duration": 24,
    "start_time": "2022-01-14T08:38:42.184Z"
   },
   {
    "duration": 13,
    "start_time": "2022-01-14T08:38:42.211Z"
   },
   {
    "duration": 13,
    "start_time": "2022-01-14T08:38:59.952Z"
   },
   {
    "duration": 11,
    "start_time": "2022-01-14T08:39:15.045Z"
   },
   {
    "duration": 15,
    "start_time": "2022-01-14T08:40:35.203Z"
   },
   {
    "duration": 1817,
    "start_time": "2022-01-14T08:41:05.535Z"
   },
   {
    "duration": 17,
    "start_time": "2022-01-14T08:41:07.356Z"
   },
   {
    "duration": 38,
    "start_time": "2022-01-14T08:41:07.376Z"
   },
   {
    "duration": 11,
    "start_time": "2022-01-14T08:41:07.418Z"
   },
   {
    "duration": 20,
    "start_time": "2022-01-14T08:41:07.432Z"
   },
   {
    "duration": 68,
    "start_time": "2022-01-14T08:41:07.454Z"
   },
   {
    "duration": 19,
    "start_time": "2022-01-14T08:41:07.525Z"
   },
   {
    "duration": 53,
    "start_time": "2022-01-14T08:41:07.549Z"
   },
   {
    "duration": 44,
    "start_time": "2022-01-14T08:41:07.605Z"
   },
   {
    "duration": 396,
    "start_time": "2022-01-14T08:41:07.653Z"
   },
   {
    "duration": 433,
    "start_time": "2022-01-14T08:41:08.052Z"
   },
   {
    "duration": 36,
    "start_time": "2022-01-14T08:41:08.487Z"
   },
   {
    "duration": 396,
    "start_time": "2022-01-14T08:41:08.526Z"
   },
   {
    "duration": 554,
    "start_time": "2022-01-14T08:41:08.925Z"
   },
   {
    "duration": 21,
    "start_time": "2022-01-14T08:41:09.482Z"
   },
   {
    "duration": 45,
    "start_time": "2022-01-14T08:41:09.506Z"
   },
   {
    "duration": 442,
    "start_time": "2022-01-14T08:41:09.554Z"
   },
   {
    "duration": 438,
    "start_time": "2022-01-14T08:41:10.000Z"
   },
   {
    "duration": 529,
    "start_time": "2022-01-14T08:41:10.441Z"
   },
   {
    "duration": 16,
    "start_time": "2022-01-14T08:41:10.973Z"
   },
   {
    "duration": 23,
    "start_time": "2022-01-14T08:41:11.001Z"
   },
   {
    "duration": 460,
    "start_time": "2022-01-14T08:41:11.027Z"
   },
   {
    "duration": 796,
    "start_time": "2022-01-14T08:41:11.491Z"
   },
   {
    "duration": 804,
    "start_time": "2022-01-14T08:41:12.300Z"
   },
   {
    "duration": 314,
    "start_time": "2022-01-14T08:41:13.107Z"
   },
   {
    "duration": 12,
    "start_time": "2022-01-14T08:41:13.424Z"
   },
   {
    "duration": 11,
    "start_time": "2022-01-14T08:41:13.438Z"
   },
   {
    "duration": 49,
    "start_time": "2022-01-14T08:41:13.452Z"
   },
   {
    "duration": 14,
    "start_time": "2022-01-14T08:41:41.220Z"
   },
   {
    "duration": 13,
    "start_time": "2022-01-14T08:41:46.264Z"
   },
   {
    "duration": 13,
    "start_time": "2022-01-14T08:42:02.084Z"
   },
   {
    "duration": 12,
    "start_time": "2022-01-14T08:42:09.580Z"
   },
   {
    "duration": 13,
    "start_time": "2022-01-14T08:42:13.214Z"
   },
   {
    "duration": 17,
    "start_time": "2022-01-14T08:42:45.598Z"
   },
   {
    "duration": 112,
    "start_time": "2022-01-14T08:42:54.981Z"
   },
   {
    "duration": 581,
    "start_time": "2022-01-14T08:47:17.362Z"
   },
   {
    "duration": 56,
    "start_time": "2022-01-14T08:48:45.787Z"
   },
   {
    "duration": 40,
    "start_time": "2022-01-14T08:48:58.882Z"
   },
   {
    "duration": 47,
    "start_time": "2022-01-14T08:49:15.188Z"
   },
   {
    "duration": 1791,
    "start_time": "2022-01-14T08:49:50.998Z"
   },
   {
    "duration": 21,
    "start_time": "2022-01-14T08:49:52.792Z"
   },
   {
    "duration": 17,
    "start_time": "2022-01-14T08:49:52.822Z"
   },
   {
    "duration": 20,
    "start_time": "2022-01-14T08:49:52.842Z"
   },
   {
    "duration": 55,
    "start_time": "2022-01-14T08:49:52.865Z"
   },
   {
    "duration": 21,
    "start_time": "2022-01-14T08:49:52.922Z"
   },
   {
    "duration": 55,
    "start_time": "2022-01-14T08:49:52.947Z"
   },
   {
    "duration": 26,
    "start_time": "2022-01-14T08:49:53.006Z"
   },
   {
    "duration": 71,
    "start_time": "2022-01-14T08:49:53.035Z"
   },
   {
    "duration": 386,
    "start_time": "2022-01-14T08:49:53.109Z"
   },
   {
    "duration": 418,
    "start_time": "2022-01-14T08:49:53.498Z"
   },
   {
    "duration": 23,
    "start_time": "2022-01-14T08:49:53.919Z"
   },
   {
    "duration": 399,
    "start_time": "2022-01-14T08:49:53.945Z"
   },
   {
    "duration": 586,
    "start_time": "2022-01-14T08:49:54.346Z"
   },
   {
    "duration": 10,
    "start_time": "2022-01-14T08:49:54.935Z"
   },
   {
    "duration": 60,
    "start_time": "2022-01-14T08:49:54.948Z"
   },
   {
    "duration": 416,
    "start_time": "2022-01-14T08:49:55.012Z"
   },
   {
    "duration": 452,
    "start_time": "2022-01-14T08:49:55.432Z"
   },
   {
    "duration": 561,
    "start_time": "2022-01-14T08:49:55.887Z"
   },
   {
    "duration": 14,
    "start_time": "2022-01-14T08:49:56.450Z"
   },
   {
    "duration": 36,
    "start_time": "2022-01-14T08:49:56.466Z"
   },
   {
    "duration": 416,
    "start_time": "2022-01-14T08:49:56.508Z"
   },
   {
    "duration": 779,
    "start_time": "2022-01-14T08:49:56.927Z"
   },
   {
    "duration": 814,
    "start_time": "2022-01-14T08:49:57.710Z"
   },
   {
    "duration": 330,
    "start_time": "2022-01-14T08:49:58.527Z"
   },
   {
    "duration": 14,
    "start_time": "2022-01-14T08:49:58.860Z"
   },
   {
    "duration": 33,
    "start_time": "2022-01-14T08:49:58.877Z"
   },
   {
    "duration": 46,
    "start_time": "2022-01-14T08:49:58.913Z"
   },
   {
    "duration": 12,
    "start_time": "2022-01-14T08:49:58.961Z"
   },
   {
    "duration": 40,
    "start_time": "2022-01-14T08:50:39.520Z"
   },
   {
    "duration": 123,
    "start_time": "2022-01-14T08:57:02.388Z"
   },
   {
    "duration": 52,
    "start_time": "2022-01-14T08:57:47.172Z"
   },
   {
    "duration": 19,
    "start_time": "2022-01-14T09:01:09.394Z"
   },
   {
    "duration": 19,
    "start_time": "2022-01-14T09:05:42.795Z"
   },
   {
    "duration": 541,
    "start_time": "2022-01-14T09:07:26.889Z"
   },
   {
    "duration": 20,
    "start_time": "2022-01-14T09:07:47.675Z"
   },
   {
    "duration": 25,
    "start_time": "2022-01-14T09:12:02.240Z"
   },
   {
    "duration": 460,
    "start_time": "2022-01-14T09:12:24.842Z"
   },
   {
    "duration": 25,
    "start_time": "2022-01-14T09:12:49.013Z"
   },
   {
    "duration": 23,
    "start_time": "2022-01-14T09:17:18.993Z"
   },
   {
    "duration": 12,
    "start_time": "2022-01-14T09:17:44.165Z"
   },
   {
    "duration": 12,
    "start_time": "2022-01-14T09:17:56.155Z"
   },
   {
    "duration": 14,
    "start_time": "2022-01-14T09:18:13.585Z"
   },
   {
    "duration": 13,
    "start_time": "2022-01-14T09:18:20.309Z"
   },
   {
    "duration": 12,
    "start_time": "2022-01-14T09:18:32.557Z"
   },
   {
    "duration": 12,
    "start_time": "2022-01-14T09:22:07.311Z"
   },
   {
    "duration": 140,
    "start_time": "2022-01-14T10:05:00.070Z"
   },
   {
    "duration": 761,
    "start_time": "2022-01-14T10:09:29.604Z"
   },
   {
    "duration": 866,
    "start_time": "2022-01-14T10:11:02.617Z"
   },
   {
    "duration": 847,
    "start_time": "2022-01-14T10:11:18.639Z"
   },
   {
    "duration": 424,
    "start_time": "2022-01-14T10:21:11.214Z"
   },
   {
    "duration": 42,
    "start_time": "2022-01-14T10:21:38.815Z"
   },
   {
    "duration": 605,
    "start_time": "2022-01-14T10:24:09.344Z"
   },
   {
    "duration": 170,
    "start_time": "2022-01-14T10:25:17.695Z"
   },
   {
    "duration": 8926,
    "start_time": "2022-01-14T10:28:12.463Z"
   },
   {
    "duration": 8101,
    "start_time": "2022-01-14T10:28:46.021Z"
   },
   {
    "duration": 10,
    "start_time": "2022-01-14T10:30:13.685Z"
   },
   {
    "duration": 40,
    "start_time": "2022-01-14T10:30:24.007Z"
   },
   {
    "duration": 35,
    "start_time": "2022-01-14T10:30:45.051Z"
   },
   {
    "duration": 9,
    "start_time": "2022-01-14T10:31:18.141Z"
   },
   {
    "duration": 43,
    "start_time": "2022-01-14T10:32:16.889Z"
   },
   {
    "duration": 640,
    "start_time": "2022-01-14T10:33:21.703Z"
   },
   {
    "duration": 369,
    "start_time": "2022-01-14T10:34:14.360Z"
   },
   {
    "duration": 358,
    "start_time": "2022-01-14T10:34:27.503Z"
   },
   {
    "duration": 1633,
    "start_time": "2022-01-14T10:34:36.845Z"
   },
   {
    "duration": 14,
    "start_time": "2022-01-14T10:34:38.481Z"
   },
   {
    "duration": 16,
    "start_time": "2022-01-14T10:34:38.502Z"
   },
   {
    "duration": 12,
    "start_time": "2022-01-14T10:34:38.521Z"
   },
   {
    "duration": 24,
    "start_time": "2022-01-14T10:34:38.536Z"
   },
   {
    "duration": 29,
    "start_time": "2022-01-14T10:34:38.600Z"
   },
   {
    "duration": 15,
    "start_time": "2022-01-14T10:34:38.632Z"
   },
   {
    "duration": 18,
    "start_time": "2022-01-14T10:34:38.650Z"
   },
   {
    "duration": 40,
    "start_time": "2022-01-14T10:34:38.701Z"
   },
   {
    "duration": 373,
    "start_time": "2022-01-14T10:34:38.744Z"
   },
   {
    "duration": 449,
    "start_time": "2022-01-14T10:34:39.119Z"
   },
   {
    "duration": 45,
    "start_time": "2022-01-14T10:34:39.572Z"
   },
   {
    "duration": 370,
    "start_time": "2022-01-14T10:34:39.619Z"
   },
   {
    "duration": 558,
    "start_time": "2022-01-14T10:34:39.991Z"
   },
   {
    "duration": 12,
    "start_time": "2022-01-14T10:34:40.551Z"
   },
   {
    "duration": 60,
    "start_time": "2022-01-14T10:34:40.565Z"
   },
   {
    "duration": 391,
    "start_time": "2022-01-14T10:34:40.628Z"
   },
   {
    "duration": 416,
    "start_time": "2022-01-14T10:34:41.021Z"
   },
   {
    "duration": 527,
    "start_time": "2022-01-14T10:34:41.439Z"
   },
   {
    "duration": 15,
    "start_time": "2022-01-14T10:34:41.968Z"
   },
   {
    "duration": 25,
    "start_time": "2022-01-14T10:34:42.001Z"
   },
   {
    "duration": 406,
    "start_time": "2022-01-14T10:34:42.029Z"
   },
   {
    "duration": 747,
    "start_time": "2022-01-14T10:34:42.440Z"
   },
   {
    "duration": 777,
    "start_time": "2022-01-14T10:34:43.190Z"
   },
   {
    "duration": 353,
    "start_time": "2022-01-14T10:34:43.969Z"
   },
   {
    "duration": 14,
    "start_time": "2022-01-14T10:34:44.325Z"
   },
   {
    "duration": 19,
    "start_time": "2022-01-14T10:34:44.342Z"
   },
   {
    "duration": 38,
    "start_time": "2022-01-14T10:34:44.364Z"
   },
   {
    "duration": 492,
    "start_time": "2022-01-14T10:42:17.571Z"
   },
   {
    "duration": 396,
    "start_time": "2022-01-14T10:43:12.834Z"
   },
   {
    "duration": 399,
    "start_time": "2022-01-14T10:43:26.553Z"
   },
   {
    "duration": 129,
    "start_time": "2022-01-14T10:46:52.920Z"
   },
   {
    "duration": 1704,
    "start_time": "2022-01-14T10:48:35.976Z"
   },
   {
    "duration": 15,
    "start_time": "2022-01-14T10:48:37.683Z"
   },
   {
    "duration": 15,
    "start_time": "2022-01-14T10:48:37.702Z"
   },
   {
    "duration": 12,
    "start_time": "2022-01-14T10:48:37.720Z"
   },
   {
    "duration": 18,
    "start_time": "2022-01-14T10:48:37.734Z"
   },
   {
    "duration": 63,
    "start_time": "2022-01-14T10:48:37.754Z"
   },
   {
    "duration": 16,
    "start_time": "2022-01-14T10:48:37.820Z"
   },
   {
    "duration": 17,
    "start_time": "2022-01-14T10:48:37.840Z"
   },
   {
    "duration": 76,
    "start_time": "2022-01-14T10:48:37.860Z"
   },
   {
    "duration": 352,
    "start_time": "2022-01-14T10:48:37.939Z"
   },
   {
    "duration": 426,
    "start_time": "2022-01-14T10:48:38.301Z"
   },
   {
    "duration": 23,
    "start_time": "2022-01-14T10:48:38.730Z"
   },
   {
    "duration": 386,
    "start_time": "2022-01-14T10:48:38.755Z"
   },
   {
    "duration": 572,
    "start_time": "2022-01-14T10:48:39.144Z"
   },
   {
    "duration": 13,
    "start_time": "2022-01-14T10:48:39.720Z"
   },
   {
    "duration": 35,
    "start_time": "2022-01-14T10:48:39.736Z"
   },
   {
    "duration": 409,
    "start_time": "2022-01-14T10:48:39.774Z"
   },
   {
    "duration": 437,
    "start_time": "2022-01-14T10:48:40.185Z"
   },
   {
    "duration": 544,
    "start_time": "2022-01-14T10:48:40.624Z"
   },
   {
    "duration": 34,
    "start_time": "2022-01-14T10:48:41.171Z"
   },
   {
    "duration": 36,
    "start_time": "2022-01-14T10:48:41.210Z"
   },
   {
    "duration": 501,
    "start_time": "2022-01-14T10:48:41.250Z"
   },
   {
    "duration": 431,
    "start_time": "2022-01-14T10:48:41.757Z"
   },
   {
    "duration": 778,
    "start_time": "2022-01-14T10:48:42.191Z"
   },
   {
    "duration": 773,
    "start_time": "2022-01-14T10:48:42.972Z"
   },
   {
    "duration": 419,
    "start_time": "2022-01-14T10:48:43.748Z"
   },
   {
    "duration": 12,
    "start_time": "2022-01-14T10:48:44.170Z"
   },
   {
    "duration": 19,
    "start_time": "2022-01-14T10:48:44.185Z"
   },
   {
    "duration": 16,
    "start_time": "2022-01-14T10:48:44.208Z"
   },
   {
    "duration": 814,
    "start_time": "2022-01-14T10:52:42.950Z"
   },
   {
    "duration": 786,
    "start_time": "2022-01-14T10:52:55.861Z"
   },
   {
    "duration": 1755,
    "start_time": "2022-01-14T10:54:29.491Z"
   },
   {
    "duration": 19,
    "start_time": "2022-01-14T10:54:31.249Z"
   },
   {
    "duration": 44,
    "start_time": "2022-01-14T10:54:31.272Z"
   },
   {
    "duration": 11,
    "start_time": "2022-01-14T10:54:31.320Z"
   },
   {
    "duration": 22,
    "start_time": "2022-01-14T10:54:31.334Z"
   },
   {
    "duration": 61,
    "start_time": "2022-01-14T10:54:31.358Z"
   },
   {
    "duration": 18,
    "start_time": "2022-01-14T10:54:31.422Z"
   },
   {
    "duration": 27,
    "start_time": "2022-01-14T10:54:31.444Z"
   },
   {
    "duration": 67,
    "start_time": "2022-01-14T10:54:31.474Z"
   },
   {
    "duration": 399,
    "start_time": "2022-01-14T10:54:31.544Z"
   },
   {
    "duration": 450,
    "start_time": "2022-01-14T10:54:31.945Z"
   },
   {
    "duration": 25,
    "start_time": "2022-01-14T10:54:32.400Z"
   },
   {
    "duration": 388,
    "start_time": "2022-01-14T10:54:32.428Z"
   },
   {
    "duration": 558,
    "start_time": "2022-01-14T10:54:32.818Z"
   },
   {
    "duration": 24,
    "start_time": "2022-01-14T10:54:33.379Z"
   },
   {
    "duration": 44,
    "start_time": "2022-01-14T10:54:33.405Z"
   },
   {
    "duration": 494,
    "start_time": "2022-01-14T10:54:33.452Z"
   },
   {
    "duration": 530,
    "start_time": "2022-01-14T10:54:33.949Z"
   },
   {
    "duration": 543,
    "start_time": "2022-01-14T10:54:34.482Z"
   },
   {
    "duration": 19,
    "start_time": "2022-01-14T10:54:35.028Z"
   },
   {
    "duration": 20,
    "start_time": "2022-01-14T10:54:35.049Z"
   },
   {
    "duration": 396,
    "start_time": "2022-01-14T10:54:35.101Z"
   },
   {
    "duration": 416,
    "start_time": "2022-01-14T10:54:35.503Z"
   },
   {
    "duration": 836,
    "start_time": "2022-01-14T10:54:35.922Z"
   },
   {
    "duration": 787,
    "start_time": "2022-01-14T10:54:36.761Z"
   },
   {
    "duration": 423,
    "start_time": "2022-01-14T10:54:37.551Z"
   },
   {
    "duration": 34,
    "start_time": "2022-01-14T10:54:37.977Z"
   },
   {
    "duration": 12,
    "start_time": "2022-01-14T10:54:38.014Z"
   },
   {
    "duration": 12,
    "start_time": "2022-01-14T10:54:38.029Z"
   },
   {
    "duration": 39,
    "start_time": "2022-01-14T11:06:13.784Z"
   },
   {
    "duration": 12,
    "start_time": "2022-01-14T11:09:05.651Z"
   },
   {
    "duration": 1795,
    "start_time": "2022-01-14T11:17:19.619Z"
   },
   {
    "duration": 17,
    "start_time": "2022-01-14T11:17:21.417Z"
   },
   {
    "duration": 17,
    "start_time": "2022-01-14T11:17:21.438Z"
   },
   {
    "duration": 54,
    "start_time": "2022-01-14T11:17:21.458Z"
   },
   {
    "duration": 31,
    "start_time": "2022-01-14T11:17:21.516Z"
   },
   {
    "duration": 54,
    "start_time": "2022-01-14T11:17:21.550Z"
   },
   {
    "duration": 21,
    "start_time": "2022-01-14T11:17:21.607Z"
   },
   {
    "duration": 18,
    "start_time": "2022-01-14T11:17:21.632Z"
   },
   {
    "duration": 72,
    "start_time": "2022-01-14T11:17:21.653Z"
   },
   {
    "duration": 355,
    "start_time": "2022-01-14T11:17:21.728Z"
   },
   {
    "duration": 452,
    "start_time": "2022-01-14T11:17:22.085Z"
   },
   {
    "duration": 23,
    "start_time": "2022-01-14T11:17:22.540Z"
   },
   {
    "duration": 405,
    "start_time": "2022-01-14T11:17:22.566Z"
   },
   {
    "duration": 556,
    "start_time": "2022-01-14T11:17:22.973Z"
   },
   {
    "duration": 12,
    "start_time": "2022-01-14T11:17:23.531Z"
   },
   {
    "duration": 61,
    "start_time": "2022-01-14T11:17:23.545Z"
   },
   {
    "duration": 366,
    "start_time": "2022-01-14T11:17:23.611Z"
   },
   {
    "duration": 465,
    "start_time": "2022-01-14T11:17:23.979Z"
   },
   {
    "duration": 550,
    "start_time": "2022-01-14T11:17:24.447Z"
   },
   {
    "duration": 18,
    "start_time": "2022-01-14T11:17:25.001Z"
   },
   {
    "duration": 24,
    "start_time": "2022-01-14T11:17:25.022Z"
   },
   {
    "duration": 426,
    "start_time": "2022-01-14T11:17:25.049Z"
   },
   {
    "duration": 409,
    "start_time": "2022-01-14T11:17:25.482Z"
   },
   {
    "duration": 867,
    "start_time": "2022-01-14T11:17:25.901Z"
   },
   {
    "duration": 801,
    "start_time": "2022-01-14T11:17:26.771Z"
   },
   {
    "duration": 482,
    "start_time": "2022-01-14T11:17:27.575Z"
   },
   {
    "duration": 12,
    "start_time": "2022-01-14T11:17:28.060Z"
   },
   {
    "duration": 45,
    "start_time": "2022-01-14T11:17:28.075Z"
   },
   {
    "duration": 17,
    "start_time": "2022-01-14T11:17:28.123Z"
   }
  ],
  "kernelspec": {
   "display_name": "Python 3 (ipykernel)",
   "language": "python",
   "name": "python3"
  },
  "language_info": {
   "codemirror_mode": {
    "name": "ipython",
    "version": 3
   },
   "file_extension": ".py",
   "mimetype": "text/x-python",
   "name": "python",
   "nbconvert_exporter": "python",
   "pygments_lexer": "ipython3",
   "version": "3.8.8"
  },
  "toc": {
   "base_numbering": 1,
   "nav_menu": {},
   "number_sections": true,
   "sideBar": true,
   "skip_h1_title": true,
   "title_cell": "Table of Contents",
   "title_sidebar": "Contents",
   "toc_cell": false,
   "toc_position": {
    "height": "calc(100% - 180px)",
    "left": "10px",
    "top": "150px",
    "width": "291.81px"
   },
   "toc_section_display": true,
   "toc_window_display": true
  }
 },
 "nbformat": 4,
 "nbformat_minor": 5
}
