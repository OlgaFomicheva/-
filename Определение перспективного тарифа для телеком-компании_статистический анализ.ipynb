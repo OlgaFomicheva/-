{
 "cells": [
  {
   "cell_type": "markdown",
   "id": "5c653033",
   "metadata": {},
   "source": [
    "# Проект \"Определение перспективного тарифа для телеком-компании\""
   ]
  },
  {
   "cell_type": "markdown",
   "id": "9c830e92",
   "metadata": {},
   "source": [
    "**Описание проекта**\n",
    "\n",
    "Я аналитик компании «Мегалайн» — федерального оператора сотовой связи. Клиентам предлагают два тарифных плана: «Смарт» и «Ультра». Чтобы скорректировать рекламный бюджет, коммерческий департамент хочет понять, какой тариф приносит больше денег.\n",
    "Мне предстоит сделать предварительный анализ тарифов на небольшой выборке клиентов. В моем распоряжении данные 500 пользователей «Мегалайна»: кто они, откуда, каким тарифом пользуются, сколько звонков и сообщений каждый отправил за 2018 год. Нужно проанализировать поведение клиентов и сделать вывод — какой тариф лучше.\n",
    "\n",
    "**Описание тарифов**\n",
    "\n",
    "Тариф «Смарт»:\n",
    "\n",
    "Ежемесячная плата: 550 рублей\n",
    "Включено 500 минут разговора, 50 сообщений и 15 Гб интернет-трафика\n",
    "Стоимость услуг сверх тарифного пакета: 1. минута разговора: 3 рубля («Мегалайн» всегда округляет вверх значения минут и мегабайтов. Если пользователь проговорил всего 1 секунду, в тарифе засчитывается целая минута); 2. сообщение: 3 рубля; 3. 1 Гб интернет-трафика: 200 рублей.\n",
    "\n",
    "Тариф «Ультра»:\n",
    "\n",
    "Ежемесячная плата: 1950 рублей\n",
    "Включено 3000 минут разговора, 1000 сообщений и 30 Гб интернет-трафика\n",
    "Стоимость услуг сверх тарифного пакета: 1. минута разговора: 1 рубль; 2. сообщение: 1 рубль; 3. 1 Гб интернет-трафика: 150 рублей.\n",
    "\n",
    "*Примечание:\n",
    "«Мегалайн» всегда округляет секунды до минут, а мегабайты — до гигабайт. Каждый звонок округляется отдельно: даже если он длился всего 1 секунду, будет засчитан как 1 минута.\n",
    "Для веб-трафика отдельные сессии не считаются. Вместо этого общая сумма за месяц округляется в бо́льшую сторону. Если абонент использует 1025 мегабайт в этом месяце, с него возьмут плату за 2 гигабайта.*\n"
   ]
  },
  {
   "cell_type": "markdown",
   "id": "273ec8e7",
   "metadata": {},
   "source": [
    "## Изучение данных из файлов"
   ]
  },
  {
   "cell_type": "code",
   "execution_count": 1,
   "id": "2d0b8f04",
   "metadata": {},
   "outputs": [],
   "source": [
    "import pandas as pd\n",
    "import numpy as np\n",
    "import matplotlib.pyplot as plt\n",
    "from scipy import stats as st\n",
    "\n",
    "calls = pd.read_csv('/datasets/calls.csv', parse_dates = ['call_date'])\n",
    "users = pd.read_csv('/datasets/users.csv', parse_dates = ['reg_date', 'churn_date'])\n",
    "tariffs = pd.read_csv('/datasets/tariffs.csv')\n",
    "messages = pd.read_csv('/datasets/messages.csv', parse_dates = ['message_date'])\n",
    "internet = pd.read_csv('/datasets/internet.csv', parse_dates = ['session_date'], index_col=0)"
   ]
  },
  {
   "cell_type": "markdown",
   "id": "584cb0ee",
   "metadata": {},
   "source": [
    "У нас 5 файлов, изучим их:"
   ]
  },
  {
   "cell_type": "code",
   "execution_count": 2,
   "id": "1b2a8adb",
   "metadata": {},
   "outputs": [
    {
     "name": "stdout",
     "output_type": "stream",
     "text": [
      "<class 'pandas.core.frame.DataFrame'>\n",
      "RangeIndex: 202607 entries, 0 to 202606\n",
      "Data columns (total 4 columns):\n",
      "id           202607 non-null object\n",
      "call_date    202607 non-null datetime64[ns]\n",
      "duration     202607 non-null float64\n",
      "user_id      202607 non-null int64\n",
      "dtypes: datetime64[ns](1), float64(1), int64(1), object(1)\n",
      "memory usage: 6.2+ MB\n"
     ]
    }
   ],
   "source": [
    "calls.info()"
   ]
  },
  {
   "cell_type": "markdown",
   "id": "4e710d9e",
   "metadata": {},
   "source": [
    "Таблица calls (информация о звонках):\n",
    "- id — уникальный номер звонка\n",
    "- call_date — дата звонка\n",
    "- duration — длительность звонка в минутах\n",
    "- user_id — идентификатор пользователя, сделавшего звонок\n",
    "\n",
    "Пропущенные значения в данных отсутствуют."
   ]
  },
  {
   "cell_type": "code",
   "execution_count": 3,
   "id": "4b410446",
   "metadata": {},
   "outputs": [
    {
     "name": "stdout",
     "output_type": "stream",
     "text": [
      "<class 'pandas.core.frame.DataFrame'>\n",
      "RangeIndex: 500 entries, 0 to 499\n",
      "Data columns (total 8 columns):\n",
      "user_id       500 non-null int64\n",
      "age           500 non-null int64\n",
      "churn_date    38 non-null datetime64[ns]\n",
      "city          500 non-null object\n",
      "first_name    500 non-null object\n",
      "last_name     500 non-null object\n",
      "reg_date      500 non-null datetime64[ns]\n",
      "tariff        500 non-null object\n",
      "dtypes: datetime64[ns](2), int64(2), object(4)\n",
      "memory usage: 31.4+ KB\n"
     ]
    }
   ],
   "source": [
    "users.info()"
   ]
  },
  {
   "cell_type": "markdown",
   "id": "a2aad02a",
   "metadata": {},
   "source": [
    "Таблица users (информация о пользователях):\n",
    "- user_id — уникальный идентификатор пользователя\n",
    "- first_name — имя пользователя\n",
    "- last_name — фамилия пользователя\n",
    "- age — возраст пользователя (годы)\n",
    "- reg_date — дата подключения тарифа (день, месяц, год)\n",
    "- churn_date — дата прекращения пользования тарифом (если значение пропущено, - то тариф ещё действовал на момент выгрузки данных)\n",
    "- city — город проживания пользователя\n",
    "- tarif — название тарифного плана\n",
    "\n",
    "В столбце churn_date обнаружены пропущеные значения, это значит, что на момент выгрузки тариф еще действовал, поэтому оставим эти пропуски без изменений "
   ]
  },
  {
   "cell_type": "code",
   "execution_count": 4,
   "id": "9150b38b",
   "metadata": {},
   "outputs": [
    {
     "name": "stdout",
     "output_type": "stream",
     "text": [
      "<class 'pandas.core.frame.DataFrame'>\n",
      "RangeIndex: 123036 entries, 0 to 123035\n",
      "Data columns (total 3 columns):\n",
      "id              123036 non-null object\n",
      "message_date    123036 non-null datetime64[ns]\n",
      "user_id         123036 non-null int64\n",
      "dtypes: datetime64[ns](1), int64(1), object(1)\n",
      "memory usage: 2.8+ MB\n"
     ]
    }
   ],
   "source": [
    "messages.info()"
   ]
  },
  {
   "cell_type": "markdown",
   "id": "0a01c043",
   "metadata": {},
   "source": [
    "Таблица messages (информация о сообщениях):\n",
    "- id — уникальный номер сообщения\n",
    "- message_date — дата сообщения\n",
    "- user_id — идентификатор пользователя, отправившего сообщение\n",
    "\n",
    "Пропущенные значения в данных отсутствуют."
   ]
  },
  {
   "cell_type": "code",
   "execution_count": 5,
   "id": "47e646f0",
   "metadata": {},
   "outputs": [
    {
     "name": "stdout",
     "output_type": "stream",
     "text": [
      "<class 'pandas.core.frame.DataFrame'>\n",
      "Int64Index: 149396 entries, 0 to 149395\n",
      "Data columns (total 4 columns):\n",
      "id              149396 non-null object\n",
      "mb_used         149396 non-null float64\n",
      "session_date    149396 non-null datetime64[ns]\n",
      "user_id         149396 non-null int64\n",
      "dtypes: datetime64[ns](1), float64(1), int64(1), object(1)\n",
      "memory usage: 5.7+ MB\n"
     ]
    }
   ],
   "source": [
    "internet.info()"
   ]
  },
  {
   "cell_type": "markdown",
   "id": "aa2eb127",
   "metadata": {},
   "source": [
    "Таблица internet (информация об интернет-сессиях):\n",
    "- id — уникальный номер сессии\n",
    "- mb_used — объём потраченного за сессию интернет-трафика (в мегабайтах)\n",
    "- session_date — дата интернет-сессии\n",
    "- user_id — идентификатор пользователя\n",
    "\n",
    "Пропущенные значения в данных отсутствуют."
   ]
  },
  {
   "cell_type": "code",
   "execution_count": 6,
   "id": "b69bd3d1",
   "metadata": {},
   "outputs": [
    {
     "name": "stdout",
     "output_type": "stream",
     "text": [
      "<class 'pandas.core.frame.DataFrame'>\n",
      "RangeIndex: 2 entries, 0 to 1\n",
      "Data columns (total 8 columns):\n",
      "messages_included        2 non-null int64\n",
      "mb_per_month_included    2 non-null int64\n",
      "minutes_included         2 non-null int64\n",
      "rub_monthly_fee          2 non-null int64\n",
      "rub_per_gb               2 non-null int64\n",
      "rub_per_message          2 non-null int64\n",
      "rub_per_minute           2 non-null int64\n",
      "tariff_name              2 non-null object\n",
      "dtypes: int64(7), object(1)\n",
      "memory usage: 256.0+ bytes\n"
     ]
    }
   ],
   "source": [
    "tariffs.info()"
   ]
  },
  {
   "cell_type": "markdown",
   "id": "71513e62",
   "metadata": {},
   "source": [
    "Таблица tariffs (информация о тарифах):\n",
    "- tariff_name — название тарифа\n",
    "- rub_monthly_fee — ежемесячная абонентская плата в рублях\n",
    "- minutes_included — количество минут разговора в месяц, включённых в абонентскую плату\n",
    "- messages_included — количество сообщений в месяц, включённых в абонентскую плату\n",
    "- mb_per_month_included — объём интернет-трафика, включённого в абонентскую плату (в мегабайтах)\n",
    "- rub_per_minute — стоимость минуты разговора сверх тарифного пакета (например, если в тарифе 100 минут разговора в месяц, то со 101 минуты будет взиматься плата)\n",
    "- rub_per_message — стоимость отправки сообщения сверх тарифного пакета\n",
    "- rub_per_gb — стоимость дополнительного гигабайта интернет-трафика сверх тарифного пакета (1 гигабайт = 1024 мегабайта)\n",
    "\n",
    "Пропущенные значения в данных отсутствуют."
   ]
  },
  {
   "cell_type": "markdown",
   "id": "a03e68d4",
   "metadata": {},
   "source": [
    "### Вывод"
   ]
  },
  {
   "cell_type": "markdown",
   "id": "e32421d6",
   "metadata": {},
   "source": [
    "В целом данные выглядят корректно, пропущенные значения отсутствуют (там, где пропущены, оставляем без изменений), типы данных соответствуют содержанию."
   ]
  },
  {
   "cell_type": "markdown",
   "id": "0afc2f09",
   "metadata": {},
   "source": [
    "## Предобработка данных"
   ]
  },
  {
   "cell_type": "markdown",
   "id": "f744b187",
   "metadata": {},
   "source": [
    "Посчитаем для каждого пользователя:\n",
    "- количество сделанных звонков и израсходованных минут разговора по месяцам;\n",
    "- количество отправленных сообщений по месяцам;\n",
    "- объем израсходованного интернет-трафика по месяцам;\n",
    "- помесячную выручку с каждого пользователя (вычтите бесплатный лимит из суммарного количества звонков, сообщений и интернет-трафика; остаток умножьте на значение из тарифного плана; прибавьте абонентскую плату, соответствующую тарифному плану)."
   ]
  },
  {
   "cell_type": "code",
   "execution_count": 7,
   "id": "1b31b6f7",
   "metadata": {},
   "outputs": [
    {
     "data": {
      "text/html": [
       "<div>\n",
       "<style scoped>\n",
       "    .dataframe tbody tr th:only-of-type {\n",
       "        vertical-align: middle;\n",
       "    }\n",
       "\n",
       "    .dataframe tbody tr th {\n",
       "        vertical-align: top;\n",
       "    }\n",
       "\n",
       "    .dataframe thead th {\n",
       "        text-align: right;\n",
       "    }\n",
       "</style>\n",
       "<table border=\"1\" class=\"dataframe\">\n",
       "  <thead>\n",
       "    <tr style=\"text-align: right;\">\n",
       "      <th></th>\n",
       "      <th>id</th>\n",
       "      <th>call_date</th>\n",
       "      <th>duration</th>\n",
       "      <th>user_id</th>\n",
       "      <th>month</th>\n",
       "    </tr>\n",
       "  </thead>\n",
       "  <tbody>\n",
       "    <tr>\n",
       "      <td>0</td>\n",
       "      <td>1000_0</td>\n",
       "      <td>2018-07-25</td>\n",
       "      <td>0.00</td>\n",
       "      <td>1000</td>\n",
       "      <td>7</td>\n",
       "    </tr>\n",
       "    <tr>\n",
       "      <td>1</td>\n",
       "      <td>1000_1</td>\n",
       "      <td>2018-08-17</td>\n",
       "      <td>0.00</td>\n",
       "      <td>1000</td>\n",
       "      <td>8</td>\n",
       "    </tr>\n",
       "    <tr>\n",
       "      <td>2</td>\n",
       "      <td>1000_2</td>\n",
       "      <td>2018-06-11</td>\n",
       "      <td>2.85</td>\n",
       "      <td>1000</td>\n",
       "      <td>6</td>\n",
       "    </tr>\n",
       "    <tr>\n",
       "      <td>3</td>\n",
       "      <td>1000_3</td>\n",
       "      <td>2018-09-21</td>\n",
       "      <td>13.80</td>\n",
       "      <td>1000</td>\n",
       "      <td>9</td>\n",
       "    </tr>\n",
       "    <tr>\n",
       "      <td>4</td>\n",
       "      <td>1000_4</td>\n",
       "      <td>2018-12-15</td>\n",
       "      <td>5.18</td>\n",
       "      <td>1000</td>\n",
       "      <td>12</td>\n",
       "    </tr>\n",
       "    <tr>\n",
       "      <td>...</td>\n",
       "      <td>...</td>\n",
       "      <td>...</td>\n",
       "      <td>...</td>\n",
       "      <td>...</td>\n",
       "      <td>...</td>\n",
       "    </tr>\n",
       "    <tr>\n",
       "      <td>202602</td>\n",
       "      <td>1499_215</td>\n",
       "      <td>2018-12-26</td>\n",
       "      <td>0.76</td>\n",
       "      <td>1499</td>\n",
       "      <td>12</td>\n",
       "    </tr>\n",
       "    <tr>\n",
       "      <td>202603</td>\n",
       "      <td>1499_216</td>\n",
       "      <td>2018-10-18</td>\n",
       "      <td>18.83</td>\n",
       "      <td>1499</td>\n",
       "      <td>10</td>\n",
       "    </tr>\n",
       "    <tr>\n",
       "      <td>202604</td>\n",
       "      <td>1499_217</td>\n",
       "      <td>2018-11-10</td>\n",
       "      <td>10.81</td>\n",
       "      <td>1499</td>\n",
       "      <td>11</td>\n",
       "    </tr>\n",
       "    <tr>\n",
       "      <td>202605</td>\n",
       "      <td>1499_218</td>\n",
       "      <td>2018-10-06</td>\n",
       "      <td>4.27</td>\n",
       "      <td>1499</td>\n",
       "      <td>10</td>\n",
       "    </tr>\n",
       "    <tr>\n",
       "      <td>202606</td>\n",
       "      <td>1499_219</td>\n",
       "      <td>2018-12-14</td>\n",
       "      <td>19.62</td>\n",
       "      <td>1499</td>\n",
       "      <td>12</td>\n",
       "    </tr>\n",
       "  </tbody>\n",
       "</table>\n",
       "<p>202607 rows × 5 columns</p>\n",
       "</div>"
      ],
      "text/plain": [
       "              id  call_date  duration  user_id  month\n",
       "0         1000_0 2018-07-25      0.00     1000      7\n",
       "1         1000_1 2018-08-17      0.00     1000      8\n",
       "2         1000_2 2018-06-11      2.85     1000      6\n",
       "3         1000_3 2018-09-21     13.80     1000      9\n",
       "4         1000_4 2018-12-15      5.18     1000     12\n",
       "...          ...        ...       ...      ...    ...\n",
       "202602  1499_215 2018-12-26      0.76     1499     12\n",
       "202603  1499_216 2018-10-18     18.83     1499     10\n",
       "202604  1499_217 2018-11-10     10.81     1499     11\n",
       "202605  1499_218 2018-10-06      4.27     1499     10\n",
       "202606  1499_219 2018-12-14     19.62     1499     12\n",
       "\n",
       "[202607 rows x 5 columns]"
      ]
     },
     "execution_count": 7,
     "metadata": {},
     "output_type": "execute_result"
    }
   ],
   "source": [
    "# Извлечем месяц в отдельный столбец из столбца с датой в таблице calls:\n",
    "calls['call_date'] = pd.to_datetime(calls['call_date'], format='%Y-%m-%d %H:%M')\n",
    "calls['month'] = calls['call_date'].dt.month\n",
    "calls"
   ]
  },
  {
   "cell_type": "code",
   "execution_count": 8,
   "id": "ff8a3425",
   "metadata": {},
   "outputs": [
    {
     "data": {
      "text/html": [
       "<div>\n",
       "<style scoped>\n",
       "    .dataframe tbody tr th:only-of-type {\n",
       "        vertical-align: middle;\n",
       "    }\n",
       "\n",
       "    .dataframe tbody tr th {\n",
       "        vertical-align: top;\n",
       "    }\n",
       "\n",
       "    .dataframe thead th {\n",
       "        text-align: right;\n",
       "    }\n",
       "</style>\n",
       "<table border=\"1\" class=\"dataframe\">\n",
       "  <thead>\n",
       "    <tr style=\"text-align: right;\">\n",
       "      <th></th>\n",
       "      <th>id</th>\n",
       "      <th>message_date</th>\n",
       "      <th>user_id</th>\n",
       "      <th>month</th>\n",
       "    </tr>\n",
       "  </thead>\n",
       "  <tbody>\n",
       "    <tr>\n",
       "      <td>0</td>\n",
       "      <td>1000_0</td>\n",
       "      <td>2018-06-27</td>\n",
       "      <td>1000</td>\n",
       "      <td>6</td>\n",
       "    </tr>\n",
       "    <tr>\n",
       "      <td>1</td>\n",
       "      <td>1000_1</td>\n",
       "      <td>2018-10-08</td>\n",
       "      <td>1000</td>\n",
       "      <td>10</td>\n",
       "    </tr>\n",
       "    <tr>\n",
       "      <td>2</td>\n",
       "      <td>1000_2</td>\n",
       "      <td>2018-08-04</td>\n",
       "      <td>1000</td>\n",
       "      <td>8</td>\n",
       "    </tr>\n",
       "    <tr>\n",
       "      <td>3</td>\n",
       "      <td>1000_3</td>\n",
       "      <td>2018-06-16</td>\n",
       "      <td>1000</td>\n",
       "      <td>6</td>\n",
       "    </tr>\n",
       "    <tr>\n",
       "      <td>4</td>\n",
       "      <td>1000_4</td>\n",
       "      <td>2018-12-05</td>\n",
       "      <td>1000</td>\n",
       "      <td>12</td>\n",
       "    </tr>\n",
       "    <tr>\n",
       "      <td>...</td>\n",
       "      <td>...</td>\n",
       "      <td>...</td>\n",
       "      <td>...</td>\n",
       "      <td>...</td>\n",
       "    </tr>\n",
       "    <tr>\n",
       "      <td>123031</td>\n",
       "      <td>1499_179</td>\n",
       "      <td>2018-12-12</td>\n",
       "      <td>1499</td>\n",
       "      <td>12</td>\n",
       "    </tr>\n",
       "    <tr>\n",
       "      <td>123032</td>\n",
       "      <td>1499_180</td>\n",
       "      <td>2018-09-28</td>\n",
       "      <td>1499</td>\n",
       "      <td>9</td>\n",
       "    </tr>\n",
       "    <tr>\n",
       "      <td>123033</td>\n",
       "      <td>1499_181</td>\n",
       "      <td>2018-09-27</td>\n",
       "      <td>1499</td>\n",
       "      <td>9</td>\n",
       "    </tr>\n",
       "    <tr>\n",
       "      <td>123034</td>\n",
       "      <td>1499_182</td>\n",
       "      <td>2018-11-15</td>\n",
       "      <td>1499</td>\n",
       "      <td>11</td>\n",
       "    </tr>\n",
       "    <tr>\n",
       "      <td>123035</td>\n",
       "      <td>1499_183</td>\n",
       "      <td>2018-11-16</td>\n",
       "      <td>1499</td>\n",
       "      <td>11</td>\n",
       "    </tr>\n",
       "  </tbody>\n",
       "</table>\n",
       "<p>123036 rows × 4 columns</p>\n",
       "</div>"
      ],
      "text/plain": [
       "              id message_date  user_id  month\n",
       "0         1000_0   2018-06-27     1000      6\n",
       "1         1000_1   2018-10-08     1000     10\n",
       "2         1000_2   2018-08-04     1000      8\n",
       "3         1000_3   2018-06-16     1000      6\n",
       "4         1000_4   2018-12-05     1000     12\n",
       "...          ...          ...      ...    ...\n",
       "123031  1499_179   2018-12-12     1499     12\n",
       "123032  1499_180   2018-09-28     1499      9\n",
       "123033  1499_181   2018-09-27     1499      9\n",
       "123034  1499_182   2018-11-15     1499     11\n",
       "123035  1499_183   2018-11-16     1499     11\n",
       "\n",
       "[123036 rows x 4 columns]"
      ]
     },
     "execution_count": 8,
     "metadata": {},
     "output_type": "execute_result"
    }
   ],
   "source": [
    "# Извлечем месяц в отдельный столбец из столбца с датой в таблице messages:\n",
    "messages['message_date'] = pd.to_datetime(messages['message_date'], format='%Y-%m-%d %H:%M')\n",
    "messages['month'] = messages['message_date'].dt.month\n",
    "messages"
   ]
  },
  {
   "cell_type": "code",
   "execution_count": 9,
   "id": "92ffbac7",
   "metadata": {},
   "outputs": [
    {
     "data": {
      "text/html": [
       "<div>\n",
       "<style scoped>\n",
       "    .dataframe tbody tr th:only-of-type {\n",
       "        vertical-align: middle;\n",
       "    }\n",
       "\n",
       "    .dataframe tbody tr th {\n",
       "        vertical-align: top;\n",
       "    }\n",
       "\n",
       "    .dataframe thead th {\n",
       "        text-align: right;\n",
       "    }\n",
       "</style>\n",
       "<table border=\"1\" class=\"dataframe\">\n",
       "  <thead>\n",
       "    <tr style=\"text-align: right;\">\n",
       "      <th></th>\n",
       "      <th>id</th>\n",
       "      <th>mb_used</th>\n",
       "      <th>session_date</th>\n",
       "      <th>user_id</th>\n",
       "      <th>month</th>\n",
       "    </tr>\n",
       "  </thead>\n",
       "  <tbody>\n",
       "    <tr>\n",
       "      <td>0</td>\n",
       "      <td>1000_0</td>\n",
       "      <td>112.95</td>\n",
       "      <td>2018-11-25</td>\n",
       "      <td>1000</td>\n",
       "      <td>11</td>\n",
       "    </tr>\n",
       "    <tr>\n",
       "      <td>1</td>\n",
       "      <td>1000_1</td>\n",
       "      <td>1052.81</td>\n",
       "      <td>2018-09-07</td>\n",
       "      <td>1000</td>\n",
       "      <td>9</td>\n",
       "    </tr>\n",
       "    <tr>\n",
       "      <td>2</td>\n",
       "      <td>1000_2</td>\n",
       "      <td>1197.26</td>\n",
       "      <td>2018-06-25</td>\n",
       "      <td>1000</td>\n",
       "      <td>6</td>\n",
       "    </tr>\n",
       "    <tr>\n",
       "      <td>3</td>\n",
       "      <td>1000_3</td>\n",
       "      <td>550.27</td>\n",
       "      <td>2018-08-22</td>\n",
       "      <td>1000</td>\n",
       "      <td>8</td>\n",
       "    </tr>\n",
       "    <tr>\n",
       "      <td>4</td>\n",
       "      <td>1000_4</td>\n",
       "      <td>302.56</td>\n",
       "      <td>2018-09-24</td>\n",
       "      <td>1000</td>\n",
       "      <td>9</td>\n",
       "    </tr>\n",
       "    <tr>\n",
       "      <td>...</td>\n",
       "      <td>...</td>\n",
       "      <td>...</td>\n",
       "      <td>...</td>\n",
       "      <td>...</td>\n",
       "      <td>...</td>\n",
       "    </tr>\n",
       "    <tr>\n",
       "      <td>149391</td>\n",
       "      <td>1499_152</td>\n",
       "      <td>318.90</td>\n",
       "      <td>2018-10-03</td>\n",
       "      <td>1499</td>\n",
       "      <td>10</td>\n",
       "    </tr>\n",
       "    <tr>\n",
       "      <td>149392</td>\n",
       "      <td>1499_153</td>\n",
       "      <td>490.13</td>\n",
       "      <td>2018-12-14</td>\n",
       "      <td>1499</td>\n",
       "      <td>12</td>\n",
       "    </tr>\n",
       "    <tr>\n",
       "      <td>149393</td>\n",
       "      <td>1499_154</td>\n",
       "      <td>0.00</td>\n",
       "      <td>2018-10-27</td>\n",
       "      <td>1499</td>\n",
       "      <td>10</td>\n",
       "    </tr>\n",
       "    <tr>\n",
       "      <td>149394</td>\n",
       "      <td>1499_155</td>\n",
       "      <td>1246.32</td>\n",
       "      <td>2018-11-26</td>\n",
       "      <td>1499</td>\n",
       "      <td>11</td>\n",
       "    </tr>\n",
       "    <tr>\n",
       "      <td>149395</td>\n",
       "      <td>1499_156</td>\n",
       "      <td>544.37</td>\n",
       "      <td>2018-10-26</td>\n",
       "      <td>1499</td>\n",
       "      <td>10</td>\n",
       "    </tr>\n",
       "  </tbody>\n",
       "</table>\n",
       "<p>149396 rows × 5 columns</p>\n",
       "</div>"
      ],
      "text/plain": [
       "              id  mb_used session_date  user_id  month\n",
       "0         1000_0   112.95   2018-11-25     1000     11\n",
       "1         1000_1  1052.81   2018-09-07     1000      9\n",
       "2         1000_2  1197.26   2018-06-25     1000      6\n",
       "3         1000_3   550.27   2018-08-22     1000      8\n",
       "4         1000_4   302.56   2018-09-24     1000      9\n",
       "...          ...      ...          ...      ...    ...\n",
       "149391  1499_152   318.90   2018-10-03     1499     10\n",
       "149392  1499_153   490.13   2018-12-14     1499     12\n",
       "149393  1499_154     0.00   2018-10-27     1499     10\n",
       "149394  1499_155  1246.32   2018-11-26     1499     11\n",
       "149395  1499_156   544.37   2018-10-26     1499     10\n",
       "\n",
       "[149396 rows x 5 columns]"
      ]
     },
     "execution_count": 9,
     "metadata": {},
     "output_type": "execute_result"
    }
   ],
   "source": [
    "# Извлечем месяц в отдельный столбец из столбца с датой в таблице internet:\n",
    "internet['session_date'] = pd.to_datetime(internet['session_date'], format='%Y-%m-%d %H:%M')\n",
    "internet['month'] = internet['session_date'].dt.month\n",
    "internet"
   ]
  },
  {
   "cell_type": "code",
   "execution_count": 10,
   "id": "20d0063c",
   "metadata": {},
   "outputs": [
    {
     "data": {
      "text/plain": [
       "0.00     39613\n",
       "4.49       142\n",
       "5.50       142\n",
       "6.15       141\n",
       "6.38       141\n",
       "         ...  \n",
       "27.02        1\n",
       "26.19        1\n",
       "25.34        1\n",
       "27.13        1\n",
       "24.28        1\n",
       "Name: duration, Length: 2871, dtype: int64"
      ]
     },
     "execution_count": 10,
     "metadata": {},
     "output_type": "execute_result"
    }
   ],
   "source": [
    "calls['duration'].value_counts()"
   ]
  },
  {
   "cell_type": "code",
   "execution_count": 11,
   "id": "383db7e5",
   "metadata": {},
   "outputs": [
    {
     "data": {
      "text/plain": [
       "0.00      19598\n",
       "197.56        9\n",
       "447.30        9\n",
       "335.91        9\n",
       "108.95        8\n",
       "          ...  \n",
       "72.49         1\n",
       "846.22        1\n",
       "429.17        1\n",
       "899.03        1\n",
       "483.87        1\n",
       "Name: mb_used, Length: 70003, dtype: int64"
      ]
     },
     "execution_count": 11,
     "metadata": {},
     "output_type": "execute_result"
    }
   ],
   "source": [
    "internet['mb_used'].value_counts()"
   ]
  },
  {
   "cell_type": "markdown",
   "id": "e92d4a23",
   "metadata": {},
   "source": [
    "Скорее всего нули в звонках обусловлены пропущенными звонками, а в интернет-сессиях - ошибочными сессиями. На данном этапе мы ничего не будем с ними делать, тк они все равно схлопнутся при последующих группировках таблиц."
   ]
  },
  {
   "cell_type": "code",
   "execution_count": 12,
   "id": "ee027dc2",
   "metadata": {},
   "outputs": [
    {
     "data": {
      "text/html": [
       "<div>\n",
       "<style scoped>\n",
       "    .dataframe tbody tr th:only-of-type {\n",
       "        vertical-align: middle;\n",
       "    }\n",
       "\n",
       "    .dataframe tbody tr th {\n",
       "        vertical-align: top;\n",
       "    }\n",
       "\n",
       "    .dataframe thead th {\n",
       "        text-align: right;\n",
       "    }\n",
       "</style>\n",
       "<table border=\"1\" class=\"dataframe\">\n",
       "  <thead>\n",
       "    <tr style=\"text-align: right;\">\n",
       "      <th></th>\n",
       "      <th>user_id</th>\n",
       "      <th>month</th>\n",
       "      <th>duration</th>\n",
       "    </tr>\n",
       "  </thead>\n",
       "  <tbody>\n",
       "    <tr>\n",
       "      <td>0</td>\n",
       "      <td>1000</td>\n",
       "      <td>5</td>\n",
       "      <td>159.0</td>\n",
       "    </tr>\n",
       "    <tr>\n",
       "      <td>1</td>\n",
       "      <td>1000</td>\n",
       "      <td>6</td>\n",
       "      <td>172.0</td>\n",
       "    </tr>\n",
       "    <tr>\n",
       "      <td>2</td>\n",
       "      <td>1000</td>\n",
       "      <td>7</td>\n",
       "      <td>340.0</td>\n",
       "    </tr>\n",
       "    <tr>\n",
       "      <td>3</td>\n",
       "      <td>1000</td>\n",
       "      <td>8</td>\n",
       "      <td>408.0</td>\n",
       "    </tr>\n",
       "    <tr>\n",
       "      <td>4</td>\n",
       "      <td>1000</td>\n",
       "      <td>9</td>\n",
       "      <td>466.0</td>\n",
       "    </tr>\n",
       "    <tr>\n",
       "      <td>...</td>\n",
       "      <td>...</td>\n",
       "      <td>...</td>\n",
       "      <td>...</td>\n",
       "    </tr>\n",
       "    <tr>\n",
       "      <td>3169</td>\n",
       "      <td>1498</td>\n",
       "      <td>10</td>\n",
       "      <td>247.0</td>\n",
       "    </tr>\n",
       "    <tr>\n",
       "      <td>3170</td>\n",
       "      <td>1499</td>\n",
       "      <td>9</td>\n",
       "      <td>70.0</td>\n",
       "    </tr>\n",
       "    <tr>\n",
       "      <td>3171</td>\n",
       "      <td>1499</td>\n",
       "      <td>10</td>\n",
       "      <td>449.0</td>\n",
       "    </tr>\n",
       "    <tr>\n",
       "      <td>3172</td>\n",
       "      <td>1499</td>\n",
       "      <td>11</td>\n",
       "      <td>612.0</td>\n",
       "    </tr>\n",
       "    <tr>\n",
       "      <td>3173</td>\n",
       "      <td>1499</td>\n",
       "      <td>12</td>\n",
       "      <td>492.0</td>\n",
       "    </tr>\n",
       "  </tbody>\n",
       "</table>\n",
       "<p>3174 rows × 3 columns</p>\n",
       "</div>"
      ],
      "text/plain": [
       "      user_id  month  duration\n",
       "0        1000      5     159.0\n",
       "1        1000      6     172.0\n",
       "2        1000      7     340.0\n",
       "3        1000      8     408.0\n",
       "4        1000      9     466.0\n",
       "...       ...    ...       ...\n",
       "3169     1498     10     247.0\n",
       "3170     1499      9      70.0\n",
       "3171     1499     10     449.0\n",
       "3172     1499     11     612.0\n",
       "3173     1499     12     492.0\n",
       "\n",
       "[3174 rows x 3 columns]"
      ]
     },
     "execution_count": 12,
     "metadata": {},
     "output_type": "execute_result"
    }
   ],
   "source": [
    "# Округляем секунды до минут согласно тарифам:\n",
    "calls['duration'] = calls['duration'].apply(np.ceil)\n",
    "\n",
    "#Посчитаем для каждого пользователя количество сделанных звонков и израсходованных минут разговора по месяцам:\n",
    "calls = calls.groupby(['user_id', 'month']).agg({'duration': 'sum'}).reset_index()\n",
    "calls"
   ]
  },
  {
   "cell_type": "code",
   "execution_count": 13,
   "id": "34bab748",
   "metadata": {},
   "outputs": [
    {
     "data": {
      "text/html": [
       "<div>\n",
       "<style scoped>\n",
       "    .dataframe tbody tr th:only-of-type {\n",
       "        vertical-align: middle;\n",
       "    }\n",
       "\n",
       "    .dataframe tbody tr th {\n",
       "        vertical-align: top;\n",
       "    }\n",
       "\n",
       "    .dataframe thead th {\n",
       "        text-align: right;\n",
       "    }\n",
       "</style>\n",
       "<table border=\"1\" class=\"dataframe\">\n",
       "  <thead>\n",
       "    <tr style=\"text-align: right;\">\n",
       "      <th></th>\n",
       "      <th>user_id</th>\n",
       "      <th>month</th>\n",
       "      <th>id</th>\n",
       "    </tr>\n",
       "  </thead>\n",
       "  <tbody>\n",
       "    <tr>\n",
       "      <td>0</td>\n",
       "      <td>1000</td>\n",
       "      <td>5</td>\n",
       "      <td>22</td>\n",
       "    </tr>\n",
       "    <tr>\n",
       "      <td>1</td>\n",
       "      <td>1000</td>\n",
       "      <td>6</td>\n",
       "      <td>60</td>\n",
       "    </tr>\n",
       "    <tr>\n",
       "      <td>2</td>\n",
       "      <td>1000</td>\n",
       "      <td>7</td>\n",
       "      <td>75</td>\n",
       "    </tr>\n",
       "    <tr>\n",
       "      <td>3</td>\n",
       "      <td>1000</td>\n",
       "      <td>8</td>\n",
       "      <td>81</td>\n",
       "    </tr>\n",
       "    <tr>\n",
       "      <td>4</td>\n",
       "      <td>1000</td>\n",
       "      <td>9</td>\n",
       "      <td>57</td>\n",
       "    </tr>\n",
       "    <tr>\n",
       "      <td>...</td>\n",
       "      <td>...</td>\n",
       "      <td>...</td>\n",
       "      <td>...</td>\n",
       "    </tr>\n",
       "    <tr>\n",
       "      <td>2712</td>\n",
       "      <td>1498</td>\n",
       "      <td>10</td>\n",
       "      <td>42</td>\n",
       "    </tr>\n",
       "    <tr>\n",
       "      <td>2713</td>\n",
       "      <td>1499</td>\n",
       "      <td>9</td>\n",
       "      <td>11</td>\n",
       "    </tr>\n",
       "    <tr>\n",
       "      <td>2714</td>\n",
       "      <td>1499</td>\n",
       "      <td>10</td>\n",
       "      <td>48</td>\n",
       "    </tr>\n",
       "    <tr>\n",
       "      <td>2715</td>\n",
       "      <td>1499</td>\n",
       "      <td>11</td>\n",
       "      <td>59</td>\n",
       "    </tr>\n",
       "    <tr>\n",
       "      <td>2716</td>\n",
       "      <td>1499</td>\n",
       "      <td>12</td>\n",
       "      <td>66</td>\n",
       "    </tr>\n",
       "  </tbody>\n",
       "</table>\n",
       "<p>2717 rows × 3 columns</p>\n",
       "</div>"
      ],
      "text/plain": [
       "      user_id  month  id\n",
       "0        1000      5  22\n",
       "1        1000      6  60\n",
       "2        1000      7  75\n",
       "3        1000      8  81\n",
       "4        1000      9  57\n",
       "...       ...    ...  ..\n",
       "2712     1498     10  42\n",
       "2713     1499      9  11\n",
       "2714     1499     10  48\n",
       "2715     1499     11  59\n",
       "2716     1499     12  66\n",
       "\n",
       "[2717 rows x 3 columns]"
      ]
     },
     "execution_count": 13,
     "metadata": {},
     "output_type": "execute_result"
    }
   ],
   "source": [
    "#Посчитаем для каждого пользователя количество отправленных сообщений по месяцам:\n",
    "messages = messages.groupby(['user_id', 'month']).agg({'id': 'count'}).reset_index()\n",
    "\n",
    "messages"
   ]
  },
  {
   "cell_type": "code",
   "execution_count": 14,
   "id": "20a43083",
   "metadata": {},
   "outputs": [
    {
     "data": {
      "text/html": [
       "<div>\n",
       "<style scoped>\n",
       "    .dataframe tbody tr th:only-of-type {\n",
       "        vertical-align: middle;\n",
       "    }\n",
       "\n",
       "    .dataframe tbody tr th {\n",
       "        vertical-align: top;\n",
       "    }\n",
       "\n",
       "    .dataframe thead th {\n",
       "        text-align: right;\n",
       "    }\n",
       "</style>\n",
       "<table border=\"1\" class=\"dataframe\">\n",
       "  <thead>\n",
       "    <tr style=\"text-align: right;\">\n",
       "      <th></th>\n",
       "      <th>user_id</th>\n",
       "      <th>month</th>\n",
       "      <th>mb_used</th>\n",
       "    </tr>\n",
       "  </thead>\n",
       "  <tbody>\n",
       "    <tr>\n",
       "      <td>0</td>\n",
       "      <td>1000</td>\n",
       "      <td>5</td>\n",
       "      <td>2253.49</td>\n",
       "    </tr>\n",
       "    <tr>\n",
       "      <td>1</td>\n",
       "      <td>1000</td>\n",
       "      <td>6</td>\n",
       "      <td>23233.77</td>\n",
       "    </tr>\n",
       "    <tr>\n",
       "      <td>2</td>\n",
       "      <td>1000</td>\n",
       "      <td>7</td>\n",
       "      <td>14003.64</td>\n",
       "    </tr>\n",
       "    <tr>\n",
       "      <td>3</td>\n",
       "      <td>1000</td>\n",
       "      <td>8</td>\n",
       "      <td>14055.93</td>\n",
       "    </tr>\n",
       "    <tr>\n",
       "      <td>4</td>\n",
       "      <td>1000</td>\n",
       "      <td>9</td>\n",
       "      <td>14568.91</td>\n",
       "    </tr>\n",
       "    <tr>\n",
       "      <td>...</td>\n",
       "      <td>...</td>\n",
       "      <td>...</td>\n",
       "      <td>...</td>\n",
       "    </tr>\n",
       "    <tr>\n",
       "      <td>3198</td>\n",
       "      <td>1498</td>\n",
       "      <td>10</td>\n",
       "      <td>20579.36</td>\n",
       "    </tr>\n",
       "    <tr>\n",
       "      <td>3199</td>\n",
       "      <td>1499</td>\n",
       "      <td>9</td>\n",
       "      <td>1845.75</td>\n",
       "    </tr>\n",
       "    <tr>\n",
       "      <td>3200</td>\n",
       "      <td>1499</td>\n",
       "      <td>10</td>\n",
       "      <td>17788.51</td>\n",
       "    </tr>\n",
       "    <tr>\n",
       "      <td>3201</td>\n",
       "      <td>1499</td>\n",
       "      <td>11</td>\n",
       "      <td>17963.31</td>\n",
       "    </tr>\n",
       "    <tr>\n",
       "      <td>3202</td>\n",
       "      <td>1499</td>\n",
       "      <td>12</td>\n",
       "      <td>13055.58</td>\n",
       "    </tr>\n",
       "  </tbody>\n",
       "</table>\n",
       "<p>3203 rows × 3 columns</p>\n",
       "</div>"
      ],
      "text/plain": [
       "      user_id  month   mb_used\n",
       "0        1000      5   2253.49\n",
       "1        1000      6  23233.77\n",
       "2        1000      7  14003.64\n",
       "3        1000      8  14055.93\n",
       "4        1000      9  14568.91\n",
       "...       ...    ...       ...\n",
       "3198     1498     10  20579.36\n",
       "3199     1499      9   1845.75\n",
       "3200     1499     10  17788.51\n",
       "3201     1499     11  17963.31\n",
       "3202     1499     12  13055.58\n",
       "\n",
       "[3203 rows x 3 columns]"
      ]
     },
     "execution_count": 14,
     "metadata": {},
     "output_type": "execute_result"
    }
   ],
   "source": [
    "#Посчитаем для каждого пользователя объем израсходованного интернет-трафика по месяцам:\n",
    "internet = internet.groupby(['user_id', 'month']).agg({'mb_used': 'sum'}).reset_index()\n",
    "internet"
   ]
  },
  {
   "cell_type": "code",
   "execution_count": 15,
   "id": "ec1fc5c5",
   "metadata": {},
   "outputs": [
    {
     "data": {
      "text/html": [
       "<div>\n",
       "<style scoped>\n",
       "    .dataframe tbody tr th:only-of-type {\n",
       "        vertical-align: middle;\n",
       "    }\n",
       "\n",
       "    .dataframe tbody tr th {\n",
       "        vertical-align: top;\n",
       "    }\n",
       "\n",
       "    .dataframe thead th {\n",
       "        text-align: right;\n",
       "    }\n",
       "</style>\n",
       "<table border=\"1\" class=\"dataframe\">\n",
       "  <thead>\n",
       "    <tr style=\"text-align: right;\">\n",
       "      <th></th>\n",
       "      <th>user_id</th>\n",
       "      <th>month</th>\n",
       "      <th>duration</th>\n",
       "      <th>id</th>\n",
       "      <th>mb_used</th>\n",
       "    </tr>\n",
       "  </thead>\n",
       "  <tbody>\n",
       "    <tr>\n",
       "      <td>0</td>\n",
       "      <td>1000</td>\n",
       "      <td>5</td>\n",
       "      <td>159.0</td>\n",
       "      <td>22.0</td>\n",
       "      <td>2253.49</td>\n",
       "    </tr>\n",
       "    <tr>\n",
       "      <td>1</td>\n",
       "      <td>1000</td>\n",
       "      <td>6</td>\n",
       "      <td>172.0</td>\n",
       "      <td>60.0</td>\n",
       "      <td>23233.77</td>\n",
       "    </tr>\n",
       "    <tr>\n",
       "      <td>2</td>\n",
       "      <td>1000</td>\n",
       "      <td>7</td>\n",
       "      <td>340.0</td>\n",
       "      <td>75.0</td>\n",
       "      <td>14003.64</td>\n",
       "    </tr>\n",
       "    <tr>\n",
       "      <td>3</td>\n",
       "      <td>1000</td>\n",
       "      <td>8</td>\n",
       "      <td>408.0</td>\n",
       "      <td>81.0</td>\n",
       "      <td>14055.93</td>\n",
       "    </tr>\n",
       "    <tr>\n",
       "      <td>4</td>\n",
       "      <td>1000</td>\n",
       "      <td>9</td>\n",
       "      <td>466.0</td>\n",
       "      <td>57.0</td>\n",
       "      <td>14568.91</td>\n",
       "    </tr>\n",
       "    <tr>\n",
       "      <td>...</td>\n",
       "      <td>...</td>\n",
       "      <td>...</td>\n",
       "      <td>...</td>\n",
       "      <td>...</td>\n",
       "      <td>...</td>\n",
       "    </tr>\n",
       "    <tr>\n",
       "      <td>3209</td>\n",
       "      <td>1489</td>\n",
       "      <td>9</td>\n",
       "      <td>NaN</td>\n",
       "      <td>32.0</td>\n",
       "      <td>17206.30</td>\n",
       "    </tr>\n",
       "    <tr>\n",
       "      <td>3210</td>\n",
       "      <td>1489</td>\n",
       "      <td>10</td>\n",
       "      <td>NaN</td>\n",
       "      <td>21.0</td>\n",
       "      <td>19559.44</td>\n",
       "    </tr>\n",
       "    <tr>\n",
       "      <td>3211</td>\n",
       "      <td>1489</td>\n",
       "      <td>11</td>\n",
       "      <td>NaN</td>\n",
       "      <td>20.0</td>\n",
       "      <td>17491.56</td>\n",
       "    </tr>\n",
       "    <tr>\n",
       "      <td>3212</td>\n",
       "      <td>1489</td>\n",
       "      <td>12</td>\n",
       "      <td>NaN</td>\n",
       "      <td>35.0</td>\n",
       "      <td>17322.51</td>\n",
       "    </tr>\n",
       "    <tr>\n",
       "      <td>3213</td>\n",
       "      <td>1476</td>\n",
       "      <td>4</td>\n",
       "      <td>NaN</td>\n",
       "      <td>NaN</td>\n",
       "      <td>530.78</td>\n",
       "    </tr>\n",
       "  </tbody>\n",
       "</table>\n",
       "<p>3214 rows × 5 columns</p>\n",
       "</div>"
      ],
      "text/plain": [
       "      user_id  month  duration    id   mb_used\n",
       "0        1000      5     159.0  22.0   2253.49\n",
       "1        1000      6     172.0  60.0  23233.77\n",
       "2        1000      7     340.0  75.0  14003.64\n",
       "3        1000      8     408.0  81.0  14055.93\n",
       "4        1000      9     466.0  57.0  14568.91\n",
       "...       ...    ...       ...   ...       ...\n",
       "3209     1489      9       NaN  32.0  17206.30\n",
       "3210     1489     10       NaN  21.0  19559.44\n",
       "3211     1489     11       NaN  20.0  17491.56\n",
       "3212     1489     12       NaN  35.0  17322.51\n",
       "3213     1476      4       NaN   NaN    530.78\n",
       "\n",
       "[3214 rows x 5 columns]"
      ]
     },
     "execution_count": 15,
     "metadata": {},
     "output_type": "execute_result"
    }
   ],
   "source": [
    "#Для удобства расчетов, объединим таблицы calls, messages, internet по user_id и month методом merge:\n",
    "data = calls.merge(messages, on = ['user_id', 'month'], how = 'outer')\n",
    "data = data.merge(internet, on = ['user_id', 'month'], how = 'outer')\n",
    "data"
   ]
  },
  {
   "cell_type": "code",
   "execution_count": 16,
   "id": "8284b284",
   "metadata": {},
   "outputs": [
    {
     "data": {
      "text/html": [
       "<div>\n",
       "<style scoped>\n",
       "    .dataframe tbody tr th:only-of-type {\n",
       "        vertical-align: middle;\n",
       "    }\n",
       "\n",
       "    .dataframe tbody tr th {\n",
       "        vertical-align: top;\n",
       "    }\n",
       "\n",
       "    .dataframe thead th {\n",
       "        text-align: right;\n",
       "    }\n",
       "</style>\n",
       "<table border=\"1\" class=\"dataframe\">\n",
       "  <thead>\n",
       "    <tr style=\"text-align: right;\">\n",
       "      <th></th>\n",
       "      <th>user_id</th>\n",
       "      <th>month</th>\n",
       "      <th>duration</th>\n",
       "      <th>id</th>\n",
       "      <th>mb_used</th>\n",
       "      <th>age</th>\n",
       "      <th>churn_date</th>\n",
       "      <th>city</th>\n",
       "      <th>first_name</th>\n",
       "      <th>last_name</th>\n",
       "      <th>reg_date</th>\n",
       "      <th>tariff</th>\n",
       "    </tr>\n",
       "  </thead>\n",
       "  <tbody>\n",
       "    <tr>\n",
       "      <td>0</td>\n",
       "      <td>1000</td>\n",
       "      <td>5</td>\n",
       "      <td>159.0</td>\n",
       "      <td>22.0</td>\n",
       "      <td>2253.49</td>\n",
       "      <td>52</td>\n",
       "      <td>NaT</td>\n",
       "      <td>Краснодар</td>\n",
       "      <td>Рафаил</td>\n",
       "      <td>Верещагин</td>\n",
       "      <td>2018-05-25</td>\n",
       "      <td>ultra</td>\n",
       "    </tr>\n",
       "    <tr>\n",
       "      <td>1</td>\n",
       "      <td>1000</td>\n",
       "      <td>6</td>\n",
       "      <td>172.0</td>\n",
       "      <td>60.0</td>\n",
       "      <td>23233.77</td>\n",
       "      <td>52</td>\n",
       "      <td>NaT</td>\n",
       "      <td>Краснодар</td>\n",
       "      <td>Рафаил</td>\n",
       "      <td>Верещагин</td>\n",
       "      <td>2018-05-25</td>\n",
       "      <td>ultra</td>\n",
       "    </tr>\n",
       "    <tr>\n",
       "      <td>2</td>\n",
       "      <td>1000</td>\n",
       "      <td>7</td>\n",
       "      <td>340.0</td>\n",
       "      <td>75.0</td>\n",
       "      <td>14003.64</td>\n",
       "      <td>52</td>\n",
       "      <td>NaT</td>\n",
       "      <td>Краснодар</td>\n",
       "      <td>Рафаил</td>\n",
       "      <td>Верещагин</td>\n",
       "      <td>2018-05-25</td>\n",
       "      <td>ultra</td>\n",
       "    </tr>\n",
       "    <tr>\n",
       "      <td>3</td>\n",
       "      <td>1000</td>\n",
       "      <td>8</td>\n",
       "      <td>408.0</td>\n",
       "      <td>81.0</td>\n",
       "      <td>14055.93</td>\n",
       "      <td>52</td>\n",
       "      <td>NaT</td>\n",
       "      <td>Краснодар</td>\n",
       "      <td>Рафаил</td>\n",
       "      <td>Верещагин</td>\n",
       "      <td>2018-05-25</td>\n",
       "      <td>ultra</td>\n",
       "    </tr>\n",
       "    <tr>\n",
       "      <td>4</td>\n",
       "      <td>1000</td>\n",
       "      <td>9</td>\n",
       "      <td>466.0</td>\n",
       "      <td>57.0</td>\n",
       "      <td>14568.91</td>\n",
       "      <td>52</td>\n",
       "      <td>NaT</td>\n",
       "      <td>Краснодар</td>\n",
       "      <td>Рафаил</td>\n",
       "      <td>Верещагин</td>\n",
       "      <td>2018-05-25</td>\n",
       "      <td>ultra</td>\n",
       "    </tr>\n",
       "    <tr>\n",
       "      <td>...</td>\n",
       "      <td>...</td>\n",
       "      <td>...</td>\n",
       "      <td>...</td>\n",
       "      <td>...</td>\n",
       "      <td>...</td>\n",
       "      <td>...</td>\n",
       "      <td>...</td>\n",
       "      <td>...</td>\n",
       "      <td>...</td>\n",
       "      <td>...</td>\n",
       "      <td>...</td>\n",
       "      <td>...</td>\n",
       "    </tr>\n",
       "    <tr>\n",
       "      <td>3209</td>\n",
       "      <td>1489</td>\n",
       "      <td>9</td>\n",
       "      <td>NaN</td>\n",
       "      <td>32.0</td>\n",
       "      <td>17206.30</td>\n",
       "      <td>35</td>\n",
       "      <td>NaT</td>\n",
       "      <td>Санкт-Петербург</td>\n",
       "      <td>Павел</td>\n",
       "      <td>Гончаров</td>\n",
       "      <td>2018-08-15</td>\n",
       "      <td>smart</td>\n",
       "    </tr>\n",
       "    <tr>\n",
       "      <td>3210</td>\n",
       "      <td>1489</td>\n",
       "      <td>10</td>\n",
       "      <td>NaN</td>\n",
       "      <td>21.0</td>\n",
       "      <td>19559.44</td>\n",
       "      <td>35</td>\n",
       "      <td>NaT</td>\n",
       "      <td>Санкт-Петербург</td>\n",
       "      <td>Павел</td>\n",
       "      <td>Гончаров</td>\n",
       "      <td>2018-08-15</td>\n",
       "      <td>smart</td>\n",
       "    </tr>\n",
       "    <tr>\n",
       "      <td>3211</td>\n",
       "      <td>1489</td>\n",
       "      <td>11</td>\n",
       "      <td>NaN</td>\n",
       "      <td>20.0</td>\n",
       "      <td>17491.56</td>\n",
       "      <td>35</td>\n",
       "      <td>NaT</td>\n",
       "      <td>Санкт-Петербург</td>\n",
       "      <td>Павел</td>\n",
       "      <td>Гончаров</td>\n",
       "      <td>2018-08-15</td>\n",
       "      <td>smart</td>\n",
       "    </tr>\n",
       "    <tr>\n",
       "      <td>3212</td>\n",
       "      <td>1489</td>\n",
       "      <td>12</td>\n",
       "      <td>NaN</td>\n",
       "      <td>35.0</td>\n",
       "      <td>17322.51</td>\n",
       "      <td>35</td>\n",
       "      <td>NaT</td>\n",
       "      <td>Санкт-Петербург</td>\n",
       "      <td>Павел</td>\n",
       "      <td>Гончаров</td>\n",
       "      <td>2018-08-15</td>\n",
       "      <td>smart</td>\n",
       "    </tr>\n",
       "    <tr>\n",
       "      <td>3213</td>\n",
       "      <td>1476</td>\n",
       "      <td>4</td>\n",
       "      <td>NaN</td>\n",
       "      <td>NaN</td>\n",
       "      <td>530.78</td>\n",
       "      <td>50</td>\n",
       "      <td>NaT</td>\n",
       "      <td>Москва</td>\n",
       "      <td>Валентина</td>\n",
       "      <td>Семенова</td>\n",
       "      <td>2018-04-30</td>\n",
       "      <td>ultra</td>\n",
       "    </tr>\n",
       "  </tbody>\n",
       "</table>\n",
       "<p>3214 rows × 12 columns</p>\n",
       "</div>"
      ],
      "text/plain": [
       "      user_id  month  duration    id   mb_used  age churn_date  \\\n",
       "0        1000      5     159.0  22.0   2253.49   52        NaT   \n",
       "1        1000      6     172.0  60.0  23233.77   52        NaT   \n",
       "2        1000      7     340.0  75.0  14003.64   52        NaT   \n",
       "3        1000      8     408.0  81.0  14055.93   52        NaT   \n",
       "4        1000      9     466.0  57.0  14568.91   52        NaT   \n",
       "...       ...    ...       ...   ...       ...  ...        ...   \n",
       "3209     1489      9       NaN  32.0  17206.30   35        NaT   \n",
       "3210     1489     10       NaN  21.0  19559.44   35        NaT   \n",
       "3211     1489     11       NaN  20.0  17491.56   35        NaT   \n",
       "3212     1489     12       NaN  35.0  17322.51   35        NaT   \n",
       "3213     1476      4       NaN   NaN    530.78   50        NaT   \n",
       "\n",
       "                 city first_name  last_name   reg_date tariff  \n",
       "0           Краснодар     Рафаил  Верещагин 2018-05-25  ultra  \n",
       "1           Краснодар     Рафаил  Верещагин 2018-05-25  ultra  \n",
       "2           Краснодар     Рафаил  Верещагин 2018-05-25  ultra  \n",
       "3           Краснодар     Рафаил  Верещагин 2018-05-25  ultra  \n",
       "4           Краснодар     Рафаил  Верещагин 2018-05-25  ultra  \n",
       "...               ...        ...        ...        ...    ...  \n",
       "3209  Санкт-Петербург      Павел   Гончаров 2018-08-15  smart  \n",
       "3210  Санкт-Петербург      Павел   Гончаров 2018-08-15  smart  \n",
       "3211  Санкт-Петербург      Павел   Гончаров 2018-08-15  smart  \n",
       "3212  Санкт-Петербург      Павел   Гончаров 2018-08-15  smart  \n",
       "3213           Москва  Валентина   Семенова 2018-04-30  ultra  \n",
       "\n",
       "[3214 rows x 12 columns]"
      ]
     },
     "execution_count": 16,
     "metadata": {},
     "output_type": "execute_result"
    }
   ],
   "source": [
    "#Присоединим таблицу users:\n",
    "data = data.merge(users, on = ['user_id'], how = 'left')\n",
    "data"
   ]
  },
  {
   "cell_type": "code",
   "execution_count": 17,
   "id": "2e2e307f",
   "metadata": {},
   "outputs": [
    {
     "data": {
      "text/html": [
       "<div>\n",
       "<style scoped>\n",
       "    .dataframe tbody tr th:only-of-type {\n",
       "        vertical-align: middle;\n",
       "    }\n",
       "\n",
       "    .dataframe tbody tr th {\n",
       "        vertical-align: top;\n",
       "    }\n",
       "\n",
       "    .dataframe thead th {\n",
       "        text-align: right;\n",
       "    }\n",
       "</style>\n",
       "<table border=\"1\" class=\"dataframe\">\n",
       "  <thead>\n",
       "    <tr style=\"text-align: right;\">\n",
       "      <th></th>\n",
       "      <th>user_id</th>\n",
       "      <th>month</th>\n",
       "      <th>duration</th>\n",
       "      <th>id</th>\n",
       "      <th>mb_used</th>\n",
       "      <th>age</th>\n",
       "      <th>churn_date</th>\n",
       "      <th>city</th>\n",
       "      <th>first_name</th>\n",
       "      <th>last_name</th>\n",
       "      <th>reg_date</th>\n",
       "      <th>tariff</th>\n",
       "      <th>messages_included</th>\n",
       "      <th>mb_per_month_included</th>\n",
       "      <th>minutes_included</th>\n",
       "      <th>rub_monthly_fee</th>\n",
       "      <th>rub_per_gb</th>\n",
       "      <th>rub_per_message</th>\n",
       "      <th>rub_per_minute</th>\n",
       "      <th>tariff_name</th>\n",
       "    </tr>\n",
       "  </thead>\n",
       "  <tbody>\n",
       "    <tr>\n",
       "      <td>0</td>\n",
       "      <td>1000</td>\n",
       "      <td>5</td>\n",
       "      <td>159.0</td>\n",
       "      <td>22.0</td>\n",
       "      <td>2253.49</td>\n",
       "      <td>52</td>\n",
       "      <td>NaT</td>\n",
       "      <td>Краснодар</td>\n",
       "      <td>Рафаил</td>\n",
       "      <td>Верещагин</td>\n",
       "      <td>2018-05-25</td>\n",
       "      <td>ultra</td>\n",
       "      <td>1000</td>\n",
       "      <td>30720</td>\n",
       "      <td>3000</td>\n",
       "      <td>1950</td>\n",
       "      <td>150</td>\n",
       "      <td>1</td>\n",
       "      <td>1</td>\n",
       "      <td>ultra</td>\n",
       "    </tr>\n",
       "    <tr>\n",
       "      <td>1</td>\n",
       "      <td>1000</td>\n",
       "      <td>6</td>\n",
       "      <td>172.0</td>\n",
       "      <td>60.0</td>\n",
       "      <td>23233.77</td>\n",
       "      <td>52</td>\n",
       "      <td>NaT</td>\n",
       "      <td>Краснодар</td>\n",
       "      <td>Рафаил</td>\n",
       "      <td>Верещагин</td>\n",
       "      <td>2018-05-25</td>\n",
       "      <td>ultra</td>\n",
       "      <td>1000</td>\n",
       "      <td>30720</td>\n",
       "      <td>3000</td>\n",
       "      <td>1950</td>\n",
       "      <td>150</td>\n",
       "      <td>1</td>\n",
       "      <td>1</td>\n",
       "      <td>ultra</td>\n",
       "    </tr>\n",
       "    <tr>\n",
       "      <td>2</td>\n",
       "      <td>1000</td>\n",
       "      <td>7</td>\n",
       "      <td>340.0</td>\n",
       "      <td>75.0</td>\n",
       "      <td>14003.64</td>\n",
       "      <td>52</td>\n",
       "      <td>NaT</td>\n",
       "      <td>Краснодар</td>\n",
       "      <td>Рафаил</td>\n",
       "      <td>Верещагин</td>\n",
       "      <td>2018-05-25</td>\n",
       "      <td>ultra</td>\n",
       "      <td>1000</td>\n",
       "      <td>30720</td>\n",
       "      <td>3000</td>\n",
       "      <td>1950</td>\n",
       "      <td>150</td>\n",
       "      <td>1</td>\n",
       "      <td>1</td>\n",
       "      <td>ultra</td>\n",
       "    </tr>\n",
       "    <tr>\n",
       "      <td>3</td>\n",
       "      <td>1000</td>\n",
       "      <td>8</td>\n",
       "      <td>408.0</td>\n",
       "      <td>81.0</td>\n",
       "      <td>14055.93</td>\n",
       "      <td>52</td>\n",
       "      <td>NaT</td>\n",
       "      <td>Краснодар</td>\n",
       "      <td>Рафаил</td>\n",
       "      <td>Верещагин</td>\n",
       "      <td>2018-05-25</td>\n",
       "      <td>ultra</td>\n",
       "      <td>1000</td>\n",
       "      <td>30720</td>\n",
       "      <td>3000</td>\n",
       "      <td>1950</td>\n",
       "      <td>150</td>\n",
       "      <td>1</td>\n",
       "      <td>1</td>\n",
       "      <td>ultra</td>\n",
       "    </tr>\n",
       "    <tr>\n",
       "      <td>4</td>\n",
       "      <td>1000</td>\n",
       "      <td>9</td>\n",
       "      <td>466.0</td>\n",
       "      <td>57.0</td>\n",
       "      <td>14568.91</td>\n",
       "      <td>52</td>\n",
       "      <td>NaT</td>\n",
       "      <td>Краснодар</td>\n",
       "      <td>Рафаил</td>\n",
       "      <td>Верещагин</td>\n",
       "      <td>2018-05-25</td>\n",
       "      <td>ultra</td>\n",
       "      <td>1000</td>\n",
       "      <td>30720</td>\n",
       "      <td>3000</td>\n",
       "      <td>1950</td>\n",
       "      <td>150</td>\n",
       "      <td>1</td>\n",
       "      <td>1</td>\n",
       "      <td>ultra</td>\n",
       "    </tr>\n",
       "    <tr>\n",
       "      <td>...</td>\n",
       "      <td>...</td>\n",
       "      <td>...</td>\n",
       "      <td>...</td>\n",
       "      <td>...</td>\n",
       "      <td>...</td>\n",
       "      <td>...</td>\n",
       "      <td>...</td>\n",
       "      <td>...</td>\n",
       "      <td>...</td>\n",
       "      <td>...</td>\n",
       "      <td>...</td>\n",
       "      <td>...</td>\n",
       "      <td>...</td>\n",
       "      <td>...</td>\n",
       "      <td>...</td>\n",
       "      <td>...</td>\n",
       "      <td>...</td>\n",
       "      <td>...</td>\n",
       "      <td>...</td>\n",
       "      <td>...</td>\n",
       "    </tr>\n",
       "    <tr>\n",
       "      <td>3209</td>\n",
       "      <td>1489</td>\n",
       "      <td>9</td>\n",
       "      <td>NaN</td>\n",
       "      <td>32.0</td>\n",
       "      <td>17206.30</td>\n",
       "      <td>35</td>\n",
       "      <td>NaT</td>\n",
       "      <td>Санкт-Петербург</td>\n",
       "      <td>Павел</td>\n",
       "      <td>Гончаров</td>\n",
       "      <td>2018-08-15</td>\n",
       "      <td>smart</td>\n",
       "      <td>50</td>\n",
       "      <td>15360</td>\n",
       "      <td>500</td>\n",
       "      <td>550</td>\n",
       "      <td>200</td>\n",
       "      <td>3</td>\n",
       "      <td>3</td>\n",
       "      <td>smart</td>\n",
       "    </tr>\n",
       "    <tr>\n",
       "      <td>3210</td>\n",
       "      <td>1489</td>\n",
       "      <td>10</td>\n",
       "      <td>NaN</td>\n",
       "      <td>21.0</td>\n",
       "      <td>19559.44</td>\n",
       "      <td>35</td>\n",
       "      <td>NaT</td>\n",
       "      <td>Санкт-Петербург</td>\n",
       "      <td>Павел</td>\n",
       "      <td>Гончаров</td>\n",
       "      <td>2018-08-15</td>\n",
       "      <td>smart</td>\n",
       "      <td>50</td>\n",
       "      <td>15360</td>\n",
       "      <td>500</td>\n",
       "      <td>550</td>\n",
       "      <td>200</td>\n",
       "      <td>3</td>\n",
       "      <td>3</td>\n",
       "      <td>smart</td>\n",
       "    </tr>\n",
       "    <tr>\n",
       "      <td>3211</td>\n",
       "      <td>1489</td>\n",
       "      <td>11</td>\n",
       "      <td>NaN</td>\n",
       "      <td>20.0</td>\n",
       "      <td>17491.56</td>\n",
       "      <td>35</td>\n",
       "      <td>NaT</td>\n",
       "      <td>Санкт-Петербург</td>\n",
       "      <td>Павел</td>\n",
       "      <td>Гончаров</td>\n",
       "      <td>2018-08-15</td>\n",
       "      <td>smart</td>\n",
       "      <td>50</td>\n",
       "      <td>15360</td>\n",
       "      <td>500</td>\n",
       "      <td>550</td>\n",
       "      <td>200</td>\n",
       "      <td>3</td>\n",
       "      <td>3</td>\n",
       "      <td>smart</td>\n",
       "    </tr>\n",
       "    <tr>\n",
       "      <td>3212</td>\n",
       "      <td>1489</td>\n",
       "      <td>12</td>\n",
       "      <td>NaN</td>\n",
       "      <td>35.0</td>\n",
       "      <td>17322.51</td>\n",
       "      <td>35</td>\n",
       "      <td>NaT</td>\n",
       "      <td>Санкт-Петербург</td>\n",
       "      <td>Павел</td>\n",
       "      <td>Гончаров</td>\n",
       "      <td>2018-08-15</td>\n",
       "      <td>smart</td>\n",
       "      <td>50</td>\n",
       "      <td>15360</td>\n",
       "      <td>500</td>\n",
       "      <td>550</td>\n",
       "      <td>200</td>\n",
       "      <td>3</td>\n",
       "      <td>3</td>\n",
       "      <td>smart</td>\n",
       "    </tr>\n",
       "    <tr>\n",
       "      <td>3213</td>\n",
       "      <td>1476</td>\n",
       "      <td>4</td>\n",
       "      <td>NaN</td>\n",
       "      <td>NaN</td>\n",
       "      <td>530.78</td>\n",
       "      <td>50</td>\n",
       "      <td>NaT</td>\n",
       "      <td>Москва</td>\n",
       "      <td>Валентина</td>\n",
       "      <td>Семенова</td>\n",
       "      <td>2018-04-30</td>\n",
       "      <td>ultra</td>\n",
       "      <td>1000</td>\n",
       "      <td>30720</td>\n",
       "      <td>3000</td>\n",
       "      <td>1950</td>\n",
       "      <td>150</td>\n",
       "      <td>1</td>\n",
       "      <td>1</td>\n",
       "      <td>ultra</td>\n",
       "    </tr>\n",
       "  </tbody>\n",
       "</table>\n",
       "<p>3214 rows × 20 columns</p>\n",
       "</div>"
      ],
      "text/plain": [
       "      user_id  month  duration    id   mb_used  age churn_date  \\\n",
       "0        1000      5     159.0  22.0   2253.49   52        NaT   \n",
       "1        1000      6     172.0  60.0  23233.77   52        NaT   \n",
       "2        1000      7     340.0  75.0  14003.64   52        NaT   \n",
       "3        1000      8     408.0  81.0  14055.93   52        NaT   \n",
       "4        1000      9     466.0  57.0  14568.91   52        NaT   \n",
       "...       ...    ...       ...   ...       ...  ...        ...   \n",
       "3209     1489      9       NaN  32.0  17206.30   35        NaT   \n",
       "3210     1489     10       NaN  21.0  19559.44   35        NaT   \n",
       "3211     1489     11       NaN  20.0  17491.56   35        NaT   \n",
       "3212     1489     12       NaN  35.0  17322.51   35        NaT   \n",
       "3213     1476      4       NaN   NaN    530.78   50        NaT   \n",
       "\n",
       "                 city first_name  last_name   reg_date tariff  \\\n",
       "0           Краснодар     Рафаил  Верещагин 2018-05-25  ultra   \n",
       "1           Краснодар     Рафаил  Верещагин 2018-05-25  ultra   \n",
       "2           Краснодар     Рафаил  Верещагин 2018-05-25  ultra   \n",
       "3           Краснодар     Рафаил  Верещагин 2018-05-25  ultra   \n",
       "4           Краснодар     Рафаил  Верещагин 2018-05-25  ultra   \n",
       "...               ...        ...        ...        ...    ...   \n",
       "3209  Санкт-Петербург      Павел   Гончаров 2018-08-15  smart   \n",
       "3210  Санкт-Петербург      Павел   Гончаров 2018-08-15  smart   \n",
       "3211  Санкт-Петербург      Павел   Гончаров 2018-08-15  smart   \n",
       "3212  Санкт-Петербург      Павел   Гончаров 2018-08-15  smart   \n",
       "3213           Москва  Валентина   Семенова 2018-04-30  ultra   \n",
       "\n",
       "      messages_included  mb_per_month_included  minutes_included  \\\n",
       "0                  1000                  30720              3000   \n",
       "1                  1000                  30720              3000   \n",
       "2                  1000                  30720              3000   \n",
       "3                  1000                  30720              3000   \n",
       "4                  1000                  30720              3000   \n",
       "...                 ...                    ...               ...   \n",
       "3209                 50                  15360               500   \n",
       "3210                 50                  15360               500   \n",
       "3211                 50                  15360               500   \n",
       "3212                 50                  15360               500   \n",
       "3213               1000                  30720              3000   \n",
       "\n",
       "      rub_monthly_fee  rub_per_gb  rub_per_message  rub_per_minute tariff_name  \n",
       "0                1950         150                1               1       ultra  \n",
       "1                1950         150                1               1       ultra  \n",
       "2                1950         150                1               1       ultra  \n",
       "3                1950         150                1               1       ultra  \n",
       "4                1950         150                1               1       ultra  \n",
       "...               ...         ...              ...             ...         ...  \n",
       "3209              550         200                3               3       smart  \n",
       "3210              550         200                3               3       smart  \n",
       "3211              550         200                3               3       smart  \n",
       "3212              550         200                3               3       smart  \n",
       "3213             1950         150                1               1       ultra  \n",
       "\n",
       "[3214 rows x 20 columns]"
      ]
     },
     "execution_count": 17,
     "metadata": {},
     "output_type": "execute_result"
    }
   ],
   "source": [
    "#Присоединим таблицу tariffs:\n",
    "data = data.merge(tariffs, left_on = 'tariff', right_on = 'tariff_name', how = 'left')\n",
    "data"
   ]
  },
  {
   "cell_type": "code",
   "execution_count": 18,
   "id": "5ebd64ac",
   "metadata": {},
   "outputs": [
    {
     "data": {
      "text/plain": [
       "user_id                     0\n",
       "month                       0\n",
       "duration                   40\n",
       "id                        497\n",
       "mb_used                    11\n",
       "age                         0\n",
       "churn_date               3027\n",
       "city                        0\n",
       "first_name                  0\n",
       "last_name                   0\n",
       "reg_date                    0\n",
       "tariff                      0\n",
       "messages_included           0\n",
       "mb_per_month_included       0\n",
       "minutes_included            0\n",
       "rub_monthly_fee             0\n",
       "rub_per_gb                  0\n",
       "rub_per_message             0\n",
       "rub_per_minute              0\n",
       "tariff_name                 0\n",
       "dtype: int64"
      ]
     },
     "execution_count": 18,
     "metadata": {},
     "output_type": "execute_result"
    }
   ],
   "source": [
    "#Проверим на пропуски объедененную таблицу:\n",
    "data.isna().sum()"
   ]
  },
  {
   "cell_type": "markdown",
   "id": "ae07f7dc",
   "metadata": {},
   "source": [
    "Появились пропуски в столбцах: duration, id, mb_used, churn_date. Churn_date по-прежнему оставляем без изменений, тк это действующие контракты. Пропуски в month, duration, id, mb_used появились в следствии того, что некоторые пользователи в какие-то месяцы не пользовались теми или иными услугами. Заполним их нулями."
   ]
  },
  {
   "cell_type": "code",
   "execution_count": 19,
   "id": "e8557b2b",
   "metadata": {},
   "outputs": [
    {
     "data": {
      "text/plain": [
       "user_id                     0\n",
       "month                       0\n",
       "duration                    0\n",
       "id                          0\n",
       "mb_used                     0\n",
       "age                         0\n",
       "churn_date               3027\n",
       "city                        0\n",
       "first_name                  0\n",
       "last_name                   0\n",
       "reg_date                    0\n",
       "tariff                      0\n",
       "messages_included           0\n",
       "mb_per_month_included       0\n",
       "minutes_included            0\n",
       "rub_monthly_fee             0\n",
       "rub_per_gb                  0\n",
       "rub_per_message             0\n",
       "rub_per_minute              0\n",
       "tariff_name                 0\n",
       "dtype: int64"
      ]
     },
     "execution_count": 19,
     "metadata": {},
     "output_type": "execute_result"
    }
   ],
   "source": [
    "#Заполним пропуски нулями методом .fillna(), тк пропущенные значения имеют значения NaN:\n",
    "data['duration'] = data['duration'].fillna(0)\n",
    "data['id'] = data['id'].fillna(0)\n",
    "data['mb_used'] = data['mb_used'].fillna(0)\n",
    "\n",
    "data.isna().sum()"
   ]
  },
  {
   "cell_type": "markdown",
   "id": "a1737834",
   "metadata": {},
   "source": [
    "Посчитаем помесячную выручку с каждого пользователя (вычтите бесплатный лимит из суммарного количества звонков, сообщений и интернет-трафика; остаток умножьте на значение из тарифного плана; прибавьте абонентскую плату, соответствующую тарифному плану)."
   ]
  },
  {
   "cell_type": "code",
   "execution_count": 20,
   "id": "b16cff3c",
   "metadata": {},
   "outputs": [
    {
     "data": {
      "text/html": [
       "<div>\n",
       "<style scoped>\n",
       "    .dataframe tbody tr th:only-of-type {\n",
       "        vertical-align: middle;\n",
       "    }\n",
       "\n",
       "    .dataframe tbody tr th {\n",
       "        vertical-align: top;\n",
       "    }\n",
       "\n",
       "    .dataframe thead th {\n",
       "        text-align: right;\n",
       "    }\n",
       "</style>\n",
       "<table border=\"1\" class=\"dataframe\">\n",
       "  <thead>\n",
       "    <tr style=\"text-align: right;\">\n",
       "      <th></th>\n",
       "      <th>user_id</th>\n",
       "      <th>month</th>\n",
       "      <th>duration</th>\n",
       "      <th>id</th>\n",
       "      <th>mb_used</th>\n",
       "      <th>age</th>\n",
       "      <th>churn_date</th>\n",
       "      <th>city</th>\n",
       "      <th>first_name</th>\n",
       "      <th>last_name</th>\n",
       "      <th>...</th>\n",
       "      <th>tariff</th>\n",
       "      <th>messages_included</th>\n",
       "      <th>mb_per_month_included</th>\n",
       "      <th>minutes_included</th>\n",
       "      <th>rub_monthly_fee</th>\n",
       "      <th>rub_per_gb</th>\n",
       "      <th>rub_per_message</th>\n",
       "      <th>rub_per_minute</th>\n",
       "      <th>tariff_name</th>\n",
       "      <th>duration_superlimit</th>\n",
       "    </tr>\n",
       "  </thead>\n",
       "  <tbody>\n",
       "    <tr>\n",
       "      <td>0</td>\n",
       "      <td>1000</td>\n",
       "      <td>5</td>\n",
       "      <td>159.0</td>\n",
       "      <td>22.0</td>\n",
       "      <td>2253.49</td>\n",
       "      <td>52</td>\n",
       "      <td>NaT</td>\n",
       "      <td>Краснодар</td>\n",
       "      <td>Рафаил</td>\n",
       "      <td>Верещагин</td>\n",
       "      <td>...</td>\n",
       "      <td>ultra</td>\n",
       "      <td>1000</td>\n",
       "      <td>30720</td>\n",
       "      <td>3000</td>\n",
       "      <td>1950</td>\n",
       "      <td>150</td>\n",
       "      <td>1</td>\n",
       "      <td>1</td>\n",
       "      <td>ultra</td>\n",
       "      <td>0.0</td>\n",
       "    </tr>\n",
       "    <tr>\n",
       "      <td>2014</td>\n",
       "      <td>1321</td>\n",
       "      <td>11</td>\n",
       "      <td>450.0</td>\n",
       "      <td>30.0</td>\n",
       "      <td>19204.52</td>\n",
       "      <td>29</td>\n",
       "      <td>NaT</td>\n",
       "      <td>Москва</td>\n",
       "      <td>Онисим</td>\n",
       "      <td>Софронов</td>\n",
       "      <td>...</td>\n",
       "      <td>smart</td>\n",
       "      <td>50</td>\n",
       "      <td>15360</td>\n",
       "      <td>500</td>\n",
       "      <td>550</td>\n",
       "      <td>200</td>\n",
       "      <td>3</td>\n",
       "      <td>3</td>\n",
       "      <td>smart</td>\n",
       "      <td>0.0</td>\n",
       "    </tr>\n",
       "    <tr>\n",
       "      <td>2015</td>\n",
       "      <td>1321</td>\n",
       "      <td>12</td>\n",
       "      <td>340.0</td>\n",
       "      <td>19.0</td>\n",
       "      <td>17537.95</td>\n",
       "      <td>29</td>\n",
       "      <td>NaT</td>\n",
       "      <td>Москва</td>\n",
       "      <td>Онисим</td>\n",
       "      <td>Софронов</td>\n",
       "      <td>...</td>\n",
       "      <td>smart</td>\n",
       "      <td>50</td>\n",
       "      <td>15360</td>\n",
       "      <td>500</td>\n",
       "      <td>550</td>\n",
       "      <td>200</td>\n",
       "      <td>3</td>\n",
       "      <td>3</td>\n",
       "      <td>smart</td>\n",
       "      <td>0.0</td>\n",
       "    </tr>\n",
       "    <tr>\n",
       "      <td>2016</td>\n",
       "      <td>1322</td>\n",
       "      <td>9</td>\n",
       "      <td>342.0</td>\n",
       "      <td>0.0</td>\n",
       "      <td>12673.62</td>\n",
       "      <td>45</td>\n",
       "      <td>NaT</td>\n",
       "      <td>Балашиха</td>\n",
       "      <td>Александр</td>\n",
       "      <td>Сальников</td>\n",
       "      <td>...</td>\n",
       "      <td>smart</td>\n",
       "      <td>50</td>\n",
       "      <td>15360</td>\n",
       "      <td>500</td>\n",
       "      <td>550</td>\n",
       "      <td>200</td>\n",
       "      <td>3</td>\n",
       "      <td>3</td>\n",
       "      <td>smart</td>\n",
       "      <td>0.0</td>\n",
       "    </tr>\n",
       "    <tr>\n",
       "      <td>2020</td>\n",
       "      <td>1323</td>\n",
       "      <td>8</td>\n",
       "      <td>481.0</td>\n",
       "      <td>59.0</td>\n",
       "      <td>16995.94</td>\n",
       "      <td>67</td>\n",
       "      <td>NaT</td>\n",
       "      <td>Челябинск</td>\n",
       "      <td>Эсмеральда</td>\n",
       "      <td>Носкова</td>\n",
       "      <td>...</td>\n",
       "      <td>smart</td>\n",
       "      <td>50</td>\n",
       "      <td>15360</td>\n",
       "      <td>500</td>\n",
       "      <td>550</td>\n",
       "      <td>200</td>\n",
       "      <td>3</td>\n",
       "      <td>3</td>\n",
       "      <td>smart</td>\n",
       "      <td>0.0</td>\n",
       "    </tr>\n",
       "    <tr>\n",
       "      <td>...</td>\n",
       "      <td>...</td>\n",
       "      <td>...</td>\n",
       "      <td>...</td>\n",
       "      <td>...</td>\n",
       "      <td>...</td>\n",
       "      <td>...</td>\n",
       "      <td>...</td>\n",
       "      <td>...</td>\n",
       "      <td>...</td>\n",
       "      <td>...</td>\n",
       "      <td>...</td>\n",
       "      <td>...</td>\n",
       "      <td>...</td>\n",
       "      <td>...</td>\n",
       "      <td>...</td>\n",
       "      <td>...</td>\n",
       "      <td>...</td>\n",
       "      <td>...</td>\n",
       "      <td>...</td>\n",
       "      <td>...</td>\n",
       "      <td>...</td>\n",
       "    </tr>\n",
       "    <tr>\n",
       "      <td>3106</td>\n",
       "      <td>1486</td>\n",
       "      <td>12</td>\n",
       "      <td>1007.0</td>\n",
       "      <td>83.0</td>\n",
       "      <td>38552.45</td>\n",
       "      <td>35</td>\n",
       "      <td>NaT</td>\n",
       "      <td>Нижний Новгород</td>\n",
       "      <td>Матвей</td>\n",
       "      <td>Моргунов</td>\n",
       "      <td>...</td>\n",
       "      <td>smart</td>\n",
       "      <td>50</td>\n",
       "      <td>15360</td>\n",
       "      <td>500</td>\n",
       "      <td>550</td>\n",
       "      <td>200</td>\n",
       "      <td>3</td>\n",
       "      <td>3</td>\n",
       "      <td>smart</td>\n",
       "      <td>1521.0</td>\n",
       "    </tr>\n",
       "    <tr>\n",
       "      <td>1452</td>\n",
       "      <td>1229</td>\n",
       "      <td>12</td>\n",
       "      <td>1022.0</td>\n",
       "      <td>6.0</td>\n",
       "      <td>24999.56</td>\n",
       "      <td>24</td>\n",
       "      <td>NaT</td>\n",
       "      <td>Москва</td>\n",
       "      <td>Нелли</td>\n",
       "      <td>Зубкова</td>\n",
       "      <td>...</td>\n",
       "      <td>smart</td>\n",
       "      <td>50</td>\n",
       "      <td>15360</td>\n",
       "      <td>500</td>\n",
       "      <td>550</td>\n",
       "      <td>200</td>\n",
       "      <td>3</td>\n",
       "      <td>3</td>\n",
       "      <td>smart</td>\n",
       "      <td>1566.0</td>\n",
       "    </tr>\n",
       "    <tr>\n",
       "      <td>1622</td>\n",
       "      <td>1261</td>\n",
       "      <td>12</td>\n",
       "      <td>1074.0</td>\n",
       "      <td>22.0</td>\n",
       "      <td>32650.91</td>\n",
       "      <td>46</td>\n",
       "      <td>NaT</td>\n",
       "      <td>Казань</td>\n",
       "      <td>Мадина</td>\n",
       "      <td>Пантелеева</td>\n",
       "      <td>...</td>\n",
       "      <td>smart</td>\n",
       "      <td>50</td>\n",
       "      <td>15360</td>\n",
       "      <td>500</td>\n",
       "      <td>550</td>\n",
       "      <td>200</td>\n",
       "      <td>3</td>\n",
       "      <td>3</td>\n",
       "      <td>smart</td>\n",
       "      <td>1722.0</td>\n",
       "    </tr>\n",
       "    <tr>\n",
       "      <td>2855</td>\n",
       "      <td>1451</td>\n",
       "      <td>12</td>\n",
       "      <td>1144.0</td>\n",
       "      <td>50.0</td>\n",
       "      <td>16951.64</td>\n",
       "      <td>58</td>\n",
       "      <td>NaT</td>\n",
       "      <td>Набережные Челны</td>\n",
       "      <td>Виктория</td>\n",
       "      <td>Завьялова</td>\n",
       "      <td>...</td>\n",
       "      <td>smart</td>\n",
       "      <td>50</td>\n",
       "      <td>15360</td>\n",
       "      <td>500</td>\n",
       "      <td>550</td>\n",
       "      <td>200</td>\n",
       "      <td>3</td>\n",
       "      <td>3</td>\n",
       "      <td>smart</td>\n",
       "      <td>1932.0</td>\n",
       "    </tr>\n",
       "    <tr>\n",
       "      <td>1359</td>\n",
       "      <td>1216</td>\n",
       "      <td>12</td>\n",
       "      <td>1435.0</td>\n",
       "      <td>64.0</td>\n",
       "      <td>20066.05</td>\n",
       "      <td>74</td>\n",
       "      <td>NaT</td>\n",
       "      <td>Волгоград</td>\n",
       "      <td>Рустам</td>\n",
       "      <td>Малинин</td>\n",
       "      <td>...</td>\n",
       "      <td>smart</td>\n",
       "      <td>50</td>\n",
       "      <td>15360</td>\n",
       "      <td>500</td>\n",
       "      <td>550</td>\n",
       "      <td>200</td>\n",
       "      <td>3</td>\n",
       "      <td>3</td>\n",
       "      <td>smart</td>\n",
       "      <td>2805.0</td>\n",
       "    </tr>\n",
       "  </tbody>\n",
       "</table>\n",
       "<p>3214 rows × 21 columns</p>\n",
       "</div>"
      ],
      "text/plain": [
       "      user_id  month  duration    id   mb_used  age churn_date  \\\n",
       "0        1000      5     159.0  22.0   2253.49   52        NaT   \n",
       "2014     1321     11     450.0  30.0  19204.52   29        NaT   \n",
       "2015     1321     12     340.0  19.0  17537.95   29        NaT   \n",
       "2016     1322      9     342.0   0.0  12673.62   45        NaT   \n",
       "2020     1323      8     481.0  59.0  16995.94   67        NaT   \n",
       "...       ...    ...       ...   ...       ...  ...        ...   \n",
       "3106     1486     12    1007.0  83.0  38552.45   35        NaT   \n",
       "1452     1229     12    1022.0   6.0  24999.56   24        NaT   \n",
       "1622     1261     12    1074.0  22.0  32650.91   46        NaT   \n",
       "2855     1451     12    1144.0  50.0  16951.64   58        NaT   \n",
       "1359     1216     12    1435.0  64.0  20066.05   74        NaT   \n",
       "\n",
       "                  city  first_name   last_name  ... tariff messages_included  \\\n",
       "0            Краснодар      Рафаил   Верещагин  ...  ultra              1000   \n",
       "2014            Москва      Онисим    Софронов  ...  smart                50   \n",
       "2015            Москва      Онисим    Софронов  ...  smart                50   \n",
       "2016          Балашиха   Александр   Сальников  ...  smart                50   \n",
       "2020         Челябинск  Эсмеральда     Носкова  ...  smart                50   \n",
       "...                ...         ...         ...  ...    ...               ...   \n",
       "3106   Нижний Новгород      Матвей    Моргунов  ...  smart                50   \n",
       "1452            Москва       Нелли     Зубкова  ...  smart                50   \n",
       "1622            Казань      Мадина  Пантелеева  ...  smart                50   \n",
       "2855  Набережные Челны    Виктория   Завьялова  ...  smart                50   \n",
       "1359         Волгоград      Рустам     Малинин  ...  smart                50   \n",
       "\n",
       "      mb_per_month_included  minutes_included  rub_monthly_fee  rub_per_gb  \\\n",
       "0                     30720              3000             1950         150   \n",
       "2014                  15360               500              550         200   \n",
       "2015                  15360               500              550         200   \n",
       "2016                  15360               500              550         200   \n",
       "2020                  15360               500              550         200   \n",
       "...                     ...               ...              ...         ...   \n",
       "3106                  15360               500              550         200   \n",
       "1452                  15360               500              550         200   \n",
       "1622                  15360               500              550         200   \n",
       "2855                  15360               500              550         200   \n",
       "1359                  15360               500              550         200   \n",
       "\n",
       "      rub_per_message  rub_per_minute  tariff_name duration_superlimit  \n",
       "0                   1               1        ultra                 0.0  \n",
       "2014                3               3        smart                 0.0  \n",
       "2015                3               3        smart                 0.0  \n",
       "2016                3               3        smart                 0.0  \n",
       "2020                3               3        smart                 0.0  \n",
       "...               ...             ...          ...                 ...  \n",
       "3106                3               3        smart              1521.0  \n",
       "1452                3               3        smart              1566.0  \n",
       "1622                3               3        smart              1722.0  \n",
       "2855                3               3        smart              1932.0  \n",
       "1359                3               3        smart              2805.0  \n",
       "\n",
       "[3214 rows x 21 columns]"
      ]
     },
     "execution_count": 20,
     "metadata": {},
     "output_type": "execute_result"
    }
   ],
   "source": [
    "# Посчитаем сумму, уплаченную абонентами за сверхлимитные звонки:\n",
    "\n",
    "# Вычтем бесплатный лимит из суммарного количества звонков:\n",
    "data['duration_superlimit'] = (data['duration'] - data['minutes_included']) \n",
    "\n",
    "# Уберем отрицательные значения:\n",
    "data.loc[data['duration_superlimit'] < 0, 'duration_superlimit'] = 0\n",
    "\n",
    "# Остаток умножаем на значение из тарифного плана:\n",
    "data['duration_superlimit'] = data['duration_superlimit'] * data['rub_per_minute']\n",
    "\n",
    "data.sort_values(by='duration_superlimit')"
   ]
  },
  {
   "cell_type": "code",
   "execution_count": 21,
   "id": "76bc687e",
   "metadata": {},
   "outputs": [
    {
     "data": {
      "text/plain": [
       "0.0      2650\n",
       "3.0        24\n",
       "48.0       20\n",
       "18.0       20\n",
       "30.0       19\n",
       "         ... \n",
       "195.0       1\n",
       "222.0       1\n",
       "186.0       1\n",
       "237.0       1\n",
       "213.0       1\n",
       "Name: id_superlimit, Length: 74, dtype: int64"
      ]
     },
     "execution_count": 21,
     "metadata": {},
     "output_type": "execute_result"
    }
   ],
   "source": [
    "# Посчитаем сумму, уплаченную абонентами за сверхлимитные смс:\n",
    "\n",
    "# Вычтем бесплатный лимит из суммарного количества смс:\n",
    "data['id_superlimit'] = (data['id'] - data['messages_included']) \n",
    "\n",
    "# Уберем отрицательные значения:\n",
    "data.loc[data['id_superlimit'] < 0, 'id_superlimit'] = 0\n",
    "\n",
    "# Остаток умножаем на значение из тарифного плана:\n",
    "data['id_superlimit'] = data['id_superlimit'] * data['rub_per_message']\n",
    "\n",
    "data['id_superlimit'].value_counts()\n"
   ]
  },
  {
   "cell_type": "code",
   "execution_count": 22,
   "id": "5f618c0a",
   "metadata": {},
   "outputs": [
    {
     "data": {
      "text/plain": [
       "0.0       1776\n",
       "400.0      183\n",
       "200.0      174\n",
       "600.0      163\n",
       "800.0      155\n",
       "1000.0     140\n",
       "1200.0     124\n",
       "1400.0     114\n",
       "1600.0      72\n",
       "1800.0      59\n",
       "2000.0      53\n",
       "2200.0      28\n",
       "2400.0      22\n",
       "300.0       21\n",
       "450.0       18\n",
       "2600.0      18\n",
       "150.0       12\n",
       "1050.0      10\n",
       "750.0       10\n",
       "1350.0       9\n",
       "3200.0       7\n",
       "2800.0       7\n",
       "900.0        7\n",
       "1950.0       6\n",
       "3000.0       5\n",
       "1500.0       4\n",
       "3400.0       3\n",
       "4000.0       3\n",
       "4200.0       2\n",
       "1650.0       2\n",
       "3800.0       1\n",
       "2250.0       1\n",
       "2850.0       1\n",
       "2100.0       1\n",
       "4600.0       1\n",
       "4400.0       1\n",
       "2700.0       1\n",
       "Name: gb_used_superlimit, dtype: int64"
      ]
     },
     "execution_count": 22,
     "metadata": {},
     "output_type": "execute_result"
    }
   ],
   "source": [
    "# Посчитаем сумму, уплаченную абонентами за сверхлимитный интернет-трафик:\n",
    "\n",
    "# Вычтем бесплатный лимит из суммарного количества интернет-трафика:\n",
    "data['mb_used_superlimit'] = (data['mb_used'] - data['mb_per_month_included']) \n",
    "\n",
    "# Уберем отрицательные значения:\n",
    "data.loc[data['mb_used_superlimit'] < 0, 'mb_used_superlimit'] = 0\n",
    "\n",
    "# Переводим мегабайты в гигабайты, тк дополнительный интернет-трафик учитывается в гигабайтах: \n",
    "data['gb_used_superlimit'] = data['mb_used_superlimit'] / 1024\n",
    "\n",
    "# Округляем мегабайты до гигабайт согласно тарифам: \n",
    "data['gb_used_superlimit'] = data['gb_used_superlimit'].apply(np.ceil)\n",
    "\n",
    "# Остаток умножаем на значение из тарифного плана:\n",
    "data['gb_used_superlimit'] = data['gb_used_superlimit'] * data['rub_per_gb']\n",
    "\n",
    "data['gb_used_superlimit'].value_counts()"
   ]
  },
  {
   "cell_type": "code",
   "execution_count": 23,
   "id": "f25f7ab3",
   "metadata": {},
   "outputs": [
    {
     "data": {
      "text/plain": [
       "2127     550.0\n",
       "2982     550.0\n",
       "2318     550.0\n",
       "829      550.0\n",
       "1721     550.0\n",
       "         ...  \n",
       "1793    5321.0\n",
       "1622    5672.0\n",
       "3105    5680.0\n",
       "260     5709.0\n",
       "3106    6770.0\n",
       "Name: monthly_fee, Length: 3214, dtype: float64"
      ]
     },
     "execution_count": 23,
     "metadata": {},
     "output_type": "execute_result"
    }
   ],
   "source": [
    "#Посчитаем ежемесячную выручку по каждому абоненту по всем услугам:\n",
    "data['monthly_fee'] = data['rub_monthly_fee'] + data['duration_superlimit'] + data['id_superlimit'] + data['gb_used_superlimit']\n",
    "data['monthly_fee'].sort_values()"
   ]
  },
  {
   "cell_type": "code",
   "execution_count": 24,
   "id": "3ad6e893",
   "metadata": {},
   "outputs": [
    {
     "data": {
      "text/html": [
       "<div>\n",
       "<style scoped>\n",
       "    .dataframe tbody tr th:only-of-type {\n",
       "        vertical-align: middle;\n",
       "    }\n",
       "\n",
       "    .dataframe tbody tr th {\n",
       "        vertical-align: top;\n",
       "    }\n",
       "\n",
       "    .dataframe thead th {\n",
       "        text-align: right;\n",
       "    }\n",
       "</style>\n",
       "<table border=\"1\" class=\"dataframe\">\n",
       "  <thead>\n",
       "    <tr style=\"text-align: right;\">\n",
       "      <th></th>\n",
       "      <th>user_id</th>\n",
       "      <th>month</th>\n",
       "      <th>duration</th>\n",
       "      <th>id</th>\n",
       "      <th>mb_used</th>\n",
       "      <th>age</th>\n",
       "      <th>churn_date</th>\n",
       "      <th>city</th>\n",
       "      <th>first_name</th>\n",
       "      <th>last_name</th>\n",
       "      <th>...</th>\n",
       "      <th>rub_monthly_fee</th>\n",
       "      <th>rub_per_gb</th>\n",
       "      <th>rub_per_message</th>\n",
       "      <th>rub_per_minute</th>\n",
       "      <th>tariff_name</th>\n",
       "      <th>duration_superlimit</th>\n",
       "      <th>id_superlimit</th>\n",
       "      <th>mb_used_superlimit</th>\n",
       "      <th>gb_used_superlimit</th>\n",
       "      <th>monthly_fee</th>\n",
       "    </tr>\n",
       "  </thead>\n",
       "  <tbody>\n",
       "    <tr>\n",
       "      <td>0</td>\n",
       "      <td>1000</td>\n",
       "      <td>5</td>\n",
       "      <td>159.0</td>\n",
       "      <td>22.0</td>\n",
       "      <td>2253.49</td>\n",
       "      <td>52</td>\n",
       "      <td>NaT</td>\n",
       "      <td>Краснодар</td>\n",
       "      <td>Рафаил</td>\n",
       "      <td>Верещагин</td>\n",
       "      <td>...</td>\n",
       "      <td>1950</td>\n",
       "      <td>150</td>\n",
       "      <td>1</td>\n",
       "      <td>1</td>\n",
       "      <td>ultra</td>\n",
       "      <td>0.0</td>\n",
       "      <td>0.0</td>\n",
       "      <td>0.00</td>\n",
       "      <td>0.0</td>\n",
       "      <td>1950.0</td>\n",
       "    </tr>\n",
       "    <tr>\n",
       "      <td>1</td>\n",
       "      <td>1000</td>\n",
       "      <td>6</td>\n",
       "      <td>172.0</td>\n",
       "      <td>60.0</td>\n",
       "      <td>23233.77</td>\n",
       "      <td>52</td>\n",
       "      <td>NaT</td>\n",
       "      <td>Краснодар</td>\n",
       "      <td>Рафаил</td>\n",
       "      <td>Верещагин</td>\n",
       "      <td>...</td>\n",
       "      <td>1950</td>\n",
       "      <td>150</td>\n",
       "      <td>1</td>\n",
       "      <td>1</td>\n",
       "      <td>ultra</td>\n",
       "      <td>0.0</td>\n",
       "      <td>0.0</td>\n",
       "      <td>0.00</td>\n",
       "      <td>0.0</td>\n",
       "      <td>1950.0</td>\n",
       "    </tr>\n",
       "    <tr>\n",
       "      <td>2</td>\n",
       "      <td>1000</td>\n",
       "      <td>7</td>\n",
       "      <td>340.0</td>\n",
       "      <td>75.0</td>\n",
       "      <td>14003.64</td>\n",
       "      <td>52</td>\n",
       "      <td>NaT</td>\n",
       "      <td>Краснодар</td>\n",
       "      <td>Рафаил</td>\n",
       "      <td>Верещагин</td>\n",
       "      <td>...</td>\n",
       "      <td>1950</td>\n",
       "      <td>150</td>\n",
       "      <td>1</td>\n",
       "      <td>1</td>\n",
       "      <td>ultra</td>\n",
       "      <td>0.0</td>\n",
       "      <td>0.0</td>\n",
       "      <td>0.00</td>\n",
       "      <td>0.0</td>\n",
       "      <td>1950.0</td>\n",
       "    </tr>\n",
       "    <tr>\n",
       "      <td>3</td>\n",
       "      <td>1000</td>\n",
       "      <td>8</td>\n",
       "      <td>408.0</td>\n",
       "      <td>81.0</td>\n",
       "      <td>14055.93</td>\n",
       "      <td>52</td>\n",
       "      <td>NaT</td>\n",
       "      <td>Краснодар</td>\n",
       "      <td>Рафаил</td>\n",
       "      <td>Верещагин</td>\n",
       "      <td>...</td>\n",
       "      <td>1950</td>\n",
       "      <td>150</td>\n",
       "      <td>1</td>\n",
       "      <td>1</td>\n",
       "      <td>ultra</td>\n",
       "      <td>0.0</td>\n",
       "      <td>0.0</td>\n",
       "      <td>0.00</td>\n",
       "      <td>0.0</td>\n",
       "      <td>1950.0</td>\n",
       "    </tr>\n",
       "    <tr>\n",
       "      <td>4</td>\n",
       "      <td>1000</td>\n",
       "      <td>9</td>\n",
       "      <td>466.0</td>\n",
       "      <td>57.0</td>\n",
       "      <td>14568.91</td>\n",
       "      <td>52</td>\n",
       "      <td>NaT</td>\n",
       "      <td>Краснодар</td>\n",
       "      <td>Рафаил</td>\n",
       "      <td>Верещагин</td>\n",
       "      <td>...</td>\n",
       "      <td>1950</td>\n",
       "      <td>150</td>\n",
       "      <td>1</td>\n",
       "      <td>1</td>\n",
       "      <td>ultra</td>\n",
       "      <td>0.0</td>\n",
       "      <td>0.0</td>\n",
       "      <td>0.00</td>\n",
       "      <td>0.0</td>\n",
       "      <td>1950.0</td>\n",
       "    </tr>\n",
       "    <tr>\n",
       "      <td>...</td>\n",
       "      <td>...</td>\n",
       "      <td>...</td>\n",
       "      <td>...</td>\n",
       "      <td>...</td>\n",
       "      <td>...</td>\n",
       "      <td>...</td>\n",
       "      <td>...</td>\n",
       "      <td>...</td>\n",
       "      <td>...</td>\n",
       "      <td>...</td>\n",
       "      <td>...</td>\n",
       "      <td>...</td>\n",
       "      <td>...</td>\n",
       "      <td>...</td>\n",
       "      <td>...</td>\n",
       "      <td>...</td>\n",
       "      <td>...</td>\n",
       "      <td>...</td>\n",
       "      <td>...</td>\n",
       "      <td>...</td>\n",
       "      <td>...</td>\n",
       "    </tr>\n",
       "    <tr>\n",
       "      <td>3209</td>\n",
       "      <td>1489</td>\n",
       "      <td>9</td>\n",
       "      <td>0.0</td>\n",
       "      <td>32.0</td>\n",
       "      <td>17206.30</td>\n",
       "      <td>35</td>\n",
       "      <td>NaT</td>\n",
       "      <td>Санкт-Петербург</td>\n",
       "      <td>Павел</td>\n",
       "      <td>Гончаров</td>\n",
       "      <td>...</td>\n",
       "      <td>550</td>\n",
       "      <td>200</td>\n",
       "      <td>3</td>\n",
       "      <td>3</td>\n",
       "      <td>smart</td>\n",
       "      <td>0.0</td>\n",
       "      <td>0.0</td>\n",
       "      <td>1846.30</td>\n",
       "      <td>400.0</td>\n",
       "      <td>950.0</td>\n",
       "    </tr>\n",
       "    <tr>\n",
       "      <td>3210</td>\n",
       "      <td>1489</td>\n",
       "      <td>10</td>\n",
       "      <td>0.0</td>\n",
       "      <td>21.0</td>\n",
       "      <td>19559.44</td>\n",
       "      <td>35</td>\n",
       "      <td>NaT</td>\n",
       "      <td>Санкт-Петербург</td>\n",
       "      <td>Павел</td>\n",
       "      <td>Гончаров</td>\n",
       "      <td>...</td>\n",
       "      <td>550</td>\n",
       "      <td>200</td>\n",
       "      <td>3</td>\n",
       "      <td>3</td>\n",
       "      <td>smart</td>\n",
       "      <td>0.0</td>\n",
       "      <td>0.0</td>\n",
       "      <td>4199.44</td>\n",
       "      <td>1000.0</td>\n",
       "      <td>1550.0</td>\n",
       "    </tr>\n",
       "    <tr>\n",
       "      <td>3211</td>\n",
       "      <td>1489</td>\n",
       "      <td>11</td>\n",
       "      <td>0.0</td>\n",
       "      <td>20.0</td>\n",
       "      <td>17491.56</td>\n",
       "      <td>35</td>\n",
       "      <td>NaT</td>\n",
       "      <td>Санкт-Петербург</td>\n",
       "      <td>Павел</td>\n",
       "      <td>Гончаров</td>\n",
       "      <td>...</td>\n",
       "      <td>550</td>\n",
       "      <td>200</td>\n",
       "      <td>3</td>\n",
       "      <td>3</td>\n",
       "      <td>smart</td>\n",
       "      <td>0.0</td>\n",
       "      <td>0.0</td>\n",
       "      <td>2131.56</td>\n",
       "      <td>600.0</td>\n",
       "      <td>1150.0</td>\n",
       "    </tr>\n",
       "    <tr>\n",
       "      <td>3212</td>\n",
       "      <td>1489</td>\n",
       "      <td>12</td>\n",
       "      <td>0.0</td>\n",
       "      <td>35.0</td>\n",
       "      <td>17322.51</td>\n",
       "      <td>35</td>\n",
       "      <td>NaT</td>\n",
       "      <td>Санкт-Петербург</td>\n",
       "      <td>Павел</td>\n",
       "      <td>Гончаров</td>\n",
       "      <td>...</td>\n",
       "      <td>550</td>\n",
       "      <td>200</td>\n",
       "      <td>3</td>\n",
       "      <td>3</td>\n",
       "      <td>smart</td>\n",
       "      <td>0.0</td>\n",
       "      <td>0.0</td>\n",
       "      <td>1962.51</td>\n",
       "      <td>400.0</td>\n",
       "      <td>950.0</td>\n",
       "    </tr>\n",
       "    <tr>\n",
       "      <td>3213</td>\n",
       "      <td>1476</td>\n",
       "      <td>4</td>\n",
       "      <td>0.0</td>\n",
       "      <td>0.0</td>\n",
       "      <td>530.78</td>\n",
       "      <td>50</td>\n",
       "      <td>NaT</td>\n",
       "      <td>Москва</td>\n",
       "      <td>Валентина</td>\n",
       "      <td>Семенова</td>\n",
       "      <td>...</td>\n",
       "      <td>1950</td>\n",
       "      <td>150</td>\n",
       "      <td>1</td>\n",
       "      <td>1</td>\n",
       "      <td>ultra</td>\n",
       "      <td>0.0</td>\n",
       "      <td>0.0</td>\n",
       "      <td>0.00</td>\n",
       "      <td>0.0</td>\n",
       "      <td>1950.0</td>\n",
       "    </tr>\n",
       "  </tbody>\n",
       "</table>\n",
       "<p>3214 rows × 25 columns</p>\n",
       "</div>"
      ],
      "text/plain": [
       "      user_id  month  duration    id   mb_used  age churn_date  \\\n",
       "0        1000      5     159.0  22.0   2253.49   52        NaT   \n",
       "1        1000      6     172.0  60.0  23233.77   52        NaT   \n",
       "2        1000      7     340.0  75.0  14003.64   52        NaT   \n",
       "3        1000      8     408.0  81.0  14055.93   52        NaT   \n",
       "4        1000      9     466.0  57.0  14568.91   52        NaT   \n",
       "...       ...    ...       ...   ...       ...  ...        ...   \n",
       "3209     1489      9       0.0  32.0  17206.30   35        NaT   \n",
       "3210     1489     10       0.0  21.0  19559.44   35        NaT   \n",
       "3211     1489     11       0.0  20.0  17491.56   35        NaT   \n",
       "3212     1489     12       0.0  35.0  17322.51   35        NaT   \n",
       "3213     1476      4       0.0   0.0    530.78   50        NaT   \n",
       "\n",
       "                 city first_name  last_name  ... rub_monthly_fee rub_per_gb  \\\n",
       "0           Краснодар     Рафаил  Верещагин  ...            1950        150   \n",
       "1           Краснодар     Рафаил  Верещагин  ...            1950        150   \n",
       "2           Краснодар     Рафаил  Верещагин  ...            1950        150   \n",
       "3           Краснодар     Рафаил  Верещагин  ...            1950        150   \n",
       "4           Краснодар     Рафаил  Верещагин  ...            1950        150   \n",
       "...               ...        ...        ...  ...             ...        ...   \n",
       "3209  Санкт-Петербург      Павел   Гончаров  ...             550        200   \n",
       "3210  Санкт-Петербург      Павел   Гончаров  ...             550        200   \n",
       "3211  Санкт-Петербург      Павел   Гончаров  ...             550        200   \n",
       "3212  Санкт-Петербург      Павел   Гончаров  ...             550        200   \n",
       "3213           Москва  Валентина   Семенова  ...            1950        150   \n",
       "\n",
       "      rub_per_message  rub_per_minute  tariff_name  duration_superlimit  \\\n",
       "0                   1               1        ultra                  0.0   \n",
       "1                   1               1        ultra                  0.0   \n",
       "2                   1               1        ultra                  0.0   \n",
       "3                   1               1        ultra                  0.0   \n",
       "4                   1               1        ultra                  0.0   \n",
       "...               ...             ...          ...                  ...   \n",
       "3209                3               3        smart                  0.0   \n",
       "3210                3               3        smart                  0.0   \n",
       "3211                3               3        smart                  0.0   \n",
       "3212                3               3        smart                  0.0   \n",
       "3213                1               1        ultra                  0.0   \n",
       "\n",
       "      id_superlimit  mb_used_superlimit  gb_used_superlimit monthly_fee  \n",
       "0               0.0                0.00                 0.0      1950.0  \n",
       "1               0.0                0.00                 0.0      1950.0  \n",
       "2               0.0                0.00                 0.0      1950.0  \n",
       "3               0.0                0.00                 0.0      1950.0  \n",
       "4               0.0                0.00                 0.0      1950.0  \n",
       "...             ...                 ...                 ...         ...  \n",
       "3209            0.0             1846.30               400.0       950.0  \n",
       "3210            0.0             4199.44              1000.0      1550.0  \n",
       "3211            0.0             2131.56               600.0      1150.0  \n",
       "3212            0.0             1962.51               400.0       950.0  \n",
       "3213            0.0                0.00                 0.0      1950.0  \n",
       "\n",
       "[3214 rows x 25 columns]"
      ]
     },
     "execution_count": 24,
     "metadata": {},
     "output_type": "execute_result"
    }
   ],
   "source": [
    "data"
   ]
  },
  {
   "cell_type": "markdown",
   "id": "4b309028",
   "metadata": {},
   "source": [
    "### Вывод"
   ]
  },
  {
   "cell_type": "markdown",
   "id": "7ed9d6a2",
   "metadata": {},
   "source": [
    "Необходимые расчеты мы произвели, теперь перейдем к анализу полученых данных."
   ]
  },
  {
   "cell_type": "code",
   "execution_count": 25,
   "id": "1ba50b3b",
   "metadata": {},
   "outputs": [
    {
     "data": {
      "text/html": [
       "<div>\n",
       "<style scoped>\n",
       "    .dataframe tbody tr th:only-of-type {\n",
       "        vertical-align: middle;\n",
       "    }\n",
       "\n",
       "    .dataframe tbody tr th {\n",
       "        vertical-align: top;\n",
       "    }\n",
       "\n",
       "    .dataframe thead th {\n",
       "        text-align: right;\n",
       "    }\n",
       "</style>\n",
       "<table border=\"1\" class=\"dataframe\">\n",
       "  <thead>\n",
       "    <tr style=\"text-align: right;\">\n",
       "      <th></th>\n",
       "      <th>user_id</th>\n",
       "      <th>month</th>\n",
       "      <th>duration</th>\n",
       "      <th>id</th>\n",
       "      <th>mb_used</th>\n",
       "      <th>churn_date</th>\n",
       "      <th>city</th>\n",
       "      <th>reg_date</th>\n",
       "      <th>tariff</th>\n",
       "      <th>messages_included</th>\n",
       "      <th>...</th>\n",
       "      <th>rub_monthly_fee</th>\n",
       "      <th>rub_per_gb</th>\n",
       "      <th>rub_per_message</th>\n",
       "      <th>rub_per_minute</th>\n",
       "      <th>tariff_name</th>\n",
       "      <th>duration_superlimit</th>\n",
       "      <th>id_superlimit</th>\n",
       "      <th>mb_used_superlimit</th>\n",
       "      <th>gb_used_superlimit</th>\n",
       "      <th>monthly_fee</th>\n",
       "    </tr>\n",
       "  </thead>\n",
       "  <tbody>\n",
       "    <tr>\n",
       "      <td>0</td>\n",
       "      <td>1000</td>\n",
       "      <td>5</td>\n",
       "      <td>159.0</td>\n",
       "      <td>22.0</td>\n",
       "      <td>2253.49</td>\n",
       "      <td>NaT</td>\n",
       "      <td>Краснодар</td>\n",
       "      <td>2018-05-25</td>\n",
       "      <td>ultra</td>\n",
       "      <td>1000</td>\n",
       "      <td>...</td>\n",
       "      <td>1950</td>\n",
       "      <td>150</td>\n",
       "      <td>1</td>\n",
       "      <td>1</td>\n",
       "      <td>ultra</td>\n",
       "      <td>0.0</td>\n",
       "      <td>0.0</td>\n",
       "      <td>0.00</td>\n",
       "      <td>0.0</td>\n",
       "      <td>1950.0</td>\n",
       "    </tr>\n",
       "    <tr>\n",
       "      <td>1</td>\n",
       "      <td>1000</td>\n",
       "      <td>6</td>\n",
       "      <td>172.0</td>\n",
       "      <td>60.0</td>\n",
       "      <td>23233.77</td>\n",
       "      <td>NaT</td>\n",
       "      <td>Краснодар</td>\n",
       "      <td>2018-05-25</td>\n",
       "      <td>ultra</td>\n",
       "      <td>1000</td>\n",
       "      <td>...</td>\n",
       "      <td>1950</td>\n",
       "      <td>150</td>\n",
       "      <td>1</td>\n",
       "      <td>1</td>\n",
       "      <td>ultra</td>\n",
       "      <td>0.0</td>\n",
       "      <td>0.0</td>\n",
       "      <td>0.00</td>\n",
       "      <td>0.0</td>\n",
       "      <td>1950.0</td>\n",
       "    </tr>\n",
       "    <tr>\n",
       "      <td>2</td>\n",
       "      <td>1000</td>\n",
       "      <td>7</td>\n",
       "      <td>340.0</td>\n",
       "      <td>75.0</td>\n",
       "      <td>14003.64</td>\n",
       "      <td>NaT</td>\n",
       "      <td>Краснодар</td>\n",
       "      <td>2018-05-25</td>\n",
       "      <td>ultra</td>\n",
       "      <td>1000</td>\n",
       "      <td>...</td>\n",
       "      <td>1950</td>\n",
       "      <td>150</td>\n",
       "      <td>1</td>\n",
       "      <td>1</td>\n",
       "      <td>ultra</td>\n",
       "      <td>0.0</td>\n",
       "      <td>0.0</td>\n",
       "      <td>0.00</td>\n",
       "      <td>0.0</td>\n",
       "      <td>1950.0</td>\n",
       "    </tr>\n",
       "    <tr>\n",
       "      <td>3</td>\n",
       "      <td>1000</td>\n",
       "      <td>8</td>\n",
       "      <td>408.0</td>\n",
       "      <td>81.0</td>\n",
       "      <td>14055.93</td>\n",
       "      <td>NaT</td>\n",
       "      <td>Краснодар</td>\n",
       "      <td>2018-05-25</td>\n",
       "      <td>ultra</td>\n",
       "      <td>1000</td>\n",
       "      <td>...</td>\n",
       "      <td>1950</td>\n",
       "      <td>150</td>\n",
       "      <td>1</td>\n",
       "      <td>1</td>\n",
       "      <td>ultra</td>\n",
       "      <td>0.0</td>\n",
       "      <td>0.0</td>\n",
       "      <td>0.00</td>\n",
       "      <td>0.0</td>\n",
       "      <td>1950.0</td>\n",
       "    </tr>\n",
       "    <tr>\n",
       "      <td>4</td>\n",
       "      <td>1000</td>\n",
       "      <td>9</td>\n",
       "      <td>466.0</td>\n",
       "      <td>57.0</td>\n",
       "      <td>14568.91</td>\n",
       "      <td>NaT</td>\n",
       "      <td>Краснодар</td>\n",
       "      <td>2018-05-25</td>\n",
       "      <td>ultra</td>\n",
       "      <td>1000</td>\n",
       "      <td>...</td>\n",
       "      <td>1950</td>\n",
       "      <td>150</td>\n",
       "      <td>1</td>\n",
       "      <td>1</td>\n",
       "      <td>ultra</td>\n",
       "      <td>0.0</td>\n",
       "      <td>0.0</td>\n",
       "      <td>0.00</td>\n",
       "      <td>0.0</td>\n",
       "      <td>1950.0</td>\n",
       "    </tr>\n",
       "    <tr>\n",
       "      <td>...</td>\n",
       "      <td>...</td>\n",
       "      <td>...</td>\n",
       "      <td>...</td>\n",
       "      <td>...</td>\n",
       "      <td>...</td>\n",
       "      <td>...</td>\n",
       "      <td>...</td>\n",
       "      <td>...</td>\n",
       "      <td>...</td>\n",
       "      <td>...</td>\n",
       "      <td>...</td>\n",
       "      <td>...</td>\n",
       "      <td>...</td>\n",
       "      <td>...</td>\n",
       "      <td>...</td>\n",
       "      <td>...</td>\n",
       "      <td>...</td>\n",
       "      <td>...</td>\n",
       "      <td>...</td>\n",
       "      <td>...</td>\n",
       "      <td>...</td>\n",
       "    </tr>\n",
       "    <tr>\n",
       "      <td>3209</td>\n",
       "      <td>1489</td>\n",
       "      <td>9</td>\n",
       "      <td>0.0</td>\n",
       "      <td>32.0</td>\n",
       "      <td>17206.30</td>\n",
       "      <td>NaT</td>\n",
       "      <td>Санкт-Петербург</td>\n",
       "      <td>2018-08-15</td>\n",
       "      <td>smart</td>\n",
       "      <td>50</td>\n",
       "      <td>...</td>\n",
       "      <td>550</td>\n",
       "      <td>200</td>\n",
       "      <td>3</td>\n",
       "      <td>3</td>\n",
       "      <td>smart</td>\n",
       "      <td>0.0</td>\n",
       "      <td>0.0</td>\n",
       "      <td>1846.30</td>\n",
       "      <td>400.0</td>\n",
       "      <td>950.0</td>\n",
       "    </tr>\n",
       "    <tr>\n",
       "      <td>3210</td>\n",
       "      <td>1489</td>\n",
       "      <td>10</td>\n",
       "      <td>0.0</td>\n",
       "      <td>21.0</td>\n",
       "      <td>19559.44</td>\n",
       "      <td>NaT</td>\n",
       "      <td>Санкт-Петербург</td>\n",
       "      <td>2018-08-15</td>\n",
       "      <td>smart</td>\n",
       "      <td>50</td>\n",
       "      <td>...</td>\n",
       "      <td>550</td>\n",
       "      <td>200</td>\n",
       "      <td>3</td>\n",
       "      <td>3</td>\n",
       "      <td>smart</td>\n",
       "      <td>0.0</td>\n",
       "      <td>0.0</td>\n",
       "      <td>4199.44</td>\n",
       "      <td>1000.0</td>\n",
       "      <td>1550.0</td>\n",
       "    </tr>\n",
       "    <tr>\n",
       "      <td>3211</td>\n",
       "      <td>1489</td>\n",
       "      <td>11</td>\n",
       "      <td>0.0</td>\n",
       "      <td>20.0</td>\n",
       "      <td>17491.56</td>\n",
       "      <td>NaT</td>\n",
       "      <td>Санкт-Петербург</td>\n",
       "      <td>2018-08-15</td>\n",
       "      <td>smart</td>\n",
       "      <td>50</td>\n",
       "      <td>...</td>\n",
       "      <td>550</td>\n",
       "      <td>200</td>\n",
       "      <td>3</td>\n",
       "      <td>3</td>\n",
       "      <td>smart</td>\n",
       "      <td>0.0</td>\n",
       "      <td>0.0</td>\n",
       "      <td>2131.56</td>\n",
       "      <td>600.0</td>\n",
       "      <td>1150.0</td>\n",
       "    </tr>\n",
       "    <tr>\n",
       "      <td>3212</td>\n",
       "      <td>1489</td>\n",
       "      <td>12</td>\n",
       "      <td>0.0</td>\n",
       "      <td>35.0</td>\n",
       "      <td>17322.51</td>\n",
       "      <td>NaT</td>\n",
       "      <td>Санкт-Петербург</td>\n",
       "      <td>2018-08-15</td>\n",
       "      <td>smart</td>\n",
       "      <td>50</td>\n",
       "      <td>...</td>\n",
       "      <td>550</td>\n",
       "      <td>200</td>\n",
       "      <td>3</td>\n",
       "      <td>3</td>\n",
       "      <td>smart</td>\n",
       "      <td>0.0</td>\n",
       "      <td>0.0</td>\n",
       "      <td>1962.51</td>\n",
       "      <td>400.0</td>\n",
       "      <td>950.0</td>\n",
       "    </tr>\n",
       "    <tr>\n",
       "      <td>3213</td>\n",
       "      <td>1476</td>\n",
       "      <td>4</td>\n",
       "      <td>0.0</td>\n",
       "      <td>0.0</td>\n",
       "      <td>530.78</td>\n",
       "      <td>NaT</td>\n",
       "      <td>Москва</td>\n",
       "      <td>2018-04-30</td>\n",
       "      <td>ultra</td>\n",
       "      <td>1000</td>\n",
       "      <td>...</td>\n",
       "      <td>1950</td>\n",
       "      <td>150</td>\n",
       "      <td>1</td>\n",
       "      <td>1</td>\n",
       "      <td>ultra</td>\n",
       "      <td>0.0</td>\n",
       "      <td>0.0</td>\n",
       "      <td>0.00</td>\n",
       "      <td>0.0</td>\n",
       "      <td>1950.0</td>\n",
       "    </tr>\n",
       "  </tbody>\n",
       "</table>\n",
       "<p>3214 rows × 22 columns</p>\n",
       "</div>"
      ],
      "text/plain": [
       "      user_id  month  duration    id   mb_used churn_date             city  \\\n",
       "0        1000      5     159.0  22.0   2253.49        NaT        Краснодар   \n",
       "1        1000      6     172.0  60.0  23233.77        NaT        Краснодар   \n",
       "2        1000      7     340.0  75.0  14003.64        NaT        Краснодар   \n",
       "3        1000      8     408.0  81.0  14055.93        NaT        Краснодар   \n",
       "4        1000      9     466.0  57.0  14568.91        NaT        Краснодар   \n",
       "...       ...    ...       ...   ...       ...        ...              ...   \n",
       "3209     1489      9       0.0  32.0  17206.30        NaT  Санкт-Петербург   \n",
       "3210     1489     10       0.0  21.0  19559.44        NaT  Санкт-Петербург   \n",
       "3211     1489     11       0.0  20.0  17491.56        NaT  Санкт-Петербург   \n",
       "3212     1489     12       0.0  35.0  17322.51        NaT  Санкт-Петербург   \n",
       "3213     1476      4       0.0   0.0    530.78        NaT           Москва   \n",
       "\n",
       "       reg_date tariff  messages_included  ...  rub_monthly_fee  rub_per_gb  \\\n",
       "0    2018-05-25  ultra               1000  ...             1950         150   \n",
       "1    2018-05-25  ultra               1000  ...             1950         150   \n",
       "2    2018-05-25  ultra               1000  ...             1950         150   \n",
       "3    2018-05-25  ultra               1000  ...             1950         150   \n",
       "4    2018-05-25  ultra               1000  ...             1950         150   \n",
       "...         ...    ...                ...  ...              ...         ...   \n",
       "3209 2018-08-15  smart                 50  ...              550         200   \n",
       "3210 2018-08-15  smart                 50  ...              550         200   \n",
       "3211 2018-08-15  smart                 50  ...              550         200   \n",
       "3212 2018-08-15  smart                 50  ...              550         200   \n",
       "3213 2018-04-30  ultra               1000  ...             1950         150   \n",
       "\n",
       "      rub_per_message  rub_per_minute  tariff_name  duration_superlimit  \\\n",
       "0                   1               1        ultra                  0.0   \n",
       "1                   1               1        ultra                  0.0   \n",
       "2                   1               1        ultra                  0.0   \n",
       "3                   1               1        ultra                  0.0   \n",
       "4                   1               1        ultra                  0.0   \n",
       "...               ...             ...          ...                  ...   \n",
       "3209                3               3        smart                  0.0   \n",
       "3210                3               3        smart                  0.0   \n",
       "3211                3               3        smart                  0.0   \n",
       "3212                3               3        smart                  0.0   \n",
       "3213                1               1        ultra                  0.0   \n",
       "\n",
       "     id_superlimit  mb_used_superlimit  gb_used_superlimit  monthly_fee  \n",
       "0              0.0                0.00                 0.0       1950.0  \n",
       "1              0.0                0.00                 0.0       1950.0  \n",
       "2              0.0                0.00                 0.0       1950.0  \n",
       "3              0.0                0.00                 0.0       1950.0  \n",
       "4              0.0                0.00                 0.0       1950.0  \n",
       "...            ...                 ...                 ...          ...  \n",
       "3209           0.0             1846.30               400.0        950.0  \n",
       "3210           0.0             4199.44              1000.0       1550.0  \n",
       "3211           0.0             2131.56               600.0       1150.0  \n",
       "3212           0.0             1962.51               400.0        950.0  \n",
       "3213           0.0                0.00                 0.0       1950.0  \n",
       "\n",
       "[3214 rows x 22 columns]"
      ]
     },
     "execution_count": 25,
     "metadata": {},
     "output_type": "execute_result"
    }
   ],
   "source": [
    "# Из полученной таблицы удалим столбцы с ненужной, для дальнейшего анализа, информацией (возраст, имя и фамилия пользователей):\n",
    "data = data.drop(['first_name', 'last_name', 'age'], axis=1)\n",
    "data"
   ]
  },
  {
   "cell_type": "code",
   "execution_count": 26,
   "id": "1ce092fd",
   "metadata": {},
   "outputs": [
    {
     "data": {
      "text/html": [
       "<div>\n",
       "<style scoped>\n",
       "    .dataframe tbody tr th:only-of-type {\n",
       "        vertical-align: middle;\n",
       "    }\n",
       "\n",
       "    .dataframe tbody tr th {\n",
       "        vertical-align: top;\n",
       "    }\n",
       "\n",
       "    .dataframe thead th {\n",
       "        text-align: right;\n",
       "    }\n",
       "</style>\n",
       "<table border=\"1\" class=\"dataframe\">\n",
       "  <thead>\n",
       "    <tr style=\"text-align: right;\">\n",
       "      <th></th>\n",
       "      <th>user_id</th>\n",
       "      <th>month</th>\n",
       "      <th>duration</th>\n",
       "      <th>id</th>\n",
       "      <th>mb_used</th>\n",
       "      <th>churn_date</th>\n",
       "      <th>city</th>\n",
       "      <th>reg_date</th>\n",
       "      <th>tariff</th>\n",
       "      <th>duration_superlimit</th>\n",
       "      <th>id_superlimit</th>\n",
       "      <th>mb_used_superlimit</th>\n",
       "      <th>gb_used_superlimit</th>\n",
       "      <th>monthly_fee</th>\n",
       "    </tr>\n",
       "  </thead>\n",
       "  <tbody>\n",
       "    <tr>\n",
       "      <td>0</td>\n",
       "      <td>1000</td>\n",
       "      <td>5</td>\n",
       "      <td>159.0</td>\n",
       "      <td>22.0</td>\n",
       "      <td>2253.49</td>\n",
       "      <td>NaT</td>\n",
       "      <td>Краснодар</td>\n",
       "      <td>2018-05-25</td>\n",
       "      <td>ultra</td>\n",
       "      <td>0.0</td>\n",
       "      <td>0.0</td>\n",
       "      <td>0.00</td>\n",
       "      <td>0.0</td>\n",
       "      <td>1950.0</td>\n",
       "    </tr>\n",
       "    <tr>\n",
       "      <td>1</td>\n",
       "      <td>1000</td>\n",
       "      <td>6</td>\n",
       "      <td>172.0</td>\n",
       "      <td>60.0</td>\n",
       "      <td>23233.77</td>\n",
       "      <td>NaT</td>\n",
       "      <td>Краснодар</td>\n",
       "      <td>2018-05-25</td>\n",
       "      <td>ultra</td>\n",
       "      <td>0.0</td>\n",
       "      <td>0.0</td>\n",
       "      <td>0.00</td>\n",
       "      <td>0.0</td>\n",
       "      <td>1950.0</td>\n",
       "    </tr>\n",
       "    <tr>\n",
       "      <td>2</td>\n",
       "      <td>1000</td>\n",
       "      <td>7</td>\n",
       "      <td>340.0</td>\n",
       "      <td>75.0</td>\n",
       "      <td>14003.64</td>\n",
       "      <td>NaT</td>\n",
       "      <td>Краснодар</td>\n",
       "      <td>2018-05-25</td>\n",
       "      <td>ultra</td>\n",
       "      <td>0.0</td>\n",
       "      <td>0.0</td>\n",
       "      <td>0.00</td>\n",
       "      <td>0.0</td>\n",
       "      <td>1950.0</td>\n",
       "    </tr>\n",
       "    <tr>\n",
       "      <td>3</td>\n",
       "      <td>1000</td>\n",
       "      <td>8</td>\n",
       "      <td>408.0</td>\n",
       "      <td>81.0</td>\n",
       "      <td>14055.93</td>\n",
       "      <td>NaT</td>\n",
       "      <td>Краснодар</td>\n",
       "      <td>2018-05-25</td>\n",
       "      <td>ultra</td>\n",
       "      <td>0.0</td>\n",
       "      <td>0.0</td>\n",
       "      <td>0.00</td>\n",
       "      <td>0.0</td>\n",
       "      <td>1950.0</td>\n",
       "    </tr>\n",
       "    <tr>\n",
       "      <td>4</td>\n",
       "      <td>1000</td>\n",
       "      <td>9</td>\n",
       "      <td>466.0</td>\n",
       "      <td>57.0</td>\n",
       "      <td>14568.91</td>\n",
       "      <td>NaT</td>\n",
       "      <td>Краснодар</td>\n",
       "      <td>2018-05-25</td>\n",
       "      <td>ultra</td>\n",
       "      <td>0.0</td>\n",
       "      <td>0.0</td>\n",
       "      <td>0.00</td>\n",
       "      <td>0.0</td>\n",
       "      <td>1950.0</td>\n",
       "    </tr>\n",
       "    <tr>\n",
       "      <td>...</td>\n",
       "      <td>...</td>\n",
       "      <td>...</td>\n",
       "      <td>...</td>\n",
       "      <td>...</td>\n",
       "      <td>...</td>\n",
       "      <td>...</td>\n",
       "      <td>...</td>\n",
       "      <td>...</td>\n",
       "      <td>...</td>\n",
       "      <td>...</td>\n",
       "      <td>...</td>\n",
       "      <td>...</td>\n",
       "      <td>...</td>\n",
       "      <td>...</td>\n",
       "    </tr>\n",
       "    <tr>\n",
       "      <td>3209</td>\n",
       "      <td>1489</td>\n",
       "      <td>9</td>\n",
       "      <td>0.0</td>\n",
       "      <td>32.0</td>\n",
       "      <td>17206.30</td>\n",
       "      <td>NaT</td>\n",
       "      <td>Санкт-Петербург</td>\n",
       "      <td>2018-08-15</td>\n",
       "      <td>smart</td>\n",
       "      <td>0.0</td>\n",
       "      <td>0.0</td>\n",
       "      <td>1846.30</td>\n",
       "      <td>400.0</td>\n",
       "      <td>950.0</td>\n",
       "    </tr>\n",
       "    <tr>\n",
       "      <td>3210</td>\n",
       "      <td>1489</td>\n",
       "      <td>10</td>\n",
       "      <td>0.0</td>\n",
       "      <td>21.0</td>\n",
       "      <td>19559.44</td>\n",
       "      <td>NaT</td>\n",
       "      <td>Санкт-Петербург</td>\n",
       "      <td>2018-08-15</td>\n",
       "      <td>smart</td>\n",
       "      <td>0.0</td>\n",
       "      <td>0.0</td>\n",
       "      <td>4199.44</td>\n",
       "      <td>1000.0</td>\n",
       "      <td>1550.0</td>\n",
       "    </tr>\n",
       "    <tr>\n",
       "      <td>3211</td>\n",
       "      <td>1489</td>\n",
       "      <td>11</td>\n",
       "      <td>0.0</td>\n",
       "      <td>20.0</td>\n",
       "      <td>17491.56</td>\n",
       "      <td>NaT</td>\n",
       "      <td>Санкт-Петербург</td>\n",
       "      <td>2018-08-15</td>\n",
       "      <td>smart</td>\n",
       "      <td>0.0</td>\n",
       "      <td>0.0</td>\n",
       "      <td>2131.56</td>\n",
       "      <td>600.0</td>\n",
       "      <td>1150.0</td>\n",
       "    </tr>\n",
       "    <tr>\n",
       "      <td>3212</td>\n",
       "      <td>1489</td>\n",
       "      <td>12</td>\n",
       "      <td>0.0</td>\n",
       "      <td>35.0</td>\n",
       "      <td>17322.51</td>\n",
       "      <td>NaT</td>\n",
       "      <td>Санкт-Петербург</td>\n",
       "      <td>2018-08-15</td>\n",
       "      <td>smart</td>\n",
       "      <td>0.0</td>\n",
       "      <td>0.0</td>\n",
       "      <td>1962.51</td>\n",
       "      <td>400.0</td>\n",
       "      <td>950.0</td>\n",
       "    </tr>\n",
       "    <tr>\n",
       "      <td>3213</td>\n",
       "      <td>1476</td>\n",
       "      <td>4</td>\n",
       "      <td>0.0</td>\n",
       "      <td>0.0</td>\n",
       "      <td>530.78</td>\n",
       "      <td>NaT</td>\n",
       "      <td>Москва</td>\n",
       "      <td>2018-04-30</td>\n",
       "      <td>ultra</td>\n",
       "      <td>0.0</td>\n",
       "      <td>0.0</td>\n",
       "      <td>0.00</td>\n",
       "      <td>0.0</td>\n",
       "      <td>1950.0</td>\n",
       "    </tr>\n",
       "  </tbody>\n",
       "</table>\n",
       "<p>3214 rows × 14 columns</p>\n",
       "</div>"
      ],
      "text/plain": [
       "      user_id  month  duration    id   mb_used churn_date             city  \\\n",
       "0        1000      5     159.0  22.0   2253.49        NaT        Краснодар   \n",
       "1        1000      6     172.0  60.0  23233.77        NaT        Краснодар   \n",
       "2        1000      7     340.0  75.0  14003.64        NaT        Краснодар   \n",
       "3        1000      8     408.0  81.0  14055.93        NaT        Краснодар   \n",
       "4        1000      9     466.0  57.0  14568.91        NaT        Краснодар   \n",
       "...       ...    ...       ...   ...       ...        ...              ...   \n",
       "3209     1489      9       0.0  32.0  17206.30        NaT  Санкт-Петербург   \n",
       "3210     1489     10       0.0  21.0  19559.44        NaT  Санкт-Петербург   \n",
       "3211     1489     11       0.0  20.0  17491.56        NaT  Санкт-Петербург   \n",
       "3212     1489     12       0.0  35.0  17322.51        NaT  Санкт-Петербург   \n",
       "3213     1476      4       0.0   0.0    530.78        NaT           Москва   \n",
       "\n",
       "       reg_date tariff  duration_superlimit  id_superlimit  \\\n",
       "0    2018-05-25  ultra                  0.0            0.0   \n",
       "1    2018-05-25  ultra                  0.0            0.0   \n",
       "2    2018-05-25  ultra                  0.0            0.0   \n",
       "3    2018-05-25  ultra                  0.0            0.0   \n",
       "4    2018-05-25  ultra                  0.0            0.0   \n",
       "...         ...    ...                  ...            ...   \n",
       "3209 2018-08-15  smart                  0.0            0.0   \n",
       "3210 2018-08-15  smart                  0.0            0.0   \n",
       "3211 2018-08-15  smart                  0.0            0.0   \n",
       "3212 2018-08-15  smart                  0.0            0.0   \n",
       "3213 2018-04-30  ultra                  0.0            0.0   \n",
       "\n",
       "      mb_used_superlimit  gb_used_superlimit  monthly_fee  \n",
       "0                   0.00                 0.0       1950.0  \n",
       "1                   0.00                 0.0       1950.0  \n",
       "2                   0.00                 0.0       1950.0  \n",
       "3                   0.00                 0.0       1950.0  \n",
       "4                   0.00                 0.0       1950.0  \n",
       "...                  ...                 ...          ...  \n",
       "3209             1846.30               400.0        950.0  \n",
       "3210             4199.44              1000.0       1550.0  \n",
       "3211             2131.56               600.0       1150.0  \n",
       "3212             1962.51               400.0        950.0  \n",
       "3213                0.00                 0.0       1950.0  \n",
       "\n",
       "[3214 rows x 14 columns]"
      ]
     },
     "execution_count": 26,
     "metadata": {},
     "output_type": "execute_result"
    }
   ],
   "source": [
    "# Из полученной таблицы удалим столбцы с ненужной для дальнейшего анализа, информацией (информация о тарифах):\n",
    "data = data.drop(['tariff_name', 'rub_per_minute', 'messages_included', 'mb_per_month_included', 'minutes_included','rub_monthly_fee', 'rub_per_gb', 'rub_per_message'], axis=1)\n",
    "data"
   ]
  },
  {
   "cell_type": "code",
   "execution_count": 27,
   "id": "e4f7cd9a",
   "metadata": {},
   "outputs": [
    {
     "name": "stdout",
     "output_type": "stream",
     "text": [
      "<class 'pandas.core.frame.DataFrame'>\n",
      "Int64Index: 3214 entries, 0 to 3213\n",
      "Data columns (total 14 columns):\n",
      "user_id                3214 non-null int64\n",
      "month                  3214 non-null int64\n",
      "duration               3214 non-null float64\n",
      "id                     3214 non-null float64\n",
      "mb_used                3214 non-null float64\n",
      "churn_date             187 non-null datetime64[ns]\n",
      "city                   3214 non-null object\n",
      "reg_date               3214 non-null datetime64[ns]\n",
      "tariff                 3214 non-null object\n",
      "duration_superlimit    3214 non-null float64\n",
      "id_superlimit          3214 non-null float64\n",
      "mb_used_superlimit     3214 non-null float64\n",
      "gb_used_superlimit     3214 non-null float64\n",
      "monthly_fee            3214 non-null int64\n",
      "dtypes: datetime64[ns](2), float64(7), int64(3), object(2)\n",
      "memory usage: 376.6+ KB\n"
     ]
    }
   ],
   "source": [
    "# Выручку сделаем целочисленным показателем:\n",
    "data['monthly_fee'] = data['monthly_fee'].astype('int')\n",
    "data.info()"
   ]
  },
  {
   "cell_type": "markdown",
   "id": "0395676e",
   "metadata": {},
   "source": [
    "## Исследовательский анализ данных"
   ]
  },
  {
   "cell_type": "markdown",
   "id": "16b3c343",
   "metadata": {},
   "source": [
    "Опишим поведение клиентов оператора, исходя из выборки. Сколько минут разговора, сколько сообщений и какой объём интернет-трафика требуется пользователям каждого тарифа в месяц? Посчитаем среднее количество, дисперсию и стандартное отклонение. Построим гистограммы. Опишим распределения."
   ]
  },
  {
   "cell_type": "code",
   "execution_count": 28,
   "id": "8a33a3c8",
   "metadata": {},
   "outputs": [
    {
     "data": {
      "text/html": [
       "<div>\n",
       "<style scoped>\n",
       "    .dataframe tbody tr th:only-of-type {\n",
       "        vertical-align: middle;\n",
       "    }\n",
       "\n",
       "    .dataframe tbody tr th {\n",
       "        vertical-align: top;\n",
       "    }\n",
       "\n",
       "    .dataframe thead tr th {\n",
       "        text-align: left;\n",
       "    }\n",
       "\n",
       "    .dataframe thead tr:last-of-type th {\n",
       "        text-align: right;\n",
       "    }\n",
       "</style>\n",
       "<table border=\"1\" class=\"dataframe\">\n",
       "  <thead>\n",
       "    <tr>\n",
       "      <th></th>\n",
       "      <th colspan=\"4\" halign=\"left\">duration</th>\n",
       "    </tr>\n",
       "    <tr>\n",
       "      <th></th>\n",
       "      <th>mean</th>\n",
       "      <th>median</th>\n",
       "      <th>std</th>\n",
       "      <th>var</th>\n",
       "    </tr>\n",
       "    <tr>\n",
       "      <th>tariff</th>\n",
       "      <th></th>\n",
       "      <th></th>\n",
       "      <th></th>\n",
       "      <th></th>\n",
       "    </tr>\n",
       "  </thead>\n",
       "  <tbody>\n",
       "    <tr>\n",
       "      <td>smart</td>\n",
       "      <td>417.934948</td>\n",
       "      <td>422.0</td>\n",
       "      <td>190.313730</td>\n",
       "      <td>36219.315784</td>\n",
       "    </tr>\n",
       "    <tr>\n",
       "      <td>ultra</td>\n",
       "      <td>526.623350</td>\n",
       "      <td>518.0</td>\n",
       "      <td>317.606098</td>\n",
       "      <td>100873.633397</td>\n",
       "    </tr>\n",
       "  </tbody>\n",
       "</table>\n",
       "</div>"
      ],
      "text/plain": [
       "          duration                                  \n",
       "              mean median         std            var\n",
       "tariff                                              \n",
       "smart   417.934948  422.0  190.313730   36219.315784\n",
       "ultra   526.623350  518.0  317.606098  100873.633397"
      ]
     },
     "execution_count": 28,
     "metadata": {},
     "output_type": "execute_result"
    }
   ],
   "source": [
    "# Посчитаем среднее количество, дисперсию и стандартное отклонение по звонкам:\n",
    "data.groupby('tariff').agg({'duration': ['mean', 'median', 'std', 'var']})"
   ]
  },
  {
   "cell_type": "code",
   "execution_count": 29,
   "id": "23fe6c8d",
   "metadata": {},
   "outputs": [
    {
     "data": {
      "image/png": "[encoded data removed]",
      "text/plain": [
       "<Figure size 432x288 with 1 Axes>"
      ]
     },
     "metadata": {
      "needs_background": "light"
     },
     "output_type": "display_data"
    }
   ],
   "source": [
    "# Построим гистограмму по звонкам по тарифам smart и ultra:\n",
    "data[data['tariff'] == 'smart']['duration'].hist(bins=30, range=(0, 1578), label='smart')\n",
    "data[data['tariff'] == 'ultra']['duration'].hist(bins=30, range=(0, 1578), label='ultra')\n",
    "plt.title('Длительность звонка в минутах')\n",
    "plt.xlabel('мин')\n",
    "plt.legend()\n",
    "plt.show();"
   ]
  },
  {
   "cell_type": "markdown",
   "id": "f2766fbf",
   "metadata": {},
   "source": [
    "Среднее и медианное значения очень близки на обоих тарифах.\n",
    "Стандартное отклонение на тарифе ultra больше, значит длительность звонков на тарифе ultra выше, чем на smart.\n",
    "\n",
    "На гистограмме также видно, что распределение на тарифе ultra гораздо больше, значит длительность звонков у них выше относительнго среднего значения."
   ]
  },
  {
   "cell_type": "code",
   "execution_count": 30,
   "id": "b168bb2a",
   "metadata": {},
   "outputs": [
    {
     "data": {
      "text/html": [
       "<div>\n",
       "<style scoped>\n",
       "    .dataframe tbody tr th:only-of-type {\n",
       "        vertical-align: middle;\n",
       "    }\n",
       "\n",
       "    .dataframe tbody tr th {\n",
       "        vertical-align: top;\n",
       "    }\n",
       "\n",
       "    .dataframe thead tr th {\n",
       "        text-align: left;\n",
       "    }\n",
       "\n",
       "    .dataframe thead tr:last-of-type th {\n",
       "        text-align: right;\n",
       "    }\n",
       "</style>\n",
       "<table border=\"1\" class=\"dataframe\">\n",
       "  <thead>\n",
       "    <tr>\n",
       "      <th></th>\n",
       "      <th colspan=\"4\" halign=\"left\">id</th>\n",
       "    </tr>\n",
       "    <tr>\n",
       "      <th></th>\n",
       "      <th>mean</th>\n",
       "      <th>median</th>\n",
       "      <th>std</th>\n",
       "      <th>var</th>\n",
       "    </tr>\n",
       "    <tr>\n",
       "      <th>tariff</th>\n",
       "      <th></th>\n",
       "      <th></th>\n",
       "      <th></th>\n",
       "      <th></th>\n",
       "    </tr>\n",
       "  </thead>\n",
       "  <tbody>\n",
       "    <tr>\n",
       "      <td>smart</td>\n",
       "      <td>33.384029</td>\n",
       "      <td>28.0</td>\n",
       "      <td>28.227876</td>\n",
       "      <td>796.812958</td>\n",
       "    </tr>\n",
       "    <tr>\n",
       "      <td>ultra</td>\n",
       "      <td>49.363452</td>\n",
       "      <td>38.0</td>\n",
       "      <td>47.804457</td>\n",
       "      <td>2285.266143</td>\n",
       "    </tr>\n",
       "  </tbody>\n",
       "</table>\n",
       "</div>"
      ],
      "text/plain": [
       "               id                               \n",
       "             mean median        std          var\n",
       "tariff                                          \n",
       "smart   33.384029   28.0  28.227876   796.812958\n",
       "ultra   49.363452   38.0  47.804457  2285.266143"
      ]
     },
     "execution_count": 30,
     "metadata": {},
     "output_type": "execute_result"
    }
   ],
   "source": [
    "# Посчитаем среднее количество, дисперсию и стандартное отклонение по смс:\n",
    "data.groupby('tariff').agg({'id': ['mean', 'median', 'std', 'var']})"
   ]
  },
  {
   "cell_type": "code",
   "execution_count": 31,
   "id": "69d5ea74",
   "metadata": {},
   "outputs": [
    {
     "data": {
      "image/png": "[encoded data removed]",
      "text/plain": [
       "<Figure size 432x288 with 1 Axes>"
      ]
     },
     "metadata": {
      "needs_background": "light"
     },
     "output_type": "display_data"
    }
   ],
   "source": [
    "#Построим гистограмму по смс по тарифам smart и ultra:\n",
    "data[data['tariff'] == 'smart']['id'].hist(bins=30, range=(0, 224), label='smart')\n",
    "data[data['tariff'] == 'ultra']['id'].hist(bins=30, range=(0, 224), label='ultra')\n",
    "plt.title('Количество отправленных сообщений')\n",
    "plt.xlabel('кол-во')\n",
    "plt.legend()\n",
    "plt.show();"
   ]
  },
  {
   "cell_type": "markdown",
   "id": "b0930308",
   "metadata": {},
   "source": [
    "Среднее и медианное значения рознятся, особенно на трифе ultra, значит в данных много выбросов.\n",
    "Стандартное отклонение на обоих тарифах велико, но на ultra все-таки выше. Это значит, что клиенты ultra отправляют большее количество сообщений. \n",
    "\n",
    "На гистограмме видно, что большиство клиентов не пользуется услугой отправки смс. Распределение больше на тарифе ultra, значит они отправляют большее количество сообщений относительно среднего значения."
   ]
  },
  {
   "cell_type": "code",
   "execution_count": 32,
   "id": "c0da09c0",
   "metadata": {},
   "outputs": [
    {
     "data": {
      "text/html": [
       "<div>\n",
       "<style scoped>\n",
       "    .dataframe tbody tr th:only-of-type {\n",
       "        vertical-align: middle;\n",
       "    }\n",
       "\n",
       "    .dataframe tbody tr th {\n",
       "        vertical-align: top;\n",
       "    }\n",
       "\n",
       "    .dataframe thead tr th {\n",
       "        text-align: left;\n",
       "    }\n",
       "\n",
       "    .dataframe thead tr:last-of-type th {\n",
       "        text-align: right;\n",
       "    }\n",
       "</style>\n",
       "<table border=\"1\" class=\"dataframe\">\n",
       "  <thead>\n",
       "    <tr>\n",
       "      <th></th>\n",
       "      <th colspan=\"4\" halign=\"left\">mb_used</th>\n",
       "    </tr>\n",
       "    <tr>\n",
       "      <th></th>\n",
       "      <th>mean</th>\n",
       "      <th>median</th>\n",
       "      <th>std</th>\n",
       "      <th>var</th>\n",
       "    </tr>\n",
       "    <tr>\n",
       "      <th>tariff</th>\n",
       "      <th></th>\n",
       "      <th></th>\n",
       "      <th></th>\n",
       "      <th></th>\n",
       "    </tr>\n",
       "  </thead>\n",
       "  <tbody>\n",
       "    <tr>\n",
       "      <td>smart</td>\n",
       "      <td>16208.386990</td>\n",
       "      <td>16506.84</td>\n",
       "      <td>5870.476681</td>\n",
       "      <td>3.446250e+07</td>\n",
       "    </tr>\n",
       "    <tr>\n",
       "      <td>ultra</td>\n",
       "      <td>19468.805208</td>\n",
       "      <td>19308.01</td>\n",
       "      <td>10087.170752</td>\n",
       "      <td>1.017510e+08</td>\n",
       "    </tr>\n",
       "  </tbody>\n",
       "</table>\n",
       "</div>"
      ],
      "text/plain": [
       "             mb_used                                      \n",
       "                mean    median           std           var\n",
       "tariff                                                    \n",
       "smart   16208.386990  16506.84   5870.476681  3.446250e+07\n",
       "ultra   19468.805208  19308.01  10087.170752  1.017510e+08"
      ]
     },
     "execution_count": 32,
     "metadata": {},
     "output_type": "execute_result"
    }
   ],
   "source": [
    "# Посчитаем среднее количество, дисперсию и стандартное отклонение по интернет-трафику:\n",
    "data.groupby('tariff').agg({'mb_used': ['mean', 'median', 'std', 'var']})"
   ]
  },
  {
   "cell_type": "code",
   "execution_count": 33,
   "id": "602c436c",
   "metadata": {},
   "outputs": [
    {
     "data": {
      "image/png": "[encoded data removed]",
      "text/plain": [
       "<Figure size 432x288 with 1 Axes>"
      ]
     },
     "metadata": {
      "needs_background": "light"
     },
     "output_type": "display_data"
    }
   ],
   "source": [
    "#Построим гистограмму по интернет-трафику по тарифам smart и ultra:\n",
    "data[data['tariff'] == 'smart']['mb_used'].hist(bins=30, range=(0, 49750), label='smart')\n",
    "data[data['tariff'] == 'ultra']['mb_used'].hist(bins=30, range=(0, 49750), label='ultra')\n",
    "plt.title('Объём потраченного за сессию интернет-трафика')\n",
    "plt.xlabel('МБ')\n",
    "plt.legend()\n",
    "plt.show();"
   ]
  },
  {
   "cell_type": "markdown",
   "id": "c1d58446",
   "metadata": {},
   "source": [
    "Среднее и медианное значения на обоих тарифах очень близки, значит данные не имеют выбросов. Средний объём потраченного за сессию интернет-трафика выше в тарифе ultra. Стандартное отклонение на тарифе ultra выше, значит его клиенты используют больше трафика относительно среднего.\n",
    "\n",
    "При этом мы видим, что среднее значение трафика клиентов тарифа smart выше предоставленного лимита в рамках пакета услуг. Значит они не укладываются в лимит и переплачивают за сверхлимитный трафик.\n",
    "\n",
    "На гистограмме объем интернет-трафика также распределен больше на ultra, чем на smart, значит клиенты ultra используют больше трафика относительно среднего значения."
   ]
  },
  {
   "cell_type": "code",
   "execution_count": 34,
   "id": "3bf351d1",
   "metadata": {},
   "outputs": [
    {
     "data": {
      "text/html": [
       "<div>\n",
       "<style scoped>\n",
       "    .dataframe tbody tr th:only-of-type {\n",
       "        vertical-align: middle;\n",
       "    }\n",
       "\n",
       "    .dataframe tbody tr th {\n",
       "        vertical-align: top;\n",
       "    }\n",
       "\n",
       "    .dataframe thead tr th {\n",
       "        text-align: left;\n",
       "    }\n",
       "\n",
       "    .dataframe thead tr:last-of-type th {\n",
       "        text-align: right;\n",
       "    }\n",
       "</style>\n",
       "<table border=\"1\" class=\"dataframe\">\n",
       "  <thead>\n",
       "    <tr>\n",
       "      <th></th>\n",
       "      <th colspan=\"4\" halign=\"left\">monthly_fee</th>\n",
       "    </tr>\n",
       "    <tr>\n",
       "      <th></th>\n",
       "      <th>mean</th>\n",
       "      <th>median</th>\n",
       "      <th>std</th>\n",
       "      <th>var</th>\n",
       "    </tr>\n",
       "    <tr>\n",
       "      <th>tariff</th>\n",
       "      <th></th>\n",
       "      <th></th>\n",
       "      <th></th>\n",
       "      <th></th>\n",
       "    </tr>\n",
       "  </thead>\n",
       "  <tbody>\n",
       "    <tr>\n",
       "      <td>smart</td>\n",
       "      <td>1289.973531</td>\n",
       "      <td>1023</td>\n",
       "      <td>818.404367</td>\n",
       "      <td>669785.708006</td>\n",
       "    </tr>\n",
       "    <tr>\n",
       "      <td>ultra</td>\n",
       "      <td>2070.152284</td>\n",
       "      <td>1950</td>\n",
       "      <td>376.187114</td>\n",
       "      <td>141516.745079</td>\n",
       "    </tr>\n",
       "  </tbody>\n",
       "</table>\n",
       "</div>"
      ],
      "text/plain": [
       "        monthly_fee                                  \n",
       "               mean median         std            var\n",
       "tariff                                               \n",
       "smart   1289.973531   1023  818.404367  669785.708006\n",
       "ultra   2070.152284   1950  376.187114  141516.745079"
      ]
     },
     "execution_count": 34,
     "metadata": {},
     "output_type": "execute_result"
    }
   ],
   "source": [
    "# Посчитаем среднее количество, дисперсию и стандартное отклонение по ежемесячной выручке:\n",
    "data.groupby('tariff').agg({'monthly_fee': ['mean', 'median', 'std', 'var']})"
   ]
  },
  {
   "cell_type": "code",
   "execution_count": 35,
   "id": "3efd8127",
   "metadata": {},
   "outputs": [
    {
     "data": {
      "image/png": "[encoded data removed]",
      "text/plain": [
       "<Figure size 432x288 with 1 Axes>"
      ]
     },
     "metadata": {
      "needs_background": "light"
     },
     "output_type": "display_data"
    }
   ],
   "source": [
    "#Построим гистограмму по ежемесячной выручке по тарифам smart и ultra:\n",
    "data[data['tariff'] == 'smart']['monthly_fee'].hist(bins=30, range=(0, 6614), label='smart')\n",
    "data[data['tariff'] == 'ultra']['monthly_fee'].hist(bins=30, range=(0, 6614), label='ultra')\n",
    "plt.title('Ежемесячная выручка в разрезе клиента')\n",
    "plt.xlabel('руб')\n",
    "plt.legend()\n",
    "plt.show();"
   ]
  },
  {
   "cell_type": "markdown",
   "id": "0cd0df5e",
   "metadata": {},
   "source": [
    "Среднее и медианное значения на тарифе smart рознятся, это значит в данных много выбросов. \n",
    "Стандартное отклонение в тарифе smart гораздо выше, что означает, что его клиенты платят больше относительно среднего значения.\n",
    "\n",
    "На гистограмме распределение больше у клиентов тарифа smart. Значит они платят больше относительно среднего. \n",
    "Это связано с тем, что им не хватает включенного в тариф лимита интернет-трафика и им приходится переплачивать за использование сверхлимита. \n",
    "\n",
    "На тарифе ultra абоненты в основном укладываются в предоставленные пакетом услуги и платят только абонентскую плату.\n",
    "\n",
    "В целом клиенты тарифа ultra платят больше, чем smart, тк у них абоненская плата почти в 4 раза выше."
   ]
  },
  {
   "cell_type": "markdown",
   "id": "b9348a05",
   "metadata": {},
   "source": [
    "### Вывод"
   ]
  },
  {
   "cell_type": "markdown",
   "id": "61f12e7e",
   "metadata": {},
   "source": [
    "Клиенты тарифа ultra используют больше услуг, имеют более длительные звонки, отправлют больше смс, тратят больше интернет-трафика, но и абоненская плата у них выше.\n",
    "\n",
    "Клиенты smart в среднем платят почти в 2 раза больше, чем предусмотрено пакетом услуг, переплачивают, главным образом, за сверхлимитный интернет, тк не укладываются в предоставленный пакетом лимит.\n",
    "\n"
   ]
  },
  {
   "cell_type": "markdown",
   "id": "a3e30d46",
   "metadata": {},
   "source": [
    "## Проверка гипотез"
   ]
  },
  {
   "cell_type": "markdown",
   "id": "e6e09f36",
   "metadata": {},
   "source": [
    "Проверим следущие гипотизы:\n",
    "- средняя выручка пользователей тарифов «Ультра» и «Смарт» различаются;\n",
    "- средняя выручка пользователей из Москвы отличается от выручки пользователей из других регионов.\n",
    "\n",
    "Выберем метод для проверки гипотезы о равенстве среднего двух генеральных совокупностей по взятым из них выборкам: scipy.stats.ttest_ind (array1, array2,equal_var)."
   ]
  },
  {
   "cell_type": "markdown",
   "id": "3be3cb43",
   "metadata": {},
   "source": [
    "Нулевую гипотизу сформулируем так: средняя выручка пользователей тарифов «Ультра» и «Смарт» равны, \n",
    "альтернативную - средняя выручка пользователей тарифов «Ультра» и «Смарт» не равны. "
   ]
  },
  {
   "cell_type": "code",
   "execution_count": 36,
   "id": "510ae66f",
   "metadata": {},
   "outputs": [
    {
     "name": "stdout",
     "output_type": "stream",
     "text": [
      "p-значение:  1.4229814360764067e-160\n",
      "Отвергаем нулевую гипотезу\n"
     ]
    }
   ],
   "source": [
    "smart = data[data['tariff'] == 'smart']['monthly_fee']\n",
    "ultra = data[data['tariff'] == 'ultra']['monthly_fee']\n",
    "\n",
    "alpha = 0.05 \n",
    "\n",
    "results = st.ttest_ind(smart, ultra) \n",
    "\n",
    "print('p-значение: ', results.pvalue)\n",
    "\n",
    "if results.pvalue < alpha:\n",
    "    print(\"Отвергаем нулевую гипотезу\")\n",
    "else:\n",
    "    print(\"Не получилось отвергнуть нулевую гипотезу\")"
   ]
  },
  {
   "cell_type": "markdown",
   "id": "3786eb37",
   "metadata": {},
   "source": [
    "Тк нулевую гипотезу мы отвергаем, значит средняя выручка пользователей тарифов «Ультра» и «Смарт» не равны. \n"
   ]
  },
  {
   "cell_type": "markdown",
   "id": "356584d0",
   "metadata": {},
   "source": [
    "Проверим вторую гипотезу: средняя выручка пользователей из Москвы отличается от выручки пользователей из других регионов.\n",
    "\n",
    "Нулевую гипотизу сформулируем так: средняя выручка пользователей из Москвы равна выручке пользователей из других регионов, альтернативную - средняя выручка пользователей из Москвы не равна выручке пользователей из других регионов. \n",
    "\n"
   ]
  },
  {
   "cell_type": "code",
   "execution_count": 37,
   "id": "fc0a2429",
   "metadata": {},
   "outputs": [
    {
     "name": "stdout",
     "output_type": "stream",
     "text": [
      "p-значение:  0.5440152911670224\n",
      "Не получилось отвергнуть нулевую гипотезу\n"
     ]
    }
   ],
   "source": [
    "moscow = data[data['city'] == 'Москва']['monthly_fee']\n",
    "no_moscow = data[data['city'] != 'Москва']['monthly_fee']\n",
    "\n",
    "alpha = 0.05 \n",
    "\n",
    "results = st.ttest_ind(moscow, no_moscow) \n",
    "\n",
    "print('p-значение: ', results.pvalue)\n",
    "\n",
    "if results.pvalue < alpha:\n",
    "    print(\"Отвергаем нулевую гипотезу\")\n",
    "else:\n",
    "    print(\"Не получилось отвергнуть нулевую гипотезу\")"
   ]
  },
  {
   "cell_type": "code",
   "execution_count": 38,
   "id": "5ec76dc5",
   "metadata": {},
   "outputs": [
    {
     "data": {
      "text/plain": [
       "1546.7135842880523"
      ]
     },
     "execution_count": 38,
     "metadata": {},
     "output_type": "execute_result"
    }
   ],
   "source": [
    "data[data['city'] == 'Москва']['monthly_fee'].mean()"
   ]
  },
  {
   "cell_type": "code",
   "execution_count": 39,
   "id": "c9ff05de",
   "metadata": {},
   "outputs": [
    {
     "data": {
      "text/plain": [
       "1524.9362274298885"
      ]
     },
     "execution_count": 39,
     "metadata": {},
     "output_type": "execute_result"
    }
   ],
   "source": [
    "data[data['city'] != 'Москва']['monthly_fee'].mean()"
   ]
  },
  {
   "cell_type": "markdown",
   "id": "8f5579ec",
   "metadata": {},
   "source": [
    "Полученное значение p-value говорит о том, что вероятность получить такое или большее различие случайно почти 50%,\n",
    "Это явно слишком большая вероятность, чтобы делать вывод о значимом различии между средними выручками.\n",
    "\n",
    "Среднее значение также говорит нам о том, что разница между московскими клиентами и региональными очень незначительна."
   ]
  },
  {
   "cell_type": "markdown",
   "id": "708b5e79",
   "metadata": {},
   "source": [
    "### Вывод"
   ]
  },
  {
   "cell_type": "markdown",
   "id": "f6c82d0e",
   "metadata": {},
   "source": [
    "Статистический тест показал, что средняя выручка по тарифам smart и ultra различаются, а средняя выручка пользователей из Москвы не отличается от выручки пользователей из других регионов."
   ]
  },
  {
   "cell_type": "markdown",
   "id": "189ad956",
   "metadata": {},
   "source": [
    "## Общий вывод"
   ]
  },
  {
   "cell_type": "markdown",
   "id": "980207d4",
   "metadata": {},
   "source": [
    "\n",
    "\n",
    "В данной работе мы проверили 2 гипотезы, первая относительно доходности в части двух тарифов, вторая относительно доходности пользователей из столицы и регионов. \n",
    "\n",
    "Первая гипотеза подтвердила, что разница в выручке между тарифами есть. Более дорогостоящим тарифом является 'ultra\", его средний чек составляет 2070 руб, что на 59% больше, чем в тарифе \"smart\". Стоит отметить, что клиенты тарифа \"ultra\" пользуются бОльшим количеством услуг, нежели клиенты \"smart\" (длительность звонков больше на 26%, интернет-трафик на 20%), но при этом, как мы отметили выше, платят они на 59% больше. Поэтому данный тариф бесспорно выгоднее для компании.\n",
    "\n",
    "Вторая гипотеза показала, что выручка от жителей столицы не отличается от жителей регионов. Средний чек жителей столицы всего на 1.4% больше чека жителей регионов, это значит, что в не зависимости от общего дохода, траты на связь и интернет одинаковы для крупных городов страны.\n"
   ]
  }
 ],
 "metadata": {
  "ExecuteTimeLog": [
   {
    "duration": 596,
    "start_time": "2021-12-31T13:46:59.639Z"
   },
   {
    "duration": 11,
    "start_time": "2021-12-31T13:47:00.238Z"
   },
   {
    "duration": 23,
    "start_time": "2021-12-31T13:47:00.252Z"
   },
   {
    "duration": 57,
    "start_time": "2021-12-31T13:47:00.279Z"
   },
   {
    "duration": 11,
    "start_time": "2021-12-31T13:47:00.339Z"
   },
   {
    "duration": 127,
    "start_time": "2021-12-31T13:47:00.353Z"
   },
   {
    "duration": 64,
    "start_time": "2021-12-31T13:47:00.482Z"
   },
   {
    "duration": 82,
    "start_time": "2021-12-31T13:47:00.549Z"
   },
   {
    "duration": 38,
    "start_time": "2021-12-31T13:47:00.633Z"
   },
   {
    "duration": 52,
    "start_time": "2021-12-31T13:47:00.673Z"
   },
   {
    "duration": 32,
    "start_time": "2021-12-31T13:47:00.727Z"
   },
   {
    "duration": 57,
    "start_time": "2021-12-31T13:47:00.762Z"
   },
   {
    "duration": 37,
    "start_time": "2021-12-31T13:47:00.821Z"
   },
   {
    "duration": 67,
    "start_time": "2021-12-31T13:47:00.861Z"
   },
   {
    "duration": 10,
    "start_time": "2021-12-31T13:47:00.930Z"
   },
   {
    "duration": 20,
    "start_time": "2021-12-31T13:47:00.942Z"
   },
   {
    "duration": 79,
    "start_time": "2021-12-31T13:47:00.964Z"
   },
   {
    "duration": 16,
    "start_time": "2021-12-31T13:47:01.045Z"
   },
   {
    "duration": 35,
    "start_time": "2021-12-31T13:47:01.064Z"
   },
   {
    "duration": 32,
    "start_time": "2021-12-31T13:47:01.101Z"
   },
   {
    "duration": 30,
    "start_time": "2021-12-31T13:47:01.136Z"
   },
   {
    "duration": 607,
    "start_time": "2021-12-31T13:47:01.169Z"
   },
   {
    "duration": 21,
    "start_time": "2021-12-31T13:47:01.779Z"
   },
   {
    "duration": 501,
    "start_time": "2021-12-31T13:47:01.818Z"
   },
   {
    "duration": 24,
    "start_time": "2021-12-31T13:47:02.322Z"
   },
   {
    "duration": 517,
    "start_time": "2021-12-31T13:47:02.349Z"
   },
   {
    "duration": 31,
    "start_time": "2021-12-31T13:47:02.869Z"
   },
   {
    "duration": 826,
    "start_time": "2021-12-31T13:47:02.917Z"
   },
   {
    "duration": 16,
    "start_time": "2021-12-31T13:47:03.747Z"
   },
   {
    "duration": 15,
    "start_time": "2021-12-31T13:47:03.767Z"
   },
   {
    "duration": 37,
    "start_time": "2021-12-31T13:47:03.785Z"
   },
   {
    "duration": 8,
    "start_time": "2021-12-31T13:47:03.824Z"
   },
   {
    "duration": 1913,
    "start_time": "2021-12-31T13:48:02.152Z"
   },
   {
    "duration": 9,
    "start_time": "2021-12-31T13:48:04.068Z"
   },
   {
    "duration": 43,
    "start_time": "2021-12-31T13:48:04.080Z"
   },
   {
    "duration": 23,
    "start_time": "2021-12-31T13:48:04.125Z"
   },
   {
    "duration": 9,
    "start_time": "2021-12-31T13:48:04.150Z"
   },
   {
    "duration": 130,
    "start_time": "2021-12-31T13:48:04.161Z"
   },
   {
    "duration": 67,
    "start_time": "2021-12-31T13:48:04.293Z"
   },
   {
    "duration": 92,
    "start_time": "2021-12-31T13:48:04.363Z"
   },
   {
    "duration": 58,
    "start_time": "2021-12-31T13:48:04.459Z"
   },
   {
    "duration": 32,
    "start_time": "2021-12-31T13:48:04.520Z"
   },
   {
    "duration": 62,
    "start_time": "2021-12-31T13:48:04.555Z"
   },
   {
    "duration": 35,
    "start_time": "2021-12-31T13:48:04.620Z"
   },
   {
    "duration": 64,
    "start_time": "2021-12-31T13:48:04.658Z"
   },
   {
    "duration": 42,
    "start_time": "2021-12-31T13:48:04.725Z"
   },
   {
    "duration": 12,
    "start_time": "2021-12-31T13:48:04.770Z"
   },
   {
    "duration": 44,
    "start_time": "2021-12-31T13:48:04.784Z"
   },
   {
    "duration": 57,
    "start_time": "2021-12-31T13:48:04.830Z"
   },
   {
    "duration": 15,
    "start_time": "2021-12-31T13:48:04.917Z"
   },
   {
    "duration": 18,
    "start_time": "2021-12-31T13:48:04.935Z"
   },
   {
    "duration": 10,
    "start_time": "2021-12-31T13:48:04.955Z"
   },
   {
    "duration": 61,
    "start_time": "2021-12-31T13:48:04.968Z"
   },
   {
    "duration": 542,
    "start_time": "2021-12-31T13:48:05.031Z"
   },
   {
    "duration": 21,
    "start_time": "2021-12-31T13:48:05.575Z"
   },
   {
    "duration": 521,
    "start_time": "2021-12-31T13:48:05.598Z"
   },
   {
    "duration": 21,
    "start_time": "2021-12-31T13:48:06.121Z"
   },
   {
    "duration": 525,
    "start_time": "2021-12-31T13:48:06.145Z"
   },
   {
    "duration": 39,
    "start_time": "2021-12-31T13:48:06.677Z"
   },
   {
    "duration": 846,
    "start_time": "2021-12-31T13:48:06.719Z"
   },
   {
    "duration": 16,
    "start_time": "2021-12-31T13:48:07.569Z"
   },
   {
    "duration": 34,
    "start_time": "2021-12-31T13:48:07.588Z"
   },
   {
    "duration": 10,
    "start_time": "2021-12-31T13:48:07.625Z"
   },
   {
    "duration": 15,
    "start_time": "2021-12-31T13:48:07.638Z"
   },
   {
    "duration": 47,
    "start_time": "2021-12-31T13:51:35.065Z"
   },
   {
    "duration": 3,
    "start_time": "2022-01-02T10:34:25.399Z"
   },
   {
    "duration": 53,
    "start_time": "2022-01-02T10:43:16.673Z"
   },
   {
    "duration": 200,
    "start_time": "2022-01-02T10:43:59.585Z"
   },
   {
    "duration": 1414,
    "start_time": "2022-01-02T10:44:13.333Z"
   },
   {
    "duration": 20,
    "start_time": "2022-01-02T10:44:14.749Z"
   },
   {
    "duration": 14,
    "start_time": "2022-01-02T10:44:14.771Z"
   },
   {
    "duration": 27,
    "start_time": "2022-01-02T10:44:14.791Z"
   },
   {
    "duration": 45,
    "start_time": "2022-01-02T10:44:14.820Z"
   },
   {
    "duration": 6,
    "start_time": "2022-01-02T10:44:14.867Z"
   },
   {
    "duration": 102,
    "start_time": "2022-01-02T10:44:14.874Z"
   },
   {
    "duration": 49,
    "start_time": "2022-01-02T10:44:14.979Z"
   },
   {
    "duration": 63,
    "start_time": "2022-01-02T10:44:15.030Z"
   },
   {
    "duration": 29,
    "start_time": "2022-01-02T10:44:15.095Z"
   },
   {
    "duration": 22,
    "start_time": "2022-01-02T10:44:15.126Z"
   },
   {
    "duration": 50,
    "start_time": "2022-01-02T10:44:15.150Z"
   },
   {
    "duration": 22,
    "start_time": "2022-01-02T10:44:15.202Z"
   },
   {
    "duration": 20,
    "start_time": "2022-01-02T10:44:15.226Z"
   },
   {
    "duration": 48,
    "start_time": "2022-01-02T10:44:15.248Z"
   },
   {
    "duration": 8,
    "start_time": "2022-01-02T10:44:15.298Z"
   },
   {
    "duration": 17,
    "start_time": "2022-01-02T10:44:15.308Z"
   },
   {
    "duration": 52,
    "start_time": "2022-01-02T10:44:15.326Z"
   },
   {
    "duration": 11,
    "start_time": "2022-01-02T10:44:15.381Z"
   },
   {
    "duration": 17,
    "start_time": "2022-01-02T10:44:15.394Z"
   },
   {
    "duration": 40,
    "start_time": "2022-01-02T10:44:15.413Z"
   },
   {
    "duration": 48,
    "start_time": "2022-01-02T10:44:15.455Z"
   },
   {
    "duration": 15,
    "start_time": "2022-01-02T10:44:15.507Z"
   },
   {
    "duration": 341,
    "start_time": "2022-01-02T10:44:15.524Z"
   },
   {
    "duration": 29,
    "start_time": "2022-01-02T10:44:15.867Z"
   },
   {
    "duration": 302,
    "start_time": "2022-01-02T10:44:15.898Z"
   },
   {
    "duration": 15,
    "start_time": "2022-01-02T10:44:16.201Z"
   },
   {
    "duration": 314,
    "start_time": "2022-01-02T10:44:16.218Z"
   },
   {
    "duration": 14,
    "start_time": "2022-01-02T10:44:16.534Z"
   },
   {
    "duration": 331,
    "start_time": "2022-01-02T10:44:16.549Z"
   },
   {
    "duration": 13,
    "start_time": "2022-01-02T10:44:16.882Z"
   },
   {
    "duration": 20,
    "start_time": "2022-01-02T10:44:16.896Z"
   },
   {
    "duration": 12,
    "start_time": "2022-01-02T10:44:16.918Z"
   },
   {
    "duration": 23,
    "start_time": "2022-01-02T10:44:16.931Z"
   },
   {
    "duration": 66,
    "start_time": "2022-01-02T10:48:59.029Z"
   },
   {
    "duration": 71,
    "start_time": "2022-01-02T10:50:36.886Z"
   },
   {
    "duration": 7,
    "start_time": "2022-01-02T10:51:05.687Z"
   },
   {
    "duration": 393,
    "start_time": "2022-01-02T10:56:46.156Z"
   },
   {
    "duration": 1469,
    "start_time": "2022-01-02T10:57:03.312Z"
   },
   {
    "duration": 20,
    "start_time": "2022-01-02T10:57:04.784Z"
   },
   {
    "duration": 6,
    "start_time": "2022-01-02T10:57:04.806Z"
   },
   {
    "duration": 11,
    "start_time": "2022-01-02T10:57:04.814Z"
   },
   {
    "duration": 20,
    "start_time": "2022-01-02T10:57:04.826Z"
   },
   {
    "duration": 5,
    "start_time": "2022-01-02T10:57:04.848Z"
   },
   {
    "duration": 87,
    "start_time": "2022-01-02T10:57:04.854Z"
   },
   {
    "duration": 35,
    "start_time": "2022-01-02T10:57:04.943Z"
   },
   {
    "duration": 55,
    "start_time": "2022-01-02T10:57:04.980Z"
   },
   {
    "duration": 25,
    "start_time": "2022-01-02T10:57:05.036Z"
   },
   {
    "duration": 4387,
    "start_time": "2022-01-02T10:57:05.063Z"
   },
   {
    "duration": 5096,
    "start_time": "2022-01-02T10:57:04.358Z"
   },
   {
    "duration": 5094,
    "start_time": "2022-01-02T10:57:04.361Z"
   },
   {
    "duration": 5092,
    "start_time": "2022-01-02T10:57:04.364Z"
   },
   {
    "duration": 5091,
    "start_time": "2022-01-02T10:57:04.367Z"
   },
   {
    "duration": 5090,
    "start_time": "2022-01-02T10:57:04.369Z"
   },
   {
    "duration": 5088,
    "start_time": "2022-01-02T10:57:04.373Z"
   },
   {
    "duration": 5086,
    "start_time": "2022-01-02T10:57:04.376Z"
   },
   {
    "duration": 5084,
    "start_time": "2022-01-02T10:57:04.379Z"
   },
   {
    "duration": 5083,
    "start_time": "2022-01-02T10:57:04.382Z"
   },
   {
    "duration": 5081,
    "start_time": "2022-01-02T10:57:04.385Z"
   },
   {
    "duration": 5064,
    "start_time": "2022-01-02T10:57:04.404Z"
   },
   {
    "duration": 5061,
    "start_time": "2022-01-02T10:57:04.408Z"
   },
   {
    "duration": 5060,
    "start_time": "2022-01-02T10:57:04.411Z"
   },
   {
    "duration": 5058,
    "start_time": "2022-01-02T10:57:04.414Z"
   },
   {
    "duration": 5057,
    "start_time": "2022-01-02T10:57:04.417Z"
   },
   {
    "duration": 5056,
    "start_time": "2022-01-02T10:57:04.419Z"
   },
   {
    "duration": 5054,
    "start_time": "2022-01-02T10:57:04.422Z"
   },
   {
    "duration": 5052,
    "start_time": "2022-01-02T10:57:04.425Z"
   },
   {
    "duration": 5051,
    "start_time": "2022-01-02T10:57:04.427Z"
   },
   {
    "duration": 5049,
    "start_time": "2022-01-02T10:57:04.430Z"
   },
   {
    "duration": 5048,
    "start_time": "2022-01-02T10:57:04.432Z"
   },
   {
    "duration": 5047,
    "start_time": "2022-01-02T10:57:04.434Z"
   },
   {
    "duration": 5045,
    "start_time": "2022-01-02T10:57:04.437Z"
   },
   {
    "duration": 383,
    "start_time": "2022-01-02T10:57:48.291Z"
   },
   {
    "duration": 1422,
    "start_time": "2022-01-02T10:57:53.739Z"
   },
   {
    "duration": 29,
    "start_time": "2022-01-02T10:57:55.164Z"
   },
   {
    "duration": 6,
    "start_time": "2022-01-02T10:57:55.197Z"
   },
   {
    "duration": 13,
    "start_time": "2022-01-02T10:57:55.205Z"
   },
   {
    "duration": 15,
    "start_time": "2022-01-02T10:57:55.220Z"
   },
   {
    "duration": 5,
    "start_time": "2022-01-02T10:57:55.237Z"
   },
   {
    "duration": 89,
    "start_time": "2022-01-02T10:57:55.244Z"
   },
   {
    "duration": 37,
    "start_time": "2022-01-02T10:57:55.335Z"
   },
   {
    "duration": 56,
    "start_time": "2022-01-02T10:57:55.374Z"
   },
   {
    "duration": 25,
    "start_time": "2022-01-02T10:57:55.432Z"
   },
   {
    "duration": 41,
    "start_time": "2022-01-02T10:57:55.459Z"
   },
   {
    "duration": 19,
    "start_time": "2022-01-02T10:57:55.502Z"
   },
   {
    "duration": 22,
    "start_time": "2022-01-02T10:57:55.523Z"
   },
   {
    "duration": 21,
    "start_time": "2022-01-02T10:57:55.546Z"
   },
   {
    "duration": 25,
    "start_time": "2022-01-02T10:57:55.591Z"
   },
   {
    "duration": 6,
    "start_time": "2022-01-02T10:57:55.617Z"
   },
   {
    "duration": 8,
    "start_time": "2022-01-02T10:57:55.625Z"
   },
   {
    "duration": 60,
    "start_time": "2022-01-02T10:57:55.634Z"
   },
   {
    "duration": 11,
    "start_time": "2022-01-02T10:57:55.696Z"
   },
   {
    "duration": 12,
    "start_time": "2022-01-02T10:57:55.708Z"
   },
   {
    "duration": 7,
    "start_time": "2022-01-02T10:57:55.721Z"
   },
   {
    "duration": 27,
    "start_time": "2022-01-02T10:57:55.731Z"
   },
   {
    "duration": 45,
    "start_time": "2022-01-02T10:57:55.760Z"
   },
   {
    "duration": 331,
    "start_time": "2022-01-02T10:57:55.807Z"
   },
   {
    "duration": 14,
    "start_time": "2022-01-02T10:57:56.140Z"
   },
   {
    "duration": 314,
    "start_time": "2022-01-02T10:57:56.156Z"
   },
   {
    "duration": 23,
    "start_time": "2022-01-02T10:57:56.471Z"
   },
   {
    "duration": 310,
    "start_time": "2022-01-02T10:57:56.495Z"
   },
   {
    "duration": 14,
    "start_time": "2022-01-02T10:57:56.807Z"
   },
   {
    "duration": 322,
    "start_time": "2022-01-02T10:57:56.822Z"
   },
   {
    "duration": 8,
    "start_time": "2022-01-02T10:57:57.146Z"
   },
   {
    "duration": 7,
    "start_time": "2022-01-02T10:57:57.156Z"
   },
   {
    "duration": 5,
    "start_time": "2022-01-02T10:57:57.164Z"
   },
   {
    "duration": 6,
    "start_time": "2022-01-02T10:57:57.191Z"
   },
   {
    "duration": 65,
    "start_time": "2022-01-02T10:59:06.447Z"
   },
   {
    "duration": 445,
    "start_time": "2022-01-02T11:14:52.112Z"
   },
   {
    "duration": 5126,
    "start_time": "2022-01-02T11:14:47.434Z"
   },
   {
    "duration": 5126,
    "start_time": "2022-01-02T11:14:47.437Z"
   },
   {
    "duration": 5108,
    "start_time": "2022-01-02T11:14:47.455Z"
   },
   {
    "duration": 5106,
    "start_time": "2022-01-02T11:14:47.458Z"
   },
   {
    "duration": 5105,
    "start_time": "2022-01-02T11:14:47.460Z"
   },
   {
    "duration": 5103,
    "start_time": "2022-01-02T11:14:47.463Z"
   },
   {
    "duration": 5099,
    "start_time": "2022-01-02T11:14:47.468Z"
   },
   {
    "duration": 5097,
    "start_time": "2022-01-02T11:14:47.471Z"
   },
   {
    "duration": 5095,
    "start_time": "2022-01-02T11:14:47.474Z"
   },
   {
    "duration": 5094,
    "start_time": "2022-01-02T11:14:47.476Z"
   },
   {
    "duration": 5092,
    "start_time": "2022-01-02T11:14:47.479Z"
   },
   {
    "duration": 5089,
    "start_time": "2022-01-02T11:14:47.483Z"
   },
   {
    "duration": 5087,
    "start_time": "2022-01-02T11:14:47.486Z"
   },
   {
    "duration": 5085,
    "start_time": "2022-01-02T11:14:47.489Z"
   },
   {
    "duration": 5083,
    "start_time": "2022-01-02T11:14:47.492Z"
   },
   {
    "duration": 5082,
    "start_time": "2022-01-02T11:14:47.494Z"
   },
   {
    "duration": 5080,
    "start_time": "2022-01-02T11:14:47.497Z"
   },
   {
    "duration": 5077,
    "start_time": "2022-01-02T11:14:47.502Z"
   },
   {
    "duration": 5075,
    "start_time": "2022-01-02T11:14:47.505Z"
   },
   {
    "duration": 5072,
    "start_time": "2022-01-02T11:14:47.508Z"
   },
   {
    "duration": 5070,
    "start_time": "2022-01-02T11:14:47.512Z"
   },
   {
    "duration": 5069,
    "start_time": "2022-01-02T11:14:47.514Z"
   },
   {
    "duration": 5067,
    "start_time": "2022-01-02T11:14:47.517Z"
   },
   {
    "duration": 5066,
    "start_time": "2022-01-02T11:14:47.519Z"
   },
   {
    "duration": 5064,
    "start_time": "2022-01-02T11:14:47.522Z"
   },
   {
    "duration": 5063,
    "start_time": "2022-01-02T11:14:47.524Z"
   },
   {
    "duration": 5055,
    "start_time": "2022-01-02T11:14:47.533Z"
   },
   {
    "duration": 5054,
    "start_time": "2022-01-02T11:14:47.535Z"
   },
   {
    "duration": 5052,
    "start_time": "2022-01-02T11:14:47.538Z"
   },
   {
    "duration": 5051,
    "start_time": "2022-01-02T11:14:47.540Z"
   },
   {
    "duration": 5049,
    "start_time": "2022-01-02T11:14:47.543Z"
   },
   {
    "duration": 5048,
    "start_time": "2022-01-02T11:14:47.545Z"
   },
   {
    "duration": 5046,
    "start_time": "2022-01-02T11:14:47.548Z"
   },
   {
    "duration": 57,
    "start_time": "2022-01-02T11:15:11.701Z"
   },
   {
    "duration": 1262,
    "start_time": "2022-01-02T11:15:22.862Z"
   },
   {
    "duration": 5107,
    "start_time": "2022-01-02T11:15:19.019Z"
   },
   {
    "duration": 5104,
    "start_time": "2022-01-02T11:15:19.023Z"
   },
   {
    "duration": 5101,
    "start_time": "2022-01-02T11:15:19.027Z"
   },
   {
    "duration": 5099,
    "start_time": "2022-01-02T11:15:19.030Z"
   },
   {
    "duration": 5098,
    "start_time": "2022-01-02T11:15:19.032Z"
   },
   {
    "duration": 5095,
    "start_time": "2022-01-02T11:15:19.036Z"
   },
   {
    "duration": 5094,
    "start_time": "2022-01-02T11:15:19.038Z"
   },
   {
    "duration": 5092,
    "start_time": "2022-01-02T11:15:19.041Z"
   },
   {
    "duration": 5090,
    "start_time": "2022-01-02T11:15:19.044Z"
   },
   {
    "duration": 5088,
    "start_time": "2022-01-02T11:15:19.047Z"
   },
   {
    "duration": 5087,
    "start_time": "2022-01-02T11:15:19.049Z"
   },
   {
    "duration": 5086,
    "start_time": "2022-01-02T11:15:19.051Z"
   },
   {
    "duration": 5083,
    "start_time": "2022-01-02T11:15:19.054Z"
   },
   {
    "duration": 5082,
    "start_time": "2022-01-02T11:15:19.056Z"
   },
   {
    "duration": 5081,
    "start_time": "2022-01-02T11:15:19.058Z"
   },
   {
    "duration": 5071,
    "start_time": "2022-01-02T11:15:19.069Z"
   },
   {
    "duration": 5069,
    "start_time": "2022-01-02T11:15:19.072Z"
   },
   {
    "duration": 5067,
    "start_time": "2022-01-02T11:15:19.075Z"
   },
   {
    "duration": 5066,
    "start_time": "2022-01-02T11:15:19.077Z"
   },
   {
    "duration": 5063,
    "start_time": "2022-01-02T11:15:19.080Z"
   },
   {
    "duration": 5061,
    "start_time": "2022-01-02T11:15:19.083Z"
   },
   {
    "duration": 5059,
    "start_time": "2022-01-02T11:15:19.086Z"
   },
   {
    "duration": 5057,
    "start_time": "2022-01-02T11:15:19.089Z"
   },
   {
    "duration": 5056,
    "start_time": "2022-01-02T11:15:19.092Z"
   },
   {
    "duration": 5053,
    "start_time": "2022-01-02T11:15:19.095Z"
   },
   {
    "duration": 5051,
    "start_time": "2022-01-02T11:15:19.098Z"
   },
   {
    "duration": 5050,
    "start_time": "2022-01-02T11:15:19.100Z"
   },
   {
    "duration": 5049,
    "start_time": "2022-01-02T11:15:19.102Z"
   },
   {
    "duration": 5047,
    "start_time": "2022-01-02T11:15:19.105Z"
   },
   {
    "duration": 5045,
    "start_time": "2022-01-02T11:15:19.108Z"
   },
   {
    "duration": 5044,
    "start_time": "2022-01-02T11:15:19.110Z"
   },
   {
    "duration": 5042,
    "start_time": "2022-01-02T11:15:19.113Z"
   },
   {
    "duration": 5041,
    "start_time": "2022-01-02T11:15:19.115Z"
   },
   {
    "duration": 364,
    "start_time": "2022-01-02T11:16:55.689Z"
   },
   {
    "duration": 535,
    "start_time": "2022-01-02T11:17:44.671Z"
   },
   {
    "duration": 1585,
    "start_time": "2022-01-02T11:17:49.683Z"
   },
   {
    "duration": 26,
    "start_time": "2022-01-02T11:17:51.270Z"
   },
   {
    "duration": 8,
    "start_time": "2022-01-02T11:17:51.303Z"
   },
   {
    "duration": 15,
    "start_time": "2022-01-02T11:17:51.313Z"
   },
   {
    "duration": 15,
    "start_time": "2022-01-02T11:17:51.330Z"
   },
   {
    "duration": 6,
    "start_time": "2022-01-02T11:17:51.347Z"
   },
   {
    "duration": 53,
    "start_time": "2022-01-02T11:17:51.396Z"
   },
   {
    "duration": 27,
    "start_time": "2022-01-02T11:17:51.452Z"
   },
   {
    "duration": 41,
    "start_time": "2022-01-02T11:17:51.491Z"
   },
   {
    "duration": 29,
    "start_time": "2022-01-02T11:17:51.533Z"
   },
   {
    "duration": 44,
    "start_time": "2022-01-02T11:17:51.564Z"
   },
   {
    "duration": 22,
    "start_time": "2022-01-02T11:17:51.609Z"
   },
   {
    "duration": 20,
    "start_time": "2022-01-02T11:17:51.633Z"
   },
   {
    "duration": 51,
    "start_time": "2022-01-02T11:17:51.655Z"
   },
   {
    "duration": 29,
    "start_time": "2022-01-02T11:17:51.708Z"
   },
   {
    "duration": 6,
    "start_time": "2022-01-02T11:17:51.738Z"
   },
   {
    "duration": 7,
    "start_time": "2022-01-02T11:17:51.746Z"
   },
   {
    "duration": 66,
    "start_time": "2022-01-02T11:17:51.754Z"
   },
   {
    "duration": 10,
    "start_time": "2022-01-02T11:17:51.822Z"
   },
   {
    "duration": 11,
    "start_time": "2022-01-02T11:17:51.834Z"
   },
   {
    "duration": 7,
    "start_time": "2022-01-02T11:17:51.847Z"
   },
   {
    "duration": 60,
    "start_time": "2022-01-02T11:17:51.855Z"
   },
   {
    "duration": 13,
    "start_time": "2022-01-02T11:17:51.917Z"
   },
   {
    "duration": 342,
    "start_time": "2022-01-02T11:17:51.931Z"
   },
   {
    "duration": 22,
    "start_time": "2022-01-02T11:17:52.276Z"
   },
   {
    "duration": 335,
    "start_time": "2022-01-02T11:17:52.300Z"
   },
   {
    "duration": 14,
    "start_time": "2022-01-02T11:17:52.637Z"
   },
   {
    "duration": 354,
    "start_time": "2022-01-02T11:17:52.652Z"
   },
   {
    "duration": 15,
    "start_time": "2022-01-02T11:17:53.008Z"
   },
   {
    "duration": 358,
    "start_time": "2022-01-02T11:17:53.025Z"
   },
   {
    "duration": 16,
    "start_time": "2022-01-02T11:17:53.384Z"
   },
   {
    "duration": 9,
    "start_time": "2022-01-02T11:17:53.406Z"
   },
   {
    "duration": 7,
    "start_time": "2022-01-02T11:17:53.417Z"
   },
   {
    "duration": 8,
    "start_time": "2022-01-02T11:17:53.425Z"
   },
   {
    "duration": 57,
    "start_time": "2022-01-02T11:19:34.842Z"
   },
   {
    "duration": 4,
    "start_time": "2022-01-02T11:28:14.665Z"
   },
   {
    "duration": 16,
    "start_time": "2022-01-02T11:30:38.168Z"
   },
   {
    "duration": 1565,
    "start_time": "2022-01-02T11:33:01.078Z"
   },
   {
    "duration": 16,
    "start_time": "2022-01-02T11:33:02.645Z"
   },
   {
    "duration": 20,
    "start_time": "2022-01-02T11:33:02.663Z"
   },
   {
    "duration": 44,
    "start_time": "2022-01-02T11:33:02.685Z"
   },
   {
    "duration": 41,
    "start_time": "2022-01-02T11:33:02.731Z"
   },
   {
    "duration": 12,
    "start_time": "2022-01-02T11:33:02.774Z"
   },
   {
    "duration": 73,
    "start_time": "2022-01-02T11:33:02.787Z"
   },
   {
    "duration": 26,
    "start_time": "2022-01-02T11:33:02.862Z"
   },
   {
    "duration": 30,
    "start_time": "2022-01-02T11:33:02.890Z"
   },
   {
    "duration": 283,
    "start_time": "2022-01-02T11:33:02.922Z"
   },
   {
    "duration": 5143,
    "start_time": "2022-01-02T11:32:58.064Z"
   },
   {
    "duration": 5141,
    "start_time": "2022-01-02T11:32:58.067Z"
   },
   {
    "duration": 5139,
    "start_time": "2022-01-02T11:32:58.070Z"
   },
   {
    "duration": 5135,
    "start_time": "2022-01-02T11:32:58.075Z"
   },
   {
    "duration": 5121,
    "start_time": "2022-01-02T11:32:58.090Z"
   },
   {
    "duration": 5118,
    "start_time": "2022-01-02T11:32:58.093Z"
   },
   {
    "duration": 5115,
    "start_time": "2022-01-02T11:32:58.097Z"
   },
   {
    "duration": 5113,
    "start_time": "2022-01-02T11:32:58.100Z"
   },
   {
    "duration": 5106,
    "start_time": "2022-01-02T11:32:58.108Z"
   },
   {
    "duration": 5105,
    "start_time": "2022-01-02T11:32:58.110Z"
   },
   {
    "duration": 5103,
    "start_time": "2022-01-02T11:32:58.113Z"
   },
   {
    "duration": 5102,
    "start_time": "2022-01-02T11:32:58.115Z"
   },
   {
    "duration": 5100,
    "start_time": "2022-01-02T11:32:58.118Z"
   },
   {
    "duration": 5098,
    "start_time": "2022-01-02T11:32:58.120Z"
   },
   {
    "duration": 5097,
    "start_time": "2022-01-02T11:32:58.123Z"
   },
   {
    "duration": 5096,
    "start_time": "2022-01-02T11:32:58.125Z"
   },
   {
    "duration": 5094,
    "start_time": "2022-01-02T11:32:58.128Z"
   },
   {
    "duration": 5093,
    "start_time": "2022-01-02T11:32:58.130Z"
   },
   {
    "duration": 5091,
    "start_time": "2022-01-02T11:32:58.133Z"
   },
   {
    "duration": 5091,
    "start_time": "2022-01-02T11:32:58.135Z"
   },
   {
    "duration": 5089,
    "start_time": "2022-01-02T11:32:58.138Z"
   },
   {
    "duration": 5088,
    "start_time": "2022-01-02T11:32:58.140Z"
   },
   {
    "duration": 5087,
    "start_time": "2022-01-02T11:32:58.142Z"
   },
   {
    "duration": 5085,
    "start_time": "2022-01-02T11:32:58.145Z"
   },
   {
    "duration": 178,
    "start_time": "2022-01-02T11:33:43.323Z"
   },
   {
    "duration": 1462,
    "start_time": "2022-01-02T11:33:50.491Z"
   },
   {
    "duration": 15,
    "start_time": "2022-01-02T11:33:51.955Z"
   },
   {
    "duration": 22,
    "start_time": "2022-01-02T11:33:51.974Z"
   },
   {
    "duration": 41,
    "start_time": "2022-01-02T11:33:51.997Z"
   },
   {
    "duration": 33,
    "start_time": "2022-01-02T11:33:52.039Z"
   },
   {
    "duration": 8,
    "start_time": "2022-01-02T11:33:52.074Z"
   },
   {
    "duration": 62,
    "start_time": "2022-01-02T11:33:52.085Z"
   },
   {
    "duration": 27,
    "start_time": "2022-01-02T11:33:52.150Z"
   },
   {
    "duration": 30,
    "start_time": "2022-01-02T11:33:52.179Z"
   },
   {
    "duration": 266,
    "start_time": "2022-01-02T11:33:52.210Z"
   },
   {
    "duration": 5144,
    "start_time": "2022-01-02T11:33:47.334Z"
   },
   {
    "duration": 5129,
    "start_time": "2022-01-02T11:33:47.350Z"
   },
   {
    "duration": 5124,
    "start_time": "2022-01-02T11:33:47.356Z"
   },
   {
    "duration": 5117,
    "start_time": "2022-01-02T11:33:47.364Z"
   },
   {
    "duration": 5115,
    "start_time": "2022-01-02T11:33:47.367Z"
   },
   {
    "duration": 5110,
    "start_time": "2022-01-02T11:33:47.372Z"
   },
   {
    "duration": 5104,
    "start_time": "2022-01-02T11:33:47.379Z"
   },
   {
    "duration": 5102,
    "start_time": "2022-01-02T11:33:47.382Z"
   },
   {
    "duration": 5101,
    "start_time": "2022-01-02T11:33:47.385Z"
   },
   {
    "duration": 5097,
    "start_time": "2022-01-02T11:33:47.389Z"
   },
   {
    "duration": 5091,
    "start_time": "2022-01-02T11:33:47.396Z"
   },
   {
    "duration": 5089,
    "start_time": "2022-01-02T11:33:47.399Z"
   },
   {
    "duration": 5088,
    "start_time": "2022-01-02T11:33:47.401Z"
   },
   {
    "duration": 5085,
    "start_time": "2022-01-02T11:33:47.405Z"
   },
   {
    "duration": 5078,
    "start_time": "2022-01-02T11:33:47.413Z"
   },
   {
    "duration": 5077,
    "start_time": "2022-01-02T11:33:47.415Z"
   },
   {
    "duration": 5075,
    "start_time": "2022-01-02T11:33:47.417Z"
   },
   {
    "duration": 5072,
    "start_time": "2022-01-02T11:33:47.421Z"
   },
   {
    "duration": 5065,
    "start_time": "2022-01-02T11:33:47.429Z"
   },
   {
    "duration": 5064,
    "start_time": "2022-01-02T11:33:47.431Z"
   },
   {
    "duration": 5062,
    "start_time": "2022-01-02T11:33:47.434Z"
   },
   {
    "duration": 5061,
    "start_time": "2022-01-02T11:33:47.436Z"
   },
   {
    "duration": 5058,
    "start_time": "2022-01-02T11:33:47.440Z"
   },
   {
    "duration": 5050,
    "start_time": "2022-01-02T11:33:47.449Z"
   },
   {
    "duration": 32,
    "start_time": "2022-01-02T11:34:33.019Z"
   },
   {
    "duration": 177,
    "start_time": "2022-01-02T11:36:28.402Z"
   },
   {
    "duration": 1511,
    "start_time": "2022-01-02T11:36:43.829Z"
   },
   {
    "duration": 17,
    "start_time": "2022-01-02T11:36:45.343Z"
   },
   {
    "duration": 29,
    "start_time": "2022-01-02T11:36:45.365Z"
   },
   {
    "duration": 13,
    "start_time": "2022-01-02T11:36:45.396Z"
   },
   {
    "duration": 18,
    "start_time": "2022-01-02T11:36:45.411Z"
   },
   {
    "duration": 7,
    "start_time": "2022-01-02T11:36:45.431Z"
   },
   {
    "duration": 72,
    "start_time": "2022-01-02T11:36:45.442Z"
   },
   {
    "duration": 28,
    "start_time": "2022-01-02T11:36:45.517Z"
   },
   {
    "duration": 54,
    "start_time": "2022-01-02T11:36:45.547Z"
   },
   {
    "duration": 36,
    "start_time": "2022-01-02T11:36:45.603Z"
   },
   {
    "duration": 26,
    "start_time": "2022-01-02T11:36:45.641Z"
   },
   {
    "duration": 23,
    "start_time": "2022-01-02T11:36:45.692Z"
   },
   {
    "duration": 22,
    "start_time": "2022-01-02T11:36:45.717Z"
   },
   {
    "duration": 25,
    "start_time": "2022-01-02T11:36:45.740Z"
   },
   {
    "duration": 51,
    "start_time": "2022-01-02T11:36:45.767Z"
   },
   {
    "duration": 7,
    "start_time": "2022-01-02T11:36:45.819Z"
   },
   {
    "duration": 8,
    "start_time": "2022-01-02T11:36:45.828Z"
   },
   {
    "duration": 57,
    "start_time": "2022-01-02T11:36:45.837Z"
   },
   {
    "duration": 9,
    "start_time": "2022-01-02T11:36:45.896Z"
   },
   {
    "duration": 14,
    "start_time": "2022-01-02T11:36:45.907Z"
   },
   {
    "duration": 7,
    "start_time": "2022-01-02T11:36:45.923Z"
   },
   {
    "duration": 36,
    "start_time": "2022-01-02T11:36:45.933Z"
   },
   {
    "duration": 32,
    "start_time": "2022-01-02T11:36:45.972Z"
   },
   {
    "duration": 347,
    "start_time": "2022-01-02T11:36:46.006Z"
   },
   {
    "duration": 15,
    "start_time": "2022-01-02T11:36:46.354Z"
   },
   {
    "duration": 312,
    "start_time": "2022-01-02T11:36:46.371Z"
   },
   {
    "duration": 20,
    "start_time": "2022-01-02T11:36:46.686Z"
   },
   {
    "duration": 332,
    "start_time": "2022-01-02T11:36:46.708Z"
   },
   {
    "duration": 16,
    "start_time": "2022-01-02T11:36:47.043Z"
   },
   {
    "duration": 345,
    "start_time": "2022-01-02T11:36:47.061Z"
   },
   {
    "duration": 9,
    "start_time": "2022-01-02T11:36:47.408Z"
   },
   {
    "duration": 8,
    "start_time": "2022-01-02T11:36:47.419Z"
   },
   {
    "duration": 5,
    "start_time": "2022-01-02T11:36:47.429Z"
   },
   {
    "duration": 6,
    "start_time": "2022-01-02T11:36:47.436Z"
   },
   {
    "duration": 88,
    "start_time": "2022-01-02T11:39:38.345Z"
   },
   {
    "duration": 250,
    "start_time": "2022-01-02T12:04:42.657Z"
   },
   {
    "duration": 181,
    "start_time": "2022-01-02T12:04:52.292Z"
   },
   {
    "duration": 209,
    "start_time": "2022-01-02T12:05:52.501Z"
   },
   {
    "duration": 32,
    "start_time": "2022-01-02T12:06:14.314Z"
   },
   {
    "duration": 1498,
    "start_time": "2022-01-02T12:06:36.459Z"
   },
   {
    "duration": 15,
    "start_time": "2022-01-02T12:06:37.959Z"
   },
   {
    "duration": 18,
    "start_time": "2022-01-02T12:06:37.977Z"
   },
   {
    "duration": 27,
    "start_time": "2022-01-02T12:06:37.997Z"
   },
   {
    "duration": 21,
    "start_time": "2022-01-02T12:06:38.026Z"
   },
   {
    "duration": 14,
    "start_time": "2022-01-02T12:06:38.048Z"
   },
   {
    "duration": 55,
    "start_time": "2022-01-02T12:06:38.063Z"
   },
   {
    "duration": 27,
    "start_time": "2022-01-02T12:06:38.121Z"
   },
   {
    "duration": 47,
    "start_time": "2022-01-02T12:06:38.151Z"
   },
   {
    "duration": 36,
    "start_time": "2022-01-02T12:06:38.201Z"
   },
   {
    "duration": 26,
    "start_time": "2022-01-02T12:06:38.239Z"
   },
   {
    "duration": 47,
    "start_time": "2022-01-02T12:06:38.267Z"
   },
   {
    "duration": 23,
    "start_time": "2022-01-02T12:06:38.316Z"
   },
   {
    "duration": 51,
    "start_time": "2022-01-02T12:06:38.341Z"
   },
   {
    "duration": 28,
    "start_time": "2022-01-02T12:06:38.394Z"
   },
   {
    "duration": 7,
    "start_time": "2022-01-02T12:06:38.424Z"
   },
   {
    "duration": 7,
    "start_time": "2022-01-02T12:06:38.433Z"
   },
   {
    "duration": 57,
    "start_time": "2022-01-02T12:06:38.442Z"
   },
   {
    "duration": 11,
    "start_time": "2022-01-02T12:06:38.500Z"
   },
   {
    "duration": 12,
    "start_time": "2022-01-02T12:06:38.512Z"
   },
   {
    "duration": 7,
    "start_time": "2022-01-02T12:06:38.526Z"
   },
   {
    "duration": 60,
    "start_time": "2022-01-02T12:06:38.534Z"
   },
   {
    "duration": 30,
    "start_time": "2022-01-02T12:06:38.597Z"
   },
   {
    "duration": 13,
    "start_time": "2022-01-02T12:06:38.629Z"
   },
   {
    "duration": 349,
    "start_time": "2022-01-02T12:06:38.644Z"
   },
   {
    "duration": 14,
    "start_time": "2022-01-02T12:06:38.995Z"
   },
   {
    "duration": 324,
    "start_time": "2022-01-02T12:06:39.010Z"
   },
   {
    "duration": 14,
    "start_time": "2022-01-02T12:06:39.336Z"
   },
   {
    "duration": 354,
    "start_time": "2022-01-02T12:06:39.351Z"
   },
   {
    "duration": 17,
    "start_time": "2022-01-02T12:06:39.707Z"
   },
   {
    "duration": 393,
    "start_time": "2022-01-02T12:06:39.725Z"
   },
   {
    "duration": 10,
    "start_time": "2022-01-02T12:06:40.119Z"
   },
   {
    "duration": 28,
    "start_time": "2022-01-02T12:06:40.130Z"
   },
   {
    "duration": 32,
    "start_time": "2022-01-02T12:06:40.160Z"
   },
   {
    "duration": 23,
    "start_time": "2022-01-02T12:06:40.194Z"
   },
   {
    "duration": 31,
    "start_time": "2022-01-02T12:07:30.321Z"
   },
   {
    "duration": 267,
    "start_time": "2022-01-02T12:08:14.980Z"
   },
   {
    "duration": 32,
    "start_time": "2022-01-02T12:08:30.099Z"
   },
   {
    "duration": 34,
    "start_time": "2022-01-02T12:11:16.673Z"
   },
   {
    "duration": 1468,
    "start_time": "2022-01-02T12:11:28.491Z"
   },
   {
    "duration": 16,
    "start_time": "2022-01-02T12:11:29.960Z"
   },
   {
    "duration": 16,
    "start_time": "2022-01-02T12:11:29.979Z"
   },
   {
    "duration": 14,
    "start_time": "2022-01-02T12:11:29.997Z"
   },
   {
    "duration": 12,
    "start_time": "2022-01-02T12:11:30.013Z"
   },
   {
    "duration": 7,
    "start_time": "2022-01-02T12:11:30.027Z"
   },
   {
    "duration": 67,
    "start_time": "2022-01-02T12:11:30.037Z"
   },
   {
    "duration": 26,
    "start_time": "2022-01-02T12:11:30.107Z"
   },
   {
    "duration": 31,
    "start_time": "2022-01-02T12:11:30.135Z"
   },
   {
    "duration": 57,
    "start_time": "2022-01-02T12:11:30.168Z"
   },
   {
    "duration": 24,
    "start_time": "2022-01-02T12:11:30.227Z"
   },
   {
    "duration": 43,
    "start_time": "2022-01-02T12:11:30.253Z"
   },
   {
    "duration": 21,
    "start_time": "2022-01-02T12:11:30.298Z"
   },
   {
    "duration": 24,
    "start_time": "2022-01-02T12:11:30.320Z"
   },
   {
    "duration": 52,
    "start_time": "2022-01-02T12:11:30.346Z"
   },
   {
    "duration": 7,
    "start_time": "2022-01-02T12:11:30.400Z"
   },
   {
    "duration": 17,
    "start_time": "2022-01-02T12:11:30.409Z"
   },
   {
    "duration": 43,
    "start_time": "2022-01-02T12:11:30.428Z"
   },
   {
    "duration": 19,
    "start_time": "2022-01-02T12:11:30.473Z"
   },
   {
    "duration": 12,
    "start_time": "2022-01-02T12:11:30.494Z"
   },
   {
    "duration": 25,
    "start_time": "2022-01-02T12:11:30.508Z"
   },
   {
    "duration": 33,
    "start_time": "2022-01-02T12:11:30.536Z"
   },
   {
    "duration": 40,
    "start_time": "2022-01-02T12:11:30.571Z"
   },
   {
    "duration": 13,
    "start_time": "2022-01-02T12:11:30.613Z"
   },
   {
    "duration": 347,
    "start_time": "2022-01-02T12:11:30.627Z"
   },
   {
    "duration": 24,
    "start_time": "2022-01-02T12:11:30.976Z"
   },
   {
    "duration": 336,
    "start_time": "2022-01-02T12:11:31.001Z"
   },
   {
    "duration": 16,
    "start_time": "2022-01-02T12:11:31.339Z"
   },
   {
    "duration": 337,
    "start_time": "2022-01-02T12:11:31.356Z"
   },
   {
    "duration": 14,
    "start_time": "2022-01-02T12:11:31.694Z"
   },
   {
    "duration": 345,
    "start_time": "2022-01-02T12:11:31.710Z"
   },
   {
    "duration": 8,
    "start_time": "2022-01-02T12:11:32.057Z"
   },
   {
    "duration": 8,
    "start_time": "2022-01-02T12:11:32.067Z"
   },
   {
    "duration": 6,
    "start_time": "2022-01-02T12:11:32.091Z"
   },
   {
    "duration": 6,
    "start_time": "2022-01-02T12:11:32.098Z"
   },
   {
    "duration": 32,
    "start_time": "2022-01-02T12:14:08.597Z"
   },
   {
    "duration": 33,
    "start_time": "2022-01-02T12:14:24.981Z"
   },
   {
    "duration": 388,
    "start_time": "2022-01-02T12:15:09.868Z"
   },
   {
    "duration": 181,
    "start_time": "2022-01-02T12:15:30.857Z"
   },
   {
    "duration": 1506,
    "start_time": "2022-01-02T12:15:47.346Z"
   },
   {
    "duration": 15,
    "start_time": "2022-01-02T12:15:48.854Z"
   },
   {
    "duration": 6,
    "start_time": "2022-01-02T12:15:48.871Z"
   },
   {
    "duration": 11,
    "start_time": "2022-01-02T12:15:48.890Z"
   },
   {
    "duration": 12,
    "start_time": "2022-01-02T12:15:48.903Z"
   },
   {
    "duration": 6,
    "start_time": "2022-01-02T12:15:48.917Z"
   },
   {
    "duration": 69,
    "start_time": "2022-01-02T12:15:48.925Z"
   },
   {
    "duration": 26,
    "start_time": "2022-01-02T12:15:48.997Z"
   },
   {
    "duration": 29,
    "start_time": "2022-01-02T12:15:49.025Z"
   },
   {
    "duration": 57,
    "start_time": "2022-01-02T12:15:49.056Z"
   },
   {
    "duration": 25,
    "start_time": "2022-01-02T12:15:49.115Z"
   },
   {
    "duration": 22,
    "start_time": "2022-01-02T12:15:49.142Z"
   },
   {
    "duration": 45,
    "start_time": "2022-01-02T12:15:49.165Z"
   },
   {
    "duration": 24,
    "start_time": "2022-01-02T12:15:49.212Z"
   },
   {
    "duration": 28,
    "start_time": "2022-01-02T12:15:49.237Z"
   },
   {
    "duration": 27,
    "start_time": "2022-01-02T12:15:49.267Z"
   },
   {
    "duration": 10,
    "start_time": "2022-01-02T12:15:49.296Z"
   },
   {
    "duration": 34,
    "start_time": "2022-01-02T12:15:49.307Z"
   },
   {
    "duration": 11,
    "start_time": "2022-01-02T12:15:49.343Z"
   },
   {
    "duration": 46,
    "start_time": "2022-01-02T12:15:49.356Z"
   },
   {
    "duration": 7,
    "start_time": "2022-01-02T12:15:49.404Z"
   },
   {
    "duration": 29,
    "start_time": "2022-01-02T12:15:49.413Z"
   },
   {
    "duration": 66,
    "start_time": "2022-01-02T12:15:49.445Z"
   },
   {
    "duration": 13,
    "start_time": "2022-01-02T12:15:49.513Z"
   },
   {
    "duration": 343,
    "start_time": "2022-01-02T12:15:49.528Z"
   },
   {
    "duration": 22,
    "start_time": "2022-01-02T12:15:49.873Z"
   },
   {
    "duration": 322,
    "start_time": "2022-01-02T12:15:49.897Z"
   },
   {
    "duration": 14,
    "start_time": "2022-01-02T12:15:50.221Z"
   },
   {
    "duration": 326,
    "start_time": "2022-01-02T12:15:50.236Z"
   },
   {
    "duration": 14,
    "start_time": "2022-01-02T12:15:50.564Z"
   },
   {
    "duration": 341,
    "start_time": "2022-01-02T12:15:50.592Z"
   },
   {
    "duration": 8,
    "start_time": "2022-01-02T12:15:50.935Z"
   },
   {
    "duration": 9,
    "start_time": "2022-01-02T12:15:50.945Z"
   },
   {
    "duration": 6,
    "start_time": "2022-01-02T12:15:50.956Z"
   },
   {
    "duration": 30,
    "start_time": "2022-01-02T12:15:50.963Z"
   },
   {
    "duration": 243,
    "start_time": "2022-01-02T12:19:35.529Z"
   },
   {
    "duration": 185,
    "start_time": "2022-01-02T12:19:42.645Z"
   },
   {
    "duration": 3,
    "start_time": "2022-01-02T12:20:52.808Z"
   },
   {
    "duration": 2400,
    "start_time": "2022-01-02T12:20:58.049Z"
   },
   {
    "duration": 2329,
    "start_time": "2022-01-02T12:21:00.888Z"
   },
   {
    "duration": 2191,
    "start_time": "2022-01-02T12:21:19.737Z"
   },
   {
    "duration": 2235,
    "start_time": "2022-01-02T12:22:25.209Z"
   },
   {
    "duration": 178,
    "start_time": "2022-01-02T12:23:02.409Z"
   },
   {
    "duration": 162,
    "start_time": "2022-01-02T12:23:54.437Z"
   },
   {
    "duration": 1502,
    "start_time": "2022-01-02T12:24:01.548Z"
   },
   {
    "duration": 17,
    "start_time": "2022-01-02T12:24:03.052Z"
   },
   {
    "duration": 21,
    "start_time": "2022-01-02T12:24:03.072Z"
   },
   {
    "duration": 14,
    "start_time": "2022-01-02T12:24:03.095Z"
   },
   {
    "duration": 15,
    "start_time": "2022-01-02T12:24:03.110Z"
   },
   {
    "duration": 8,
    "start_time": "2022-01-02T12:24:03.126Z"
   },
   {
    "duration": 71,
    "start_time": "2022-01-02T12:24:03.136Z"
   },
   {
    "duration": 25,
    "start_time": "2022-01-02T12:24:03.210Z"
   },
   {
    "duration": 32,
    "start_time": "2022-01-02T12:24:03.237Z"
   },
   {
    "duration": 51,
    "start_time": "2022-01-02T12:24:03.271Z"
   },
   {
    "duration": 25,
    "start_time": "2022-01-02T12:24:03.323Z"
   },
   {
    "duration": 43,
    "start_time": "2022-01-02T12:24:03.349Z"
   },
   {
    "duration": 24,
    "start_time": "2022-01-02T12:24:03.394Z"
   },
   {
    "duration": 26,
    "start_time": "2022-01-02T12:24:03.419Z"
   },
   {
    "duration": 57,
    "start_time": "2022-01-02T12:24:03.447Z"
   },
   {
    "duration": 7,
    "start_time": "2022-01-02T12:24:03.506Z"
   },
   {
    "duration": 10,
    "start_time": "2022-01-02T12:24:03.514Z"
   },
   {
    "duration": 40,
    "start_time": "2022-01-02T12:24:03.525Z"
   },
   {
    "duration": 33,
    "start_time": "2022-01-02T12:24:03.567Z"
   },
   {
    "duration": 12,
    "start_time": "2022-01-02T12:24:03.602Z"
   },
   {
    "duration": 7,
    "start_time": "2022-01-02T12:24:03.615Z"
   },
   {
    "duration": 28,
    "start_time": "2022-01-02T12:24:03.624Z"
   },
   {
    "duration": 68,
    "start_time": "2022-01-02T12:24:03.655Z"
   },
   {
    "duration": 9,
    "start_time": "2022-01-02T12:24:03.726Z"
   },
   {
    "duration": 14,
    "start_time": "2022-01-02T12:24:03.737Z"
   },
   {
    "duration": 355,
    "start_time": "2022-01-02T12:24:03.753Z"
   },
   {
    "duration": 15,
    "start_time": "2022-01-02T12:24:04.110Z"
   },
   {
    "duration": 332,
    "start_time": "2022-01-02T12:24:04.126Z"
   },
   {
    "duration": 16,
    "start_time": "2022-01-02T12:24:04.460Z"
   },
   {
    "duration": 330,
    "start_time": "2022-01-02T12:24:04.490Z"
   },
   {
    "duration": 14,
    "start_time": "2022-01-02T12:24:04.822Z"
   },
   {
    "duration": 353,
    "start_time": "2022-01-02T12:24:04.838Z"
   },
   {
    "duration": 9,
    "start_time": "2022-01-02T12:24:05.193Z"
   },
   {
    "duration": 10,
    "start_time": "2022-01-02T12:24:05.203Z"
   },
   {
    "duration": 5,
    "start_time": "2022-01-02T12:24:05.215Z"
   },
   {
    "duration": 7,
    "start_time": "2022-01-02T12:24:05.222Z"
   },
   {
    "duration": 11,
    "start_time": "2022-01-02T12:24:21.496Z"
   },
   {
    "duration": 38,
    "start_time": "2022-01-02T12:24:31.416Z"
   },
   {
    "duration": 10,
    "start_time": "2022-01-02T12:25:00.120Z"
   },
   {
    "duration": 56,
    "start_time": "2022-01-02T12:26:03.663Z"
   },
   {
    "duration": 14,
    "start_time": "2022-01-02T12:32:59.334Z"
   },
   {
    "duration": 387,
    "start_time": "2022-01-02T12:33:10.351Z"
   },
   {
    "duration": 16,
    "start_time": "2022-01-02T12:33:21.471Z"
   },
   {
    "duration": 305,
    "start_time": "2022-01-02T12:33:29.996Z"
   },
   {
    "duration": 299,
    "start_time": "2022-01-02T12:33:46.466Z"
   },
   {
    "duration": 309,
    "start_time": "2022-01-02T12:33:58.692Z"
   },
   {
    "duration": 10,
    "start_time": "2022-01-02T12:34:09.428Z"
   },
   {
    "duration": 279,
    "start_time": "2022-01-02T12:38:27.861Z"
   },
   {
    "duration": 1541,
    "start_time": "2022-01-02T12:38:44.701Z"
   },
   {
    "duration": 15,
    "start_time": "2022-01-02T12:38:46.244Z"
   },
   {
    "duration": 6,
    "start_time": "2022-01-02T12:38:46.264Z"
   },
   {
    "duration": 12,
    "start_time": "2022-01-02T12:38:46.291Z"
   },
   {
    "duration": 13,
    "start_time": "2022-01-02T12:38:46.305Z"
   },
   {
    "duration": 7,
    "start_time": "2022-01-02T12:38:46.320Z"
   },
   {
    "duration": 75,
    "start_time": "2022-01-02T12:38:46.330Z"
   },
   {
    "duration": 26,
    "start_time": "2022-01-02T12:38:46.408Z"
   },
   {
    "duration": 30,
    "start_time": "2022-01-02T12:38:46.436Z"
   },
   {
    "duration": 35,
    "start_time": "2022-01-02T12:38:46.492Z"
   },
   {
    "duration": 26,
    "start_time": "2022-01-02T12:38:46.529Z"
   },
   {
    "duration": 46,
    "start_time": "2022-01-02T12:38:46.557Z"
   },
   {
    "duration": 21,
    "start_time": "2022-01-02T12:38:46.605Z"
   },
   {
    "duration": 24,
    "start_time": "2022-01-02T12:38:46.628Z"
   },
   {
    "duration": 60,
    "start_time": "2022-01-02T12:38:46.654Z"
   },
   {
    "duration": 7,
    "start_time": "2022-01-02T12:38:46.715Z"
   },
   {
    "duration": 18,
    "start_time": "2022-01-02T12:38:46.723Z"
   },
   {
    "duration": 52,
    "start_time": "2022-01-02T12:38:46.742Z"
   },
   {
    "duration": 11,
    "start_time": "2022-01-02T12:38:46.795Z"
   },
   {
    "duration": 11,
    "start_time": "2022-01-02T12:38:46.807Z"
   },
   {
    "duration": 12,
    "start_time": "2022-01-02T12:38:46.820Z"
   },
   {
    "duration": 60,
    "start_time": "2022-01-02T12:38:46.836Z"
   },
   {
    "duration": 33,
    "start_time": "2022-01-02T12:38:46.898Z"
   },
   {
    "duration": 8,
    "start_time": "2022-01-02T12:38:46.933Z"
   },
   {
    "duration": 14,
    "start_time": "2022-01-02T12:38:46.943Z"
   },
   {
    "duration": 354,
    "start_time": "2022-01-02T12:38:46.959Z"
   },
   {
    "duration": 14,
    "start_time": "2022-01-02T12:38:47.314Z"
   },
   {
    "duration": 325,
    "start_time": "2022-01-02T12:38:47.330Z"
   },
   {
    "duration": 15,
    "start_time": "2022-01-02T12:38:47.656Z"
   },
   {
    "duration": 330,
    "start_time": "2022-01-02T12:38:47.672Z"
   },
   {
    "duration": 17,
    "start_time": "2022-01-02T12:38:48.004Z"
   },
   {
    "duration": 347,
    "start_time": "2022-01-02T12:38:48.023Z"
   },
   {
    "duration": 19,
    "start_time": "2022-01-02T12:38:48.372Z"
   },
   {
    "duration": 9,
    "start_time": "2022-01-02T12:38:48.393Z"
   },
   {
    "duration": 7,
    "start_time": "2022-01-02T12:38:48.404Z"
   },
   {
    "duration": 6,
    "start_time": "2022-01-02T12:38:48.413Z"
   },
   {
    "duration": 290,
    "start_time": "2022-01-02T12:40:50.186Z"
   },
   {
    "duration": 1469,
    "start_time": "2022-01-02T12:40:58.716Z"
   },
   {
    "duration": 16,
    "start_time": "2022-01-02T12:41:00.187Z"
   },
   {
    "duration": 5,
    "start_time": "2022-01-02T12:41:00.205Z"
   },
   {
    "duration": 13,
    "start_time": "2022-01-02T12:41:00.212Z"
   },
   {
    "duration": 12,
    "start_time": "2022-01-02T12:41:00.227Z"
   },
   {
    "duration": 5,
    "start_time": "2022-01-02T12:41:00.241Z"
   },
   {
    "duration": 73,
    "start_time": "2022-01-02T12:41:00.248Z"
   },
   {
    "duration": 26,
    "start_time": "2022-01-02T12:41:00.325Z"
   },
   {
    "duration": 52,
    "start_time": "2022-01-02T12:41:00.354Z"
   },
   {
    "duration": 32,
    "start_time": "2022-01-02T12:41:00.408Z"
   },
   {
    "duration": 48,
    "start_time": "2022-01-02T12:41:00.443Z"
   },
   {
    "duration": 24,
    "start_time": "2022-01-02T12:41:00.493Z"
   },
   {
    "duration": 23,
    "start_time": "2022-01-02T12:41:00.519Z"
   },
   {
    "duration": 55,
    "start_time": "2022-01-02T12:41:00.544Z"
   },
   {
    "duration": 29,
    "start_time": "2022-01-02T12:41:00.601Z"
   },
   {
    "duration": 7,
    "start_time": "2022-01-02T12:41:00.632Z"
   },
   {
    "duration": 16,
    "start_time": "2022-01-02T12:41:00.641Z"
   },
   {
    "duration": 55,
    "start_time": "2022-01-02T12:41:00.658Z"
   },
   {
    "duration": 10,
    "start_time": "2022-01-02T12:41:00.715Z"
   },
   {
    "duration": 11,
    "start_time": "2022-01-02T12:41:00.727Z"
   },
   {
    "duration": 9,
    "start_time": "2022-01-02T12:41:00.740Z"
   },
   {
    "duration": 56,
    "start_time": "2022-01-02T12:41:00.750Z"
   },
   {
    "duration": 26,
    "start_time": "2022-01-02T12:41:00.809Z"
   },
   {
    "duration": 8,
    "start_time": "2022-01-02T12:41:00.837Z"
   },
   {
    "duration": 17,
    "start_time": "2022-01-02T12:41:00.847Z"
   },
   {
    "duration": 374,
    "start_time": "2022-01-02T12:41:00.866Z"
   },
   {
    "duration": 15,
    "start_time": "2022-01-02T12:41:01.242Z"
   },
   {
    "duration": 332,
    "start_time": "2022-01-02T12:41:01.259Z"
   },
   {
    "duration": 15,
    "start_time": "2022-01-02T12:41:01.593Z"
   },
   {
    "duration": 341,
    "start_time": "2022-01-02T12:41:01.609Z"
   },
   {
    "duration": 15,
    "start_time": "2022-01-02T12:41:01.952Z"
   },
   {
    "duration": 349,
    "start_time": "2022-01-02T12:41:01.969Z"
   },
   {
    "duration": 8,
    "start_time": "2022-01-02T12:41:02.320Z"
   },
   {
    "duration": 8,
    "start_time": "2022-01-02T12:41:02.330Z"
   },
   {
    "duration": 5,
    "start_time": "2022-01-02T12:41:02.340Z"
   },
   {
    "duration": 9,
    "start_time": "2022-01-02T12:41:02.347Z"
   },
   {
    "duration": 261,
    "start_time": "2022-01-02T12:44:29.518Z"
   },
   {
    "duration": 1468,
    "start_time": "2022-01-02T12:44:34.565Z"
   },
   {
    "duration": 15,
    "start_time": "2022-01-02T12:44:36.035Z"
   },
   {
    "duration": 6,
    "start_time": "2022-01-02T12:44:36.052Z"
   },
   {
    "duration": 11,
    "start_time": "2022-01-02T12:44:36.060Z"
   },
   {
    "duration": 12,
    "start_time": "2022-01-02T12:44:36.091Z"
   },
   {
    "duration": 6,
    "start_time": "2022-01-02T12:44:36.104Z"
   },
   {
    "duration": 43,
    "start_time": "2022-01-02T12:44:36.111Z"
   },
   {
    "duration": 43,
    "start_time": "2022-01-02T12:44:36.156Z"
   },
   {
    "duration": 29,
    "start_time": "2022-01-02T12:44:36.202Z"
   },
   {
    "duration": 32,
    "start_time": "2022-01-02T12:44:36.233Z"
   },
   {
    "duration": 47,
    "start_time": "2022-01-02T12:44:36.267Z"
   },
   {
    "duration": 21,
    "start_time": "2022-01-02T12:44:36.315Z"
   },
   {
    "duration": 20,
    "start_time": "2022-01-02T12:44:36.338Z"
   },
   {
    "duration": 48,
    "start_time": "2022-01-02T12:44:36.359Z"
   },
   {
    "duration": 27,
    "start_time": "2022-01-02T12:44:36.409Z"
   },
   {
    "duration": 7,
    "start_time": "2022-01-02T12:44:36.437Z"
   },
   {
    "duration": 8,
    "start_time": "2022-01-02T12:44:36.445Z"
   },
   {
    "duration": 57,
    "start_time": "2022-01-02T12:44:36.454Z"
   },
   {
    "duration": 10,
    "start_time": "2022-01-02T12:44:36.512Z"
   },
   {
    "duration": 11,
    "start_time": "2022-01-02T12:44:36.524Z"
   },
   {
    "duration": 6,
    "start_time": "2022-01-02T12:44:36.537Z"
   },
   {
    "duration": 56,
    "start_time": "2022-01-02T12:44:36.544Z"
   },
   {
    "duration": 23,
    "start_time": "2022-01-02T12:44:36.601Z"
   },
   {
    "duration": 7,
    "start_time": "2022-01-02T12:44:36.625Z"
   },
   {
    "duration": 12,
    "start_time": "2022-01-02T12:44:36.634Z"
   },
   {
    "duration": 347,
    "start_time": "2022-01-02T12:44:36.648Z"
   },
   {
    "duration": 14,
    "start_time": "2022-01-02T12:44:36.998Z"
   },
   {
    "duration": 318,
    "start_time": "2022-01-02T12:44:37.014Z"
   },
   {
    "duration": 14,
    "start_time": "2022-01-02T12:44:37.334Z"
   },
   {
    "duration": 322,
    "start_time": "2022-01-02T12:44:37.349Z"
   },
   {
    "duration": 23,
    "start_time": "2022-01-02T12:44:37.673Z"
   },
   {
    "duration": 333,
    "start_time": "2022-01-02T12:44:37.697Z"
   },
   {
    "duration": 11,
    "start_time": "2022-01-02T12:44:38.032Z"
   },
   {
    "duration": 8,
    "start_time": "2022-01-02T12:44:38.044Z"
   },
   {
    "duration": 6,
    "start_time": "2022-01-02T12:44:38.053Z"
   },
   {
    "duration": 33,
    "start_time": "2022-01-02T12:44:38.061Z"
   },
   {
    "duration": 252,
    "start_time": "2022-01-02T12:46:16.745Z"
   },
   {
    "duration": 1466,
    "start_time": "2022-01-02T12:46:24.170Z"
   },
   {
    "duration": 15,
    "start_time": "2022-01-02T12:46:25.638Z"
   },
   {
    "duration": 7,
    "start_time": "2022-01-02T12:46:25.655Z"
   },
   {
    "duration": 16,
    "start_time": "2022-01-02T12:46:25.663Z"
   },
   {
    "duration": 22,
    "start_time": "2022-01-02T12:46:25.681Z"
   },
   {
    "duration": 7,
    "start_time": "2022-01-02T12:46:25.705Z"
   },
   {
    "duration": 43,
    "start_time": "2022-01-02T12:46:25.714Z"
   },
   {
    "duration": 51,
    "start_time": "2022-01-02T12:46:25.759Z"
   },
   {
    "duration": 32,
    "start_time": "2022-01-02T12:46:25.813Z"
   },
   {
    "duration": 58,
    "start_time": "2022-01-02T12:46:25.848Z"
   },
   {
    "duration": 25,
    "start_time": "2022-01-02T12:46:25.909Z"
   },
   {
    "duration": 24,
    "start_time": "2022-01-02T12:46:25.936Z"
   },
   {
    "duration": 49,
    "start_time": "2022-01-02T12:46:25.962Z"
   },
   {
    "duration": 25,
    "start_time": "2022-01-02T12:46:26.013Z"
   },
   {
    "duration": 52,
    "start_time": "2022-01-02T12:46:26.040Z"
   },
   {
    "duration": 9,
    "start_time": "2022-01-02T12:46:26.094Z"
   },
   {
    "duration": 9,
    "start_time": "2022-01-02T12:46:26.105Z"
   },
   {
    "duration": 33,
    "start_time": "2022-01-02T12:46:26.116Z"
   },
   {
    "duration": 44,
    "start_time": "2022-01-02T12:46:26.151Z"
   },
   {
    "duration": 13,
    "start_time": "2022-01-02T12:46:26.197Z"
   },
   {
    "duration": 8,
    "start_time": "2022-01-02T12:46:26.212Z"
   },
   {
    "duration": 27,
    "start_time": "2022-01-02T12:46:26.222Z"
   },
   {
    "duration": 60,
    "start_time": "2022-01-02T12:46:26.251Z"
   },
   {
    "duration": 9,
    "start_time": "2022-01-02T12:46:26.313Z"
   },
   {
    "duration": 14,
    "start_time": "2022-01-02T12:46:26.324Z"
   },
   {
    "duration": 334,
    "start_time": "2022-01-02T12:46:26.340Z"
   },
   {
    "duration": 23,
    "start_time": "2022-01-02T12:46:26.678Z"
   },
   {
    "duration": 312,
    "start_time": "2022-01-02T12:46:26.703Z"
   },
   {
    "duration": 15,
    "start_time": "2022-01-02T12:46:27.017Z"
   },
   {
    "duration": 329,
    "start_time": "2022-01-02T12:46:27.034Z"
   },
   {
    "duration": 28,
    "start_time": "2022-01-02T12:46:27.366Z"
   },
   {
    "duration": 340,
    "start_time": "2022-01-02T12:46:27.396Z"
   },
   {
    "duration": 9,
    "start_time": "2022-01-02T12:46:27.738Z"
   },
   {
    "duration": 15,
    "start_time": "2022-01-02T12:46:27.749Z"
   },
   {
    "duration": 15,
    "start_time": "2022-01-02T12:46:27.766Z"
   },
   {
    "duration": 16,
    "start_time": "2022-01-02T12:46:27.783Z"
   },
   {
    "duration": 270,
    "start_time": "2022-01-02T12:48:13.868Z"
   },
   {
    "duration": 188,
    "start_time": "2022-01-02T12:49:30.700Z"
   },
   {
    "duration": 190,
    "start_time": "2022-01-02T12:49:45.536Z"
   },
   {
    "duration": 1530,
    "start_time": "2022-01-02T12:49:50.297Z"
   },
   {
    "duration": 15,
    "start_time": "2022-01-02T12:49:51.830Z"
   },
   {
    "duration": 6,
    "start_time": "2022-01-02T12:49:51.847Z"
   },
   {
    "duration": 11,
    "start_time": "2022-01-02T12:49:51.854Z"
   },
   {
    "duration": 31,
    "start_time": "2022-01-02T12:49:51.867Z"
   },
   {
    "duration": 6,
    "start_time": "2022-01-02T12:49:51.900Z"
   },
   {
    "duration": 45,
    "start_time": "2022-01-02T12:49:51.907Z"
   },
   {
    "duration": 46,
    "start_time": "2022-01-02T12:49:51.955Z"
   },
   {
    "duration": 30,
    "start_time": "2022-01-02T12:49:52.003Z"
   },
   {
    "duration": 33,
    "start_time": "2022-01-02T12:49:52.035Z"
   },
   {
    "duration": 45,
    "start_time": "2022-01-02T12:49:52.070Z"
   },
   {
    "duration": 23,
    "start_time": "2022-01-02T12:49:52.116Z"
   },
   {
    "duration": 21,
    "start_time": "2022-01-02T12:49:52.142Z"
   },
   {
    "duration": 43,
    "start_time": "2022-01-02T12:49:52.165Z"
   },
   {
    "duration": 28,
    "start_time": "2022-01-02T12:49:52.210Z"
   },
   {
    "duration": 7,
    "start_time": "2022-01-02T12:49:52.239Z"
   },
   {
    "duration": 8,
    "start_time": "2022-01-02T12:49:52.248Z"
   },
   {
    "duration": 64,
    "start_time": "2022-01-02T12:49:52.257Z"
   },
   {
    "duration": 10,
    "start_time": "2022-01-02T12:49:52.323Z"
   },
   {
    "duration": 12,
    "start_time": "2022-01-02T12:49:52.334Z"
   },
   {
    "duration": 13,
    "start_time": "2022-01-02T12:49:52.347Z"
   },
   {
    "duration": 50,
    "start_time": "2022-01-02T12:49:52.361Z"
   },
   {
    "duration": 30,
    "start_time": "2022-01-02T12:49:52.414Z"
   },
   {
    "duration": 22,
    "start_time": "2022-01-02T12:49:52.446Z"
   },
   {
    "duration": 28,
    "start_time": "2022-01-02T12:49:52.470Z"
   },
   {
    "duration": 14,
    "start_time": "2022-01-02T12:49:52.500Z"
   },
   {
    "duration": 338,
    "start_time": "2022-01-02T12:49:52.516Z"
   },
   {
    "duration": 13,
    "start_time": "2022-01-02T12:49:52.856Z"
   },
   {
    "duration": 311,
    "start_time": "2022-01-02T12:49:52.871Z"
   },
   {
    "duration": 19,
    "start_time": "2022-01-02T12:49:53.183Z"
   },
   {
    "duration": 316,
    "start_time": "2022-01-02T12:49:53.204Z"
   },
   {
    "duration": 15,
    "start_time": "2022-01-02T12:49:53.522Z"
   },
   {
    "duration": 323,
    "start_time": "2022-01-02T12:49:53.539Z"
   },
   {
    "duration": 8,
    "start_time": "2022-01-02T12:49:53.864Z"
   },
   {
    "duration": 21,
    "start_time": "2022-01-02T12:49:53.874Z"
   },
   {
    "duration": 5,
    "start_time": "2022-01-02T12:49:53.897Z"
   },
   {
    "duration": 5,
    "start_time": "2022-01-02T12:49:53.904Z"
   },
   {
    "duration": 63,
    "start_time": "2022-01-02T13:26:37.344Z"
   },
   {
    "duration": 63,
    "start_time": "2022-01-02T13:26:44.266Z"
   },
   {
    "duration": 8,
    "start_time": "2022-01-02T13:27:00.900Z"
   },
   {
    "duration": 8,
    "start_time": "2022-01-02T13:27:18.858Z"
   },
   {
    "duration": 6,
    "start_time": "2022-01-02T13:28:05.756Z"
   },
   {
    "duration": 60,
    "start_time": "2022-01-02T13:28:17.347Z"
   },
   {
    "duration": 7,
    "start_time": "2022-01-02T13:28:21.411Z"
   },
   {
    "duration": 7,
    "start_time": "2022-01-02T13:34:14.451Z"
   },
   {
    "duration": 7,
    "start_time": "2022-01-02T13:34:47.167Z"
   },
   {
    "duration": 258,
    "start_time": "2022-01-02T13:35:43.764Z"
   },
   {
    "duration": 5,
    "start_time": "2022-01-02T13:35:48.921Z"
   },
   {
    "duration": 7,
    "start_time": "2022-01-02T13:36:44.008Z"
   },
   {
    "duration": 6,
    "start_time": "2022-01-02T13:37:34.292Z"
   },
   {
    "duration": 1497,
    "start_time": "2022-01-02T13:39:26.441Z"
   },
   {
    "duration": 15,
    "start_time": "2022-01-02T13:39:27.940Z"
   },
   {
    "duration": 12,
    "start_time": "2022-01-02T13:39:27.957Z"
   },
   {
    "duration": 33,
    "start_time": "2022-01-02T13:39:27.971Z"
   },
   {
    "duration": 26,
    "start_time": "2022-01-02T13:39:28.005Z"
   },
   {
    "duration": 15,
    "start_time": "2022-01-02T13:39:28.032Z"
   },
   {
    "duration": 67,
    "start_time": "2022-01-02T13:39:28.049Z"
   },
   {
    "duration": 27,
    "start_time": "2022-01-02T13:39:28.118Z"
   },
   {
    "duration": 44,
    "start_time": "2022-01-02T13:39:28.147Z"
   },
   {
    "duration": 12,
    "start_time": "2022-01-02T13:39:28.194Z"
   },
   {
    "duration": 35,
    "start_time": "2022-01-02T13:39:28.208Z"
   },
   {
    "duration": 24,
    "start_time": "2022-01-02T13:39:28.245Z"
   },
   {
    "duration": 24,
    "start_time": "2022-01-02T13:39:28.292Z"
   },
   {
    "duration": 21,
    "start_time": "2022-01-02T13:39:28.318Z"
   },
   {
    "duration": 23,
    "start_time": "2022-01-02T13:39:28.341Z"
   },
   {
    "duration": 51,
    "start_time": "2022-01-02T13:39:28.365Z"
   },
   {
    "duration": 6,
    "start_time": "2022-01-02T13:39:28.418Z"
   },
   {
    "duration": 16,
    "start_time": "2022-01-02T13:39:28.426Z"
   },
   {
    "duration": 46,
    "start_time": "2022-01-02T13:39:28.443Z"
   },
   {
    "duration": 10,
    "start_time": "2022-01-02T13:39:28.491Z"
   },
   {
    "duration": 15,
    "start_time": "2022-01-02T13:39:28.503Z"
   },
   {
    "duration": 12,
    "start_time": "2022-01-02T13:39:28.520Z"
   },
   {
    "duration": 39,
    "start_time": "2022-01-02T13:39:28.533Z"
   },
   {
    "duration": 43,
    "start_time": "2022-01-02T13:39:28.574Z"
   },
   {
    "duration": 24,
    "start_time": "2022-01-02T13:39:28.618Z"
   },
   {
    "duration": 8,
    "start_time": "2022-01-02T13:39:28.643Z"
   },
   {
    "duration": 23,
    "start_time": "2022-01-02T13:39:28.654Z"
   },
   {
    "duration": 339,
    "start_time": "2022-01-02T13:39:28.692Z"
   },
   {
    "duration": 14,
    "start_time": "2022-01-02T13:39:29.033Z"
   },
   {
    "duration": 317,
    "start_time": "2022-01-02T13:39:29.049Z"
   },
   {
    "duration": 15,
    "start_time": "2022-01-02T13:39:29.367Z"
   },
   {
    "duration": 328,
    "start_time": "2022-01-02T13:39:29.391Z"
   },
   {
    "duration": 15,
    "start_time": "2022-01-02T13:39:29.721Z"
   },
   {
    "duration": 363,
    "start_time": "2022-01-02T13:39:29.738Z"
   },
   {
    "duration": 9,
    "start_time": "2022-01-02T13:39:30.103Z"
   },
   {
    "duration": 22,
    "start_time": "2022-01-02T13:39:30.114Z"
   },
   {
    "duration": 21,
    "start_time": "2022-01-02T13:39:30.138Z"
   },
   {
    "duration": 25,
    "start_time": "2022-01-02T13:39:30.161Z"
   },
   {
    "duration": 7,
    "start_time": "2022-01-02T13:40:09.082Z"
   },
   {
    "duration": 1458,
    "start_time": "2022-01-02T13:40:15.153Z"
   },
   {
    "duration": 14,
    "start_time": "2022-01-02T13:40:16.613Z"
   },
   {
    "duration": 6,
    "start_time": "2022-01-02T13:40:16.629Z"
   },
   {
    "duration": 22,
    "start_time": "2022-01-02T13:40:16.636Z"
   },
   {
    "duration": 17,
    "start_time": "2022-01-02T13:40:16.659Z"
   },
   {
    "duration": 15,
    "start_time": "2022-01-02T13:40:16.677Z"
   },
   {
    "duration": 56,
    "start_time": "2022-01-02T13:40:16.694Z"
   },
   {
    "duration": 24,
    "start_time": "2022-01-02T13:40:16.753Z"
   },
   {
    "duration": 33,
    "start_time": "2022-01-02T13:40:16.780Z"
   },
   {
    "duration": 12,
    "start_time": "2022-01-02T13:40:16.814Z"
   },
   {
    "duration": 31,
    "start_time": "2022-01-02T13:40:16.828Z"
   },
   {
    "duration": 48,
    "start_time": "2022-01-02T13:40:16.861Z"
   },
   {
    "duration": 22,
    "start_time": "2022-01-02T13:40:16.910Z"
   },
   {
    "duration": 21,
    "start_time": "2022-01-02T13:40:16.934Z"
   },
   {
    "duration": 49,
    "start_time": "2022-01-02T13:40:16.956Z"
   },
   {
    "duration": 27,
    "start_time": "2022-01-02T13:40:17.007Z"
   },
   {
    "duration": 7,
    "start_time": "2022-01-02T13:40:17.036Z"
   },
   {
    "duration": 8,
    "start_time": "2022-01-02T13:40:17.045Z"
   },
   {
    "duration": 65,
    "start_time": "2022-01-02T13:40:17.054Z"
   },
   {
    "duration": 11,
    "start_time": "2022-01-02T13:40:17.120Z"
   },
   {
    "duration": 12,
    "start_time": "2022-01-02T13:40:17.132Z"
   },
   {
    "duration": 6,
    "start_time": "2022-01-02T13:40:17.146Z"
   },
   {
    "duration": 56,
    "start_time": "2022-01-02T13:40:17.156Z"
   },
   {
    "duration": 33,
    "start_time": "2022-01-02T13:40:17.214Z"
   },
   {
    "duration": 24,
    "start_time": "2022-01-02T13:40:17.248Z"
   },
   {
    "duration": 10,
    "start_time": "2022-01-02T13:40:17.292Z"
   },
   {
    "duration": 15,
    "start_time": "2022-01-02T13:40:17.303Z"
   },
   {
    "duration": 347,
    "start_time": "2022-01-02T13:40:17.320Z"
   },
   {
    "duration": 23,
    "start_time": "2022-01-02T13:40:17.669Z"
   },
   {
    "duration": 316,
    "start_time": "2022-01-02T13:40:17.694Z"
   },
   {
    "duration": 15,
    "start_time": "2022-01-02T13:40:18.012Z"
   },
   {
    "duration": 323,
    "start_time": "2022-01-02T13:40:18.029Z"
   },
   {
    "duration": 15,
    "start_time": "2022-01-02T13:40:18.354Z"
   },
   {
    "duration": 342,
    "start_time": "2022-01-02T13:40:18.371Z"
   },
   {
    "duration": 10,
    "start_time": "2022-01-02T13:40:18.715Z"
   },
   {
    "duration": 10,
    "start_time": "2022-01-02T13:40:18.727Z"
   },
   {
    "duration": 7,
    "start_time": "2022-01-02T13:40:18.739Z"
   },
   {
    "duration": 7,
    "start_time": "2022-01-02T13:40:18.748Z"
   },
   {
    "duration": 61,
    "start_time": "2022-01-02T13:41:26.047Z"
   },
   {
    "duration": 8,
    "start_time": "2022-01-02T13:42:45.171Z"
   },
   {
    "duration": 1569,
    "start_time": "2022-01-02T13:42:52.506Z"
   },
   {
    "duration": 16,
    "start_time": "2022-01-02T13:42:54.077Z"
   },
   {
    "duration": 10,
    "start_time": "2022-01-02T13:42:54.097Z"
   },
   {
    "duration": 14,
    "start_time": "2022-01-02T13:42:54.110Z"
   },
   {
    "duration": 12,
    "start_time": "2022-01-02T13:42:54.126Z"
   },
   {
    "duration": 6,
    "start_time": "2022-01-02T13:42:54.139Z"
   },
   {
    "duration": 85,
    "start_time": "2022-01-02T13:42:54.147Z"
   },
   {
    "duration": 25,
    "start_time": "2022-01-02T13:42:54.235Z"
   },
   {
    "duration": 52,
    "start_time": "2022-01-02T13:42:54.262Z"
   },
   {
    "duration": 13,
    "start_time": "2022-01-02T13:42:54.316Z"
   },
   {
    "duration": 18,
    "start_time": "2022-01-02T13:42:54.331Z"
   },
   {
    "duration": 60,
    "start_time": "2022-01-02T13:42:54.350Z"
   },
   {
    "duration": 23,
    "start_time": "2022-01-02T13:42:54.412Z"
   },
   {
    "duration": 22,
    "start_time": "2022-01-02T13:42:54.436Z"
   },
   {
    "duration": 51,
    "start_time": "2022-01-02T13:42:54.459Z"
   },
   {
    "duration": 26,
    "start_time": "2022-01-02T13:42:54.512Z"
   },
   {
    "duration": 27,
    "start_time": "2022-01-02T13:42:54.540Z"
   },
   {
    "duration": 31,
    "start_time": "2022-01-02T13:42:54.570Z"
   },
   {
    "duration": 11,
    "start_time": "2022-01-02T13:42:54.603Z"
   },
   {
    "duration": 33,
    "start_time": "2022-01-02T13:42:54.616Z"
   },
   {
    "duration": 44,
    "start_time": "2022-01-02T13:42:54.651Z"
   },
   {
    "duration": 17,
    "start_time": "2022-01-02T13:42:54.697Z"
   },
   {
    "duration": 8,
    "start_time": "2022-01-02T13:42:54.717Z"
   },
   {
    "duration": 29,
    "start_time": "2022-01-02T13:42:54.727Z"
   },
   {
    "duration": 66,
    "start_time": "2022-01-02T13:42:54.757Z"
   },
   {
    "duration": 22,
    "start_time": "2022-01-02T13:42:54.824Z"
   },
   {
    "duration": 8,
    "start_time": "2022-01-02T13:42:54.847Z"
   },
   {
    "duration": 40,
    "start_time": "2022-01-02T13:42:54.856Z"
   },
   {
    "duration": 360,
    "start_time": "2022-01-02T13:42:54.899Z"
   },
   {
    "duration": 14,
    "start_time": "2022-01-02T13:42:55.261Z"
   },
   {
    "duration": 341,
    "start_time": "2022-01-02T13:42:55.276Z"
   },
   {
    "duration": 15,
    "start_time": "2022-01-02T13:42:55.618Z"
   },
   {
    "duration": 343,
    "start_time": "2022-01-02T13:42:55.634Z"
   },
   {
    "duration": 24,
    "start_time": "2022-01-02T13:42:55.979Z"
   },
   {
    "duration": 365,
    "start_time": "2022-01-02T13:42:56.005Z"
   },
   {
    "duration": 9,
    "start_time": "2022-01-02T13:42:56.372Z"
   },
   {
    "duration": 14,
    "start_time": "2022-01-02T13:42:56.393Z"
   },
   {
    "duration": 6,
    "start_time": "2022-01-02T13:42:56.410Z"
   },
   {
    "duration": 7,
    "start_time": "2022-01-02T13:42:56.418Z"
   },
   {
    "duration": 265,
    "start_time": "2022-01-02T13:47:05.937Z"
   },
   {
    "duration": 1663,
    "start_time": "2022-01-02T13:47:50.570Z"
   },
   {
    "duration": 15,
    "start_time": "2022-01-02T13:47:52.235Z"
   },
   {
    "duration": 6,
    "start_time": "2022-01-02T13:47:52.252Z"
   },
   {
    "duration": 32,
    "start_time": "2022-01-02T13:47:52.261Z"
   },
   {
    "duration": 11,
    "start_time": "2022-01-02T13:47:52.295Z"
   },
   {
    "duration": 6,
    "start_time": "2022-01-02T13:47:52.308Z"
   },
   {
    "duration": 45,
    "start_time": "2022-01-02T13:47:52.315Z"
   },
   {
    "duration": 45,
    "start_time": "2022-01-02T13:47:52.362Z"
   },
   {
    "duration": 28,
    "start_time": "2022-01-02T13:47:52.409Z"
   },
   {
    "duration": 12,
    "start_time": "2022-01-02T13:47:52.439Z"
   },
   {
    "duration": 40,
    "start_time": "2022-01-02T13:47:52.453Z"
   },
   {
    "duration": 33,
    "start_time": "2022-01-02T13:47:52.494Z"
   },
   {
    "duration": 22,
    "start_time": "2022-01-02T13:47:52.528Z"
   },
   {
    "duration": 46,
    "start_time": "2022-01-02T13:47:52.551Z"
   },
   {
    "duration": 21,
    "start_time": "2022-01-02T13:47:52.598Z"
   },
   {
    "duration": 24,
    "start_time": "2022-01-02T13:47:52.621Z"
   },
   {
    "duration": 58,
    "start_time": "2022-01-02T13:47:52.646Z"
   },
   {
    "duration": 18,
    "start_time": "2022-01-02T13:47:52.707Z"
   },
   {
    "duration": 22,
    "start_time": "2022-01-02T13:47:52.727Z"
   },
   {
    "duration": 65,
    "start_time": "2022-01-02T13:47:52.752Z"
   },
   {
    "duration": 44,
    "start_time": "2022-01-02T13:47:52.820Z"
   },
   {
    "duration": 30,
    "start_time": "2022-01-02T13:47:52.873Z"
   },
   {
    "duration": 7,
    "start_time": "2022-01-02T13:47:52.906Z"
   },
   {
    "duration": 29,
    "start_time": "2022-01-02T13:47:52.915Z"
   },
   {
    "duration": 56,
    "start_time": "2022-01-02T13:47:52.946Z"
   },
   {
    "duration": 23,
    "start_time": "2022-01-02T13:47:53.003Z"
   },
   {
    "duration": 7,
    "start_time": "2022-01-02T13:47:53.028Z"
   },
   {
    "duration": 15,
    "start_time": "2022-01-02T13:47:53.037Z"
   },
   {
    "duration": 352,
    "start_time": "2022-01-02T13:47:53.054Z"
   },
   {
    "duration": 14,
    "start_time": "2022-01-02T13:47:53.408Z"
   },
   {
    "duration": 315,
    "start_time": "2022-01-02T13:47:53.423Z"
   },
   {
    "duration": 14,
    "start_time": "2022-01-02T13:47:53.740Z"
   },
   {
    "duration": 319,
    "start_time": "2022-01-02T13:47:53.755Z"
   },
   {
    "duration": 23,
    "start_time": "2022-01-02T13:47:54.076Z"
   },
   {
    "duration": 331,
    "start_time": "2022-01-02T13:47:54.100Z"
   },
   {
    "duration": 8,
    "start_time": "2022-01-02T13:47:54.433Z"
   },
   {
    "duration": 7,
    "start_time": "2022-01-02T13:47:54.443Z"
   },
   {
    "duration": 10,
    "start_time": "2022-01-02T13:47:54.451Z"
   },
   {
    "duration": 17,
    "start_time": "2022-01-02T13:47:54.462Z"
   },
   {
    "duration": 7,
    "start_time": "2022-01-02T13:50:38.502Z"
   },
   {
    "duration": 6,
    "start_time": "2022-01-02T13:50:49.156Z"
   },
   {
    "duration": 7,
    "start_time": "2022-01-02T13:51:14.671Z"
   },
   {
    "duration": 15,
    "start_time": "2022-01-02T15:04:39.919Z"
   },
   {
    "duration": 24,
    "start_time": "2022-01-02T15:04:57.571Z"
   },
   {
    "duration": 1449,
    "start_time": "2022-01-02T15:30:37.398Z"
   },
   {
    "duration": 15,
    "start_time": "2022-01-02T15:30:38.849Z"
   },
   {
    "duration": 5,
    "start_time": "2022-01-02T15:30:38.866Z"
   },
   {
    "duration": 23,
    "start_time": "2022-01-02T15:30:38.873Z"
   },
   {
    "duration": 11,
    "start_time": "2022-01-02T15:30:38.898Z"
   },
   {
    "duration": 5,
    "start_time": "2022-01-02T15:30:38.911Z"
   },
   {
    "duration": 42,
    "start_time": "2022-01-02T15:30:38.918Z"
   },
   {
    "duration": 49,
    "start_time": "2022-01-02T15:30:38.963Z"
   },
   {
    "duration": 30,
    "start_time": "2022-01-02T15:30:39.014Z"
   },
   {
    "duration": 12,
    "start_time": "2022-01-02T15:30:39.045Z"
   },
   {
    "duration": 36,
    "start_time": "2022-01-02T15:30:39.059Z"
   },
   {
    "duration": 33,
    "start_time": "2022-01-02T15:30:39.097Z"
   },
   {
    "duration": 22,
    "start_time": "2022-01-02T15:30:39.131Z"
   },
   {
    "duration": 47,
    "start_time": "2022-01-02T15:30:39.155Z"
   },
   {
    "duration": 22,
    "start_time": "2022-01-02T15:30:39.203Z"
   },
   {
    "duration": 23,
    "start_time": "2022-01-02T15:30:39.226Z"
   },
   {
    "duration": 46,
    "start_time": "2022-01-02T15:30:39.251Z"
   },
   {
    "duration": 7,
    "start_time": "2022-01-02T15:30:39.298Z"
   },
   {
    "duration": 8,
    "start_time": "2022-01-02T15:30:39.306Z"
   },
   {
    "duration": 32,
    "start_time": "2022-01-02T15:30:39.315Z"
   },
   {
    "duration": 10,
    "start_time": "2022-01-02T15:30:39.349Z"
   },
   {
    "duration": 12,
    "start_time": "2022-01-02T15:30:39.392Z"
   },
   {
    "duration": 7,
    "start_time": "2022-01-02T15:30:39.408Z"
   },
   {
    "duration": 31,
    "start_time": "2022-01-02T15:30:39.416Z"
   },
   {
    "duration": 58,
    "start_time": "2022-01-02T15:30:39.448Z"
   },
   {
    "duration": 22,
    "start_time": "2022-01-02T15:30:39.508Z"
   },
   {
    "duration": 8,
    "start_time": "2022-01-02T15:30:39.532Z"
   },
   {
    "duration": 14,
    "start_time": "2022-01-02T15:30:39.541Z"
   },
   {
    "duration": 351,
    "start_time": "2022-01-02T15:30:39.557Z"
   },
   {
    "duration": 14,
    "start_time": "2022-01-02T15:30:39.910Z"
   },
   {
    "duration": 331,
    "start_time": "2022-01-02T15:30:39.926Z"
   },
   {
    "duration": 15,
    "start_time": "2022-01-02T15:30:40.259Z"
   },
   {
    "duration": 326,
    "start_time": "2022-01-02T15:30:40.275Z"
   },
   {
    "duration": 15,
    "start_time": "2022-01-02T15:30:40.602Z"
   },
   {
    "duration": 331,
    "start_time": "2022-01-02T15:30:40.618Z"
   },
   {
    "duration": 9,
    "start_time": "2022-01-02T15:30:40.951Z"
   },
   {
    "duration": 9,
    "start_time": "2022-01-02T15:30:40.962Z"
   },
   {
    "duration": 23,
    "start_time": "2022-01-02T15:30:40.972Z"
   },
   {
    "duration": 7,
    "start_time": "2022-01-02T15:30:40.996Z"
   }
  ],
  "kernelspec": {
   "display_name": "Python 3 (ipykernel)",
   "language": "python",
   "name": "python3"
  },
  "language_info": {
   "codemirror_mode": {
    "name": "ipython",
    "version": 3
   },
   "file_extension": ".py",
   "mimetype": "text/x-python",
   "name": "python",
   "nbconvert_exporter": "python",
   "pygments_lexer": "ipython3",
   "version": "3.8.8"
  },
  "toc": {
   "base_numbering": 1,
   "nav_menu": {},
   "number_sections": true,
   "sideBar": true,
   "skip_h1_title": true,
   "title_cell": "Table of Contents",
   "title_sidebar": "Contents",
   "toc_cell": false,
   "toc_position": {},
   "toc_section_display": true,
   "toc_window_display": false
  }
 },
 "nbformat": 4,
 "nbformat_minor": 5
}
